{
 "cells": [
  {
   "cell_type": "markdown",
   "metadata": {
    "id": "j5Th7ytlyYLd"
   },
   "source": [
    "### Consumer complaint classification"
   ]
  },
  {
   "cell_type": "code",
   "execution_count": 1,
   "metadata": {
    "id": "syaBn2msz9qM"
   },
   "outputs": [],
   "source": [
    "import pandas as pd\n",
    "import numpy as np\n",
    "import matplotlib.pyplot as plt\n",
    "from sklearn.model_selection import train_test_split,cross_val_score"
   ]
  },
  {
   "cell_type": "code",
   "execution_count": 2,
   "metadata": {
    "id": "CaZq4c5Xz9qV"
   },
   "outputs": [],
   "source": [
    "df = pd.read_csv(\"Consumer_Complaints.csv\")"
   ]
  },
  {
   "cell_type": "code",
   "execution_count": 3,
   "metadata": {
    "id": "lXlL1IMkz9qW"
   },
   "outputs": [
    {
     "data": {
      "text/html": [
       "<div>\n",
       "<style scoped>\n",
       "    .dataframe tbody tr th:only-of-type {\n",
       "        vertical-align: middle;\n",
       "    }\n",
       "\n",
       "    .dataframe tbody tr th {\n",
       "        vertical-align: top;\n",
       "    }\n",
       "\n",
       "    .dataframe thead th {\n",
       "        text-align: right;\n",
       "    }\n",
       "</style>\n",
       "<table border=\"1\" class=\"dataframe\">\n",
       "  <thead>\n",
       "    <tr style=\"text-align: right;\">\n",
       "      <th></th>\n",
       "      <th>Date received</th>\n",
       "      <th>Product</th>\n",
       "      <th>Sub-product</th>\n",
       "      <th>Issue</th>\n",
       "      <th>Sub-issue</th>\n",
       "      <th>Consumer Complaint</th>\n",
       "      <th>Company Public Response</th>\n",
       "      <th>Company</th>\n",
       "      <th>State</th>\n",
       "      <th>ZIP code</th>\n",
       "      <th>Tags</th>\n",
       "      <th>Consumer consent provided?</th>\n",
       "      <th>Submitted via</th>\n",
       "      <th>Date Sent to Company</th>\n",
       "      <th>Company Response to Consumer</th>\n",
       "      <th>Timely response?</th>\n",
       "      <th>Consumer disputed?</th>\n",
       "      <th>Complaint ID</th>\n",
       "    </tr>\n",
       "  </thead>\n",
       "  <tbody>\n",
       "    <tr>\n",
       "      <th>0</th>\n",
       "      <td>3/12/14</td>\n",
       "      <td>Mortgage</td>\n",
       "      <td>Other mortgage</td>\n",
       "      <td>Loan modification,collection,foreclosure</td>\n",
       "      <td>NaN</td>\n",
       "      <td>NaN</td>\n",
       "      <td>NaN</td>\n",
       "      <td>M&amp;T BANK CORPORATION</td>\n",
       "      <td>MI</td>\n",
       "      <td>48382</td>\n",
       "      <td>NaN</td>\n",
       "      <td>NaN</td>\n",
       "      <td>Referral</td>\n",
       "      <td>3/17/14</td>\n",
       "      <td>Closed with explanation</td>\n",
       "      <td>Yes</td>\n",
       "      <td>No</td>\n",
       "      <td>759217</td>\n",
       "    </tr>\n",
       "    <tr>\n",
       "      <th>1</th>\n",
       "      <td>10/1/16</td>\n",
       "      <td>Credit reporting</td>\n",
       "      <td>NaN</td>\n",
       "      <td>Incorrect information on credit report</td>\n",
       "      <td>Account status</td>\n",
       "      <td>I have outdated information on my credit repor...</td>\n",
       "      <td>Company has responded to the consumer and the ...</td>\n",
       "      <td>TRANSUNION INTERMEDIATE HOLDINGS, INC.</td>\n",
       "      <td>AL</td>\n",
       "      <td>352XX</td>\n",
       "      <td>NaN</td>\n",
       "      <td>Consent provided</td>\n",
       "      <td>Web</td>\n",
       "      <td>10/5/16</td>\n",
       "      <td>Closed with explanation</td>\n",
       "      <td>Yes</td>\n",
       "      <td>No</td>\n",
       "      <td>2141773</td>\n",
       "    </tr>\n",
       "    <tr>\n",
       "      <th>2</th>\n",
       "      <td>10/17/16</td>\n",
       "      <td>Consumer Loan</td>\n",
       "      <td>Vehicle loan</td>\n",
       "      <td>Managing the loan or lease</td>\n",
       "      <td>NaN</td>\n",
       "      <td>I purchased a new car on XXXX XXXX. The car de...</td>\n",
       "      <td>NaN</td>\n",
       "      <td>CITIZENS FINANCIAL GROUP, INC.</td>\n",
       "      <td>PA</td>\n",
       "      <td>177XX</td>\n",
       "      <td>Older American</td>\n",
       "      <td>Consent provided</td>\n",
       "      <td>Web</td>\n",
       "      <td>10/20/16</td>\n",
       "      <td>Closed with explanation</td>\n",
       "      <td>Yes</td>\n",
       "      <td>No</td>\n",
       "      <td>2163100</td>\n",
       "    </tr>\n",
       "    <tr>\n",
       "      <th>3</th>\n",
       "      <td>6/8/14</td>\n",
       "      <td>Credit card</td>\n",
       "      <td>NaN</td>\n",
       "      <td>Bankruptcy</td>\n",
       "      <td>NaN</td>\n",
       "      <td>NaN</td>\n",
       "      <td>NaN</td>\n",
       "      <td>AMERICAN EXPRESS COMPANY</td>\n",
       "      <td>ID</td>\n",
       "      <td>83854</td>\n",
       "      <td>Older American</td>\n",
       "      <td>NaN</td>\n",
       "      <td>Web</td>\n",
       "      <td>6/10/14</td>\n",
       "      <td>Closed with explanation</td>\n",
       "      <td>Yes</td>\n",
       "      <td>Yes</td>\n",
       "      <td>885638</td>\n",
       "    </tr>\n",
       "    <tr>\n",
       "      <th>4</th>\n",
       "      <td>9/13/14</td>\n",
       "      <td>Debt collection</td>\n",
       "      <td>Credit card</td>\n",
       "      <td>Communication tactics</td>\n",
       "      <td>Frequent or repeated calls</td>\n",
       "      <td>NaN</td>\n",
       "      <td>NaN</td>\n",
       "      <td>CITIBANK, N.A.</td>\n",
       "      <td>VA</td>\n",
       "      <td>23233</td>\n",
       "      <td>NaN</td>\n",
       "      <td>NaN</td>\n",
       "      <td>Web</td>\n",
       "      <td>9/13/14</td>\n",
       "      <td>Closed with explanation</td>\n",
       "      <td>Yes</td>\n",
       "      <td>Yes</td>\n",
       "      <td>1027760</td>\n",
       "    </tr>\n",
       "  </tbody>\n",
       "</table>\n",
       "</div>"
      ],
      "text/plain": [
       "  Date received           Product     Sub-product  \\\n",
       "0       3/12/14          Mortgage  Other mortgage   \n",
       "1       10/1/16  Credit reporting             NaN   \n",
       "2      10/17/16     Consumer Loan    Vehicle loan   \n",
       "3        6/8/14       Credit card             NaN   \n",
       "4       9/13/14   Debt collection     Credit card   \n",
       "\n",
       "                                      Issue                   Sub-issue  \\\n",
       "0  Loan modification,collection,foreclosure                         NaN   \n",
       "1    Incorrect information on credit report              Account status   \n",
       "2                Managing the loan or lease                         NaN   \n",
       "3                                Bankruptcy                         NaN   \n",
       "4                     Communication tactics  Frequent or repeated calls   \n",
       "\n",
       "                                  Consumer Complaint  \\\n",
       "0                                                NaN   \n",
       "1  I have outdated information on my credit repor...   \n",
       "2  I purchased a new car on XXXX XXXX. The car de...   \n",
       "3                                                NaN   \n",
       "4                                                NaN   \n",
       "\n",
       "                             Company Public Response  \\\n",
       "0                                                NaN   \n",
       "1  Company has responded to the consumer and the ...   \n",
       "2                                                NaN   \n",
       "3                                                NaN   \n",
       "4                                                NaN   \n",
       "\n",
       "                                  Company State ZIP code            Tags  \\\n",
       "0                    M&T BANK CORPORATION    MI    48382             NaN   \n",
       "1  TRANSUNION INTERMEDIATE HOLDINGS, INC.    AL    352XX             NaN   \n",
       "2          CITIZENS FINANCIAL GROUP, INC.    PA    177XX  Older American   \n",
       "3                AMERICAN EXPRESS COMPANY    ID    83854  Older American   \n",
       "4                          CITIBANK, N.A.    VA    23233             NaN   \n",
       "\n",
       "  Consumer consent provided? Submitted via Date Sent to Company  \\\n",
       "0                        NaN      Referral              3/17/14   \n",
       "1           Consent provided           Web              10/5/16   \n",
       "2           Consent provided           Web             10/20/16   \n",
       "3                        NaN           Web              6/10/14   \n",
       "4                        NaN           Web              9/13/14   \n",
       "\n",
       "  Company Response to Consumer Timely response? Consumer disputed?  \\\n",
       "0      Closed with explanation              Yes                 No   \n",
       "1      Closed with explanation              Yes                 No   \n",
       "2      Closed with explanation              Yes                 No   \n",
       "3      Closed with explanation              Yes                Yes   \n",
       "4      Closed with explanation              Yes                Yes   \n",
       "\n",
       "   Complaint ID  \n",
       "0        759217  \n",
       "1       2141773  \n",
       "2       2163100  \n",
       "3        885638  \n",
       "4       1027760  "
      ]
     },
     "execution_count": 3,
     "metadata": {},
     "output_type": "execute_result"
    }
   ],
   "source": [
    "df.head()"
   ]
  },
  {
   "cell_type": "code",
   "execution_count": 4,
   "metadata": {
    "id": "jOcrAR_wz9qX"
   },
   "outputs": [
    {
     "data": {
      "text/plain": [
       "(9999, 18)"
      ]
     },
     "execution_count": 4,
     "metadata": {},
     "output_type": "execute_result"
    }
   ],
   "source": [
    "df.shape"
   ]
  },
  {
   "cell_type": "code",
   "execution_count": 5,
   "metadata": {
    "id": "wtIhWQ-sz9qX"
   },
   "outputs": [],
   "source": [
    "col = ['Product', 'Consumer Complaint']\n",
    "df= df[col]"
   ]
  },
  {
   "cell_type": "code",
   "execution_count": 6,
   "metadata": {
    "id": "OsuKzKRXz9qY"
   },
   "outputs": [],
   "source": [
    "df= df[pd.notnull(df['Consumer Complaint'])]"
   ]
  },
  {
   "cell_type": "code",
   "execution_count": 7,
   "metadata": {
    "id": "qFCPGi7Nz9qY"
   },
   "outputs": [],
   "source": [
    "df.columns=['Product', 'Consumer_complaint']"
   ]
  },
  {
   "cell_type": "code",
   "execution_count": 8,
   "metadata": {
    "id": "Oj68RWwCz9qY"
   },
   "outputs": [],
   "source": [
    "df['category_id'] = df['Product'].factorize()[0]"
   ]
  },
  {
   "cell_type": "code",
   "execution_count": 9,
   "metadata": {
    "id": "8f44H68mz9qY"
   },
   "outputs": [],
   "source": [
    "cat_id_df = df[[\"Product\", \"category_id\"]].drop_duplicates().sort_values('category_id')"
   ]
  },
  {
   "cell_type": "code",
   "execution_count": 10,
   "metadata": {
    "id": "qscNmta6z9qZ"
   },
   "outputs": [],
   "source": [
    "cat_to_id = dict(cat_id_df.values)"
   ]
  },
  {
   "cell_type": "code",
   "execution_count": 11,
   "metadata": {
    "id": "IbfPRlk4z9qZ"
   },
   "outputs": [],
   "source": [
    "id_to_cat = dict(cat_id_df[['category_id','Product']].values)"
   ]
  },
  {
   "cell_type": "code",
   "execution_count": 12,
   "metadata": {
    "id": "bbBd8I5nz9qZ"
   },
   "outputs": [
    {
     "data": {
      "text/html": [
       "<div>\n",
       "<style scoped>\n",
       "    .dataframe tbody tr th:only-of-type {\n",
       "        vertical-align: middle;\n",
       "    }\n",
       "\n",
       "    .dataframe tbody tr th {\n",
       "        vertical-align: top;\n",
       "    }\n",
       "\n",
       "    .dataframe thead th {\n",
       "        text-align: right;\n",
       "    }\n",
       "</style>\n",
       "<table border=\"1\" class=\"dataframe\">\n",
       "  <thead>\n",
       "    <tr style=\"text-align: right;\">\n",
       "      <th></th>\n",
       "      <th>Product</th>\n",
       "      <th>Consumer_complaint</th>\n",
       "      <th>category_id</th>\n",
       "    </tr>\n",
       "  </thead>\n",
       "  <tbody>\n",
       "    <tr>\n",
       "      <th>1</th>\n",
       "      <td>Credit reporting</td>\n",
       "      <td>I have outdated information on my credit repor...</td>\n",
       "      <td>0</td>\n",
       "    </tr>\n",
       "    <tr>\n",
       "      <th>2</th>\n",
       "      <td>Consumer Loan</td>\n",
       "      <td>I purchased a new car on XXXX XXXX. The car de...</td>\n",
       "      <td>1</td>\n",
       "    </tr>\n",
       "    <tr>\n",
       "      <th>7</th>\n",
       "      <td>Credit reporting</td>\n",
       "      <td>An account on my credit report has a mistaken ...</td>\n",
       "      <td>0</td>\n",
       "    </tr>\n",
       "    <tr>\n",
       "      <th>12</th>\n",
       "      <td>Debt collection</td>\n",
       "      <td>This company refuses to provide me verificatio...</td>\n",
       "      <td>2</td>\n",
       "    </tr>\n",
       "    <tr>\n",
       "      <th>16</th>\n",
       "      <td>Debt collection</td>\n",
       "      <td>This complaint is in regards to Square Two Fin...</td>\n",
       "      <td>2</td>\n",
       "    </tr>\n",
       "  </tbody>\n",
       "</table>\n",
       "</div>"
      ],
      "text/plain": [
       "             Product                                 Consumer_complaint  \\\n",
       "1   Credit reporting  I have outdated information on my credit repor...   \n",
       "2      Consumer Loan  I purchased a new car on XXXX XXXX. The car de...   \n",
       "7   Credit reporting  An account on my credit report has a mistaken ...   \n",
       "12   Debt collection  This company refuses to provide me verificatio...   \n",
       "16   Debt collection  This complaint is in regards to Square Two Fin...   \n",
       "\n",
       "    category_id  \n",
       "1             0  \n",
       "2             1  \n",
       "7             0  \n",
       "12            2  \n",
       "16            2  "
      ]
     },
     "execution_count": 12,
     "metadata": {},
     "output_type": "execute_result"
    }
   ],
   "source": [
    "df.head()"
   ]
  },
  {
   "cell_type": "code",
   "execution_count": 13,
   "metadata": {
    "id": "ADeUeGaCz9qa"
   },
   "outputs": [
    {
     "data": {
      "text/plain": [
       "<Figure size 800x600 with 0 Axes>"
      ]
     },
     "metadata": {},
     "output_type": "display_data"
    }
   ],
   "source": [
    "fig = plt.figure(figsize= (8,6))"
   ]
  },
  {
   "cell_type": "code",
   "execution_count": 14,
   "metadata": {
    "id": "itVydsoKz9qa"
   },
   "outputs": [
    {
     "data": {
      "text/plain": [
       "<Axes: xlabel='Product'>"
      ]
     },
     "execution_count": 14,
     "metadata": {},
     "output_type": "execute_result"
    },
    {
     "data": {
      "image/png": "[encoded data removed]",
      "text/plain": [
       "<Figure size 640x480 with 1 Axes>"
      ]
     },
     "metadata": {},
     "output_type": "display_data"
    }
   ],
   "source": [
    "df.groupby('Product').Consumer_complaint.count().plot.bar(ylim=0)"
   ]
  },
  {
   "cell_type": "code",
   "execution_count": 15,
   "metadata": {
    "id": "4wQAI_tmz9qa"
   },
   "outputs": [],
   "source": [
    "from sklearn.feature_extraction.text import TfidfVectorizer"
   ]
  },
  {
   "cell_type": "code",
   "execution_count": 16,
   "metadata": {
    "id": "g_hcAYj3z9qa"
   },
   "outputs": [],
   "source": [
    "tfidf = TfidfVectorizer(sublinear_tf= True, #use a logarithmic form for frequency\n",
    "                       min_df = 5, #minimum numbers of documents a word must be present in to be kept\n",
    "                       norm= 'l2', #ensure all our feature vectors have a euclidian norm of 1\n",
    "                       ngram_range= (1,2), #to indicate that we want to consider both unigrams and bigrams.\n",
    "                       stop_words ='english') #to remove all common pronouns to reduce the number of noisy features"
   ]
  },
  {
   "cell_type": "code",
   "execution_count": 17,
   "metadata": {
    "id": "T-iY9opBz9qb"
   },
   "outputs": [],
   "source": [
    "features = tfidf.fit_transform(df.Consumer_complaint).toarray()"
   ]
  },
  {
   "cell_type": "code",
   "execution_count": 18,
   "metadata": {
    "id": "ExRt0oxgz9qb"
   },
   "outputs": [
    {
     "data": {
      "text/plain": [
       "(2114, 6081)"
      ]
     },
     "execution_count": 18,
     "metadata": {},
     "output_type": "execute_result"
    }
   ],
   "source": [
    "labels = df.category_id\n",
    "features.shape"
   ]
  },
  {
   "cell_type": "code",
   "execution_count": 19,
   "metadata": {
    "id": "X998eeOdz9qb"
   },
   "outputs": [],
   "source": [
    "from sklearn.model_selection import train_test_split"
   ]
  },
  {
   "cell_type": "code",
   "execution_count": 20,
   "metadata": {
    "id": "S4pYYfWaz9qb"
   },
   "outputs": [],
   "source": [
    "X_train, X_test, y_train, y_test = train_test_split(df['Consumer_complaint'], df['Product'], random_state= 0)"
   ]
  },
  {
   "cell_type": "code",
   "execution_count": 21,
   "metadata": {
    "id": "4VDFOQ9Cz9qb"
   },
   "outputs": [],
   "source": [
    "from sklearn.feature_extraction.text import CountVectorizer"
   ]
  },
  {
   "cell_type": "code",
   "execution_count": 22,
   "metadata": {
    "id": "qeIwURBlz9qb"
   },
   "outputs": [],
   "source": [
    "count_vect = CountVectorizer()"
   ]
  },
  {
   "cell_type": "code",
   "execution_count": 23,
   "metadata": {
    "id": "uD2hwGBBz9qc"
   },
   "outputs": [],
   "source": [
    "from sklearn.feature_extraction.text import TfidfTransformer"
   ]
  },
  {
   "cell_type": "code",
   "execution_count": 24,
   "metadata": {
    "id": "xBk1nosUz9qc"
   },
   "outputs": [],
   "source": [
    "X_train_counts = count_vect.fit_transform(X_train)\n",
    "tfidf_transformer = TfidfTransformer()\n",
    "X_train_tfidf = tfidf_transformer.fit_transform(X_train_counts)"
   ]
  },
  {
   "cell_type": "markdown",
   "metadata": {
    "id": "TIoUMScDIQP2"
   },
   "source": [
    "### Model Building"
   ]
  },
  {
   "cell_type": "code",
   "execution_count": 25,
   "metadata": {
    "id": "zmDAho-Uz9qc"
   },
   "outputs": [],
   "source": [
    "from sklearn.svm import LinearSVC\n",
    "clf = LinearSVC().fit(X_train_tfidf, y_train)"
   ]
  },
  {
   "cell_type": "code",
   "execution_count": 26,
   "metadata": {
    "id": "5krFWmH7z9qc"
   },
   "outputs": [
    {
     "name": "stdout",
     "output_type": "stream",
     "text": [
      "['Credit reporting']\n"
     ]
    }
   ],
   "source": [
    "print(clf.predict(count_vect.transform(['I have outdated information on my credit repor'])))"
   ]
  },
  {
   "cell_type": "code",
   "execution_count": 27,
   "metadata": {
    "id": "elOPO0w8z9qc"
   },
   "outputs": [],
   "source": [
    "y_pred = clf.predict(count_vect.transform(X_test))"
   ]
  },
  {
   "cell_type": "code",
   "execution_count": 28,
   "metadata": {
    "id": "n-E9hk0tz9qd"
   },
   "outputs": [],
   "source": [
    "from sklearn import metrics"
   ]
  },
  {
   "cell_type": "code",
   "execution_count": 29,
   "metadata": {
    "id": "N2y8_1SJz9qd"
   },
   "outputs": [
    {
     "name": "stdout",
     "output_type": "stream",
     "text": [
      "                                                                              precision    recall  f1-score   support\n",
      "\n",
      "                                                     Bank account or service       0.60      0.80      0.69        44\n",
      "                                                               Consumer Loan       0.36      0.43      0.39        21\n",
      "                                                                 Credit card       0.69      0.78      0.73        72\n",
      "                                                            Credit reporting       0.70      0.87      0.77        91\n",
      "Credit reporting, credit repair services, or other personal consumer reports       0.00      0.00      0.00         2\n",
      "                                                             Debt collection       0.86      0.69      0.76       124\n",
      "                                                             Money transfers       0.20      0.09      0.13        11\n",
      "                                                                    Mortgage       0.86      0.89      0.88       113\n",
      "                                                     Other financial service       0.00      0.00      0.00         1\n",
      "                                                                 Payday loan       0.00      0.00      0.00         8\n",
      "                                                                Prepaid card       0.00      0.00      0.00         8\n",
      "                                                                Student loan       0.83      0.74      0.78        34\n",
      "\n",
      "                                                                    accuracy                           0.74       529\n",
      "                                                                   macro avg       0.43      0.44      0.43       529\n",
      "                                                                weighted avg       0.72      0.74      0.72       529\n",
      "\n"
     ]
    },
    {
     "name": "stderr",
     "output_type": "stream",
     "text": [
      "C:\\Users\\range\\anaconda3\\Lib\\site-packages\\sklearn\\metrics\\_classification.py:1344: UndefinedMetricWarning: Precision and F-score are ill-defined and being set to 0.0 in labels with no predicted samples. Use `zero_division` parameter to control this behavior.\n",
      "  _warn_prf(average, modifier, msg_start, len(result))\n",
      "C:\\Users\\range\\anaconda3\\Lib\\site-packages\\sklearn\\metrics\\_classification.py:1344: UndefinedMetricWarning: Precision and F-score are ill-defined and being set to 0.0 in labels with no predicted samples. Use `zero_division` parameter to control this behavior.\n",
      "  _warn_prf(average, modifier, msg_start, len(result))\n",
      "C:\\Users\\range\\anaconda3\\Lib\\site-packages\\sklearn\\metrics\\_classification.py:1344: UndefinedMetricWarning: Precision and F-score are ill-defined and being set to 0.0 in labels with no predicted samples. Use `zero_division` parameter to control this behavior.\n",
      "  _warn_prf(average, modifier, msg_start, len(result))\n"
     ]
    }
   ],
   "source": [
    "print(metrics.classification_report(y_test,y_pred))"
   ]
  },
  {
   "cell_type": "code",
   "execution_count": 30,
   "metadata": {
    "id": "nlSh_ZYRz9qd"
   },
   "outputs": [],
   "source": [
    "from sklearn.pipeline import Pipeline"
   ]
  },
  {
   "cell_type": "code",
   "execution_count": 31,
   "metadata": {
    "id": "dCCgdOWmz9qd"
   },
   "outputs": [],
   "source": [
    "text_clf=Pipeline([('tf',TfidfVectorizer(sublinear_tf= True, \n",
    "                       min_df = 5, \n",
    "                       norm= 'l2', \n",
    "                       ngram_range= (1,2), \n",
    "                       stop_words ='english') ),\n",
    "                 ('clf',LinearSVC())])"
   ]
  },
  {
   "cell_type": "code",
   "execution_count": 32,
   "metadata": {
    "id": "Ddqp-XVTz9qd"
   },
   "outputs": [
    {
     "data": {
      "text/html": [
       "<style>#sk-container-id-1 {color: black;background-color: white;}#sk-container-id-1 pre{padding: 0;}#sk-container-id-1 div.sk-toggleable {background-color: white;}#sk-container-id-1 label.sk-toggleable__label {cursor: pointer;display: block;width: 100%;margin-bottom: 0;padding: 0.3em;box-sizing: border-box;text-align: center;}#sk-container-id-1 label.sk-toggleable__label-arrow:before {content: \"▸\";float: left;margin-right: 0.25em;color: #696969;}#sk-container-id-1 label.sk-toggleable__label-arrow:hover:before {color: black;}#sk-container-id-1 div.sk-estimator:hover label.sk-toggleable__label-arrow:before {color: black;}#sk-container-id-1 div.sk-toggleable__content {max-height: 0;max-width: 0;overflow: hidden;text-align: left;background-color: #f0f8ff;}#sk-container-id-1 div.sk-toggleable__content pre {margin: 0.2em;color: black;border-radius: 0.25em;background-color: #f0f8ff;}#sk-container-id-1 input.sk-toggleable__control:checked~div.sk-toggleable__content {max-height: 200px;max-width: 100%;overflow: auto;}#sk-container-id-1 input.sk-toggleable__control:checked~label.sk-toggleable__label-arrow:before {content: \"▾\";}#sk-container-id-1 div.sk-estimator input.sk-toggleable__control:checked~label.sk-toggleable__label {background-color: #d4ebff;}#sk-container-id-1 div.sk-label input.sk-toggleable__control:checked~label.sk-toggleable__label {background-color: #d4ebff;}#sk-container-id-1 input.sk-hidden--visually {border: 0;clip: rect(1px 1px 1px 1px);clip: rect(1px, 1px, 1px, 1px);height: 1px;margin: -1px;overflow: hidden;padding: 0;position: absolute;width: 1px;}#sk-container-id-1 div.sk-estimator {font-family: monospace;background-color: #f0f8ff;border: 1px dotted black;border-radius: 0.25em;box-sizing: border-box;margin-bottom: 0.5em;}#sk-container-id-1 div.sk-estimator:hover {background-color: #d4ebff;}#sk-container-id-1 div.sk-parallel-item::after {content: \"\";width: 100%;border-bottom: 1px solid gray;flex-grow: 1;}#sk-container-id-1 div.sk-label:hover label.sk-toggleable__label {background-color: #d4ebff;}#sk-container-id-1 div.sk-serial::before {content: \"\";position: absolute;border-left: 1px solid gray;box-sizing: border-box;top: 0;bottom: 0;left: 50%;z-index: 0;}#sk-container-id-1 div.sk-serial {display: flex;flex-direction: column;align-items: center;background-color: white;padding-right: 0.2em;padding-left: 0.2em;position: relative;}#sk-container-id-1 div.sk-item {position: relative;z-index: 1;}#sk-container-id-1 div.sk-parallel {display: flex;align-items: stretch;justify-content: center;background-color: white;position: relative;}#sk-container-id-1 div.sk-item::before, #sk-container-id-1 div.sk-parallel-item::before {content: \"\";position: absolute;border-left: 1px solid gray;box-sizing: border-box;top: 0;bottom: 0;left: 50%;z-index: -1;}#sk-container-id-1 div.sk-parallel-item {display: flex;flex-direction: column;z-index: 1;position: relative;background-color: white;}#sk-container-id-1 div.sk-parallel-item:first-child::after {align-self: flex-end;width: 50%;}#sk-container-id-1 div.sk-parallel-item:last-child::after {align-self: flex-start;width: 50%;}#sk-container-id-1 div.sk-parallel-item:only-child::after {width: 0;}#sk-container-id-1 div.sk-dashed-wrapped {border: 1px dashed gray;margin: 0 0.4em 0.5em 0.4em;box-sizing: border-box;padding-bottom: 0.4em;background-color: white;}#sk-container-id-1 div.sk-label label {font-family: monospace;font-weight: bold;display: inline-block;line-height: 1.2em;}#sk-container-id-1 div.sk-label-container {text-align: center;}#sk-container-id-1 div.sk-container {/* jupyter's `normalize.less` sets `[hidden] { display: none; }` but bootstrap.min.css set `[hidden] { display: none !important; }` so we also need the `!important` here to be able to override the default hidden behavior on the sphinx rendered scikit-learn.org. See: https://github.com/scikit-learn/scikit-learn/issues/21755 */display: inline-block !important;position: relative;}#sk-container-id-1 div.sk-text-repr-fallback {display: none;}</style><div id=\"sk-container-id-1\" class=\"sk-top-container\"><div class=\"sk-text-repr-fallback\"><pre>Pipeline(steps=[(&#x27;tf&#x27;,\n",
       "                 TfidfVectorizer(min_df=5, ngram_range=(1, 2),\n",
       "                                 stop_words=&#x27;english&#x27;, sublinear_tf=True)),\n",
       "                (&#x27;clf&#x27;, LinearSVC())])</pre><b>In a Jupyter environment, please rerun this cell to show the HTML representation or trust the notebook. <br />On GitHub, the HTML representation is unable to render, please try loading this page with nbviewer.org.</b></div><div class=\"sk-container\" hidden><div class=\"sk-item sk-dashed-wrapped\"><div class=\"sk-label-container\"><div class=\"sk-label sk-toggleable\"><input class=\"sk-toggleable__control sk-hidden--visually\" id=\"sk-estimator-id-1\" type=\"checkbox\" ><label for=\"sk-estimator-id-1\" class=\"sk-toggleable__label sk-toggleable__label-arrow\">Pipeline</label><div class=\"sk-toggleable__content\"><pre>Pipeline(steps=[(&#x27;tf&#x27;,\n",
       "                 TfidfVectorizer(min_df=5, ngram_range=(1, 2),\n",
       "                                 stop_words=&#x27;english&#x27;, sublinear_tf=True)),\n",
       "                (&#x27;clf&#x27;, LinearSVC())])</pre></div></div></div><div class=\"sk-serial\"><div class=\"sk-item\"><div class=\"sk-estimator sk-toggleable\"><input class=\"sk-toggleable__control sk-hidden--visually\" id=\"sk-estimator-id-2\" type=\"checkbox\" ><label for=\"sk-estimator-id-2\" class=\"sk-toggleable__label sk-toggleable__label-arrow\">TfidfVectorizer</label><div class=\"sk-toggleable__content\"><pre>TfidfVectorizer(min_df=5, ngram_range=(1, 2), stop_words=&#x27;english&#x27;,\n",
       "                sublinear_tf=True)</pre></div></div></div><div class=\"sk-item\"><div class=\"sk-estimator sk-toggleable\"><input class=\"sk-toggleable__control sk-hidden--visually\" id=\"sk-estimator-id-3\" type=\"checkbox\" ><label for=\"sk-estimator-id-3\" class=\"sk-toggleable__label sk-toggleable__label-arrow\">LinearSVC</label><div class=\"sk-toggleable__content\"><pre>LinearSVC()</pre></div></div></div></div></div></div></div>"
      ],
      "text/plain": [
       "Pipeline(steps=[('tf',\n",
       "                 TfidfVectorizer(min_df=5, ngram_range=(1, 2),\n",
       "                                 stop_words='english', sublinear_tf=True)),\n",
       "                ('clf', LinearSVC())])"
      ]
     },
     "execution_count": 32,
     "metadata": {},
     "output_type": "execute_result"
    }
   ],
   "source": [
    "text_clf.fit(X_train, y_train)"
   ]
  },
  {
   "cell_type": "code",
   "execution_count": 33,
   "metadata": {
    "id": "QMIwVs3Mz9qe"
   },
   "outputs": [
    {
     "data": {
      "text/plain": [
       "'Credit reporting'"
      ]
     },
     "execution_count": 33,
     "metadata": {},
     "output_type": "execute_result"
    }
   ],
   "source": [
    "text_clf.predict(['I have outdated information on my credit repor'])[0]"
   ]
  },
  {
   "cell_type": "code",
   "execution_count": 34,
   "metadata": {
    "id": "qznw4ri0xWA0"
   },
   "outputs": [
    {
     "name": "stderr",
     "output_type": "stream",
     "text": [
      "C:\\Users\\range\\anaconda3\\Lib\\site-packages\\sklearn\\model_selection\\_split.py:700: UserWarning: The least populated class in y has only 1 members, which is less than n_splits=5.\n",
      "  warnings.warn(\n"
     ]
    },
    {
     "name": "stdout",
     "output_type": "stream",
     "text": [
      "0.7936908517350157\n"
     ]
    }
   ],
   "source": [
    "cv_results = cross_val_score(text_clf, \n",
    "                                 X_train, y_train, \n",
    "                                 cv=5,\n",
    "                                 scoring=\"accuracy\",\n",
    "                                 n_jobs=-1)\n",
    "print(np.mean(cv_results))"
   ]
  },
  {
   "cell_type": "code",
   "execution_count": 35,
   "metadata": {
    "id": "ofTRSPWnz9qe"
   },
   "outputs": [],
   "source": [
    "from sklearn.naive_bayes import BernoulliNB"
   ]
  },
  {
   "cell_type": "code",
   "execution_count": 36,
   "metadata": {
    "id": "T6nqDWpSz9qf"
   },
   "outputs": [],
   "source": [
    "mb=BernoulliNB()"
   ]
  },
  {
   "cell_type": "code",
   "execution_count": 37,
   "metadata": {
    "id": "mfG8mv3Bz9qg"
   },
   "outputs": [],
   "source": [
    "text_clf=Pipeline([('tf',TfidfVectorizer(sublinear_tf= True, \n",
    "                       min_df = 5, \n",
    "                       norm= 'l2', \n",
    "                       ngram_range= (1,2), \n",
    "                       stop_words ='english') ),\n",
    "                 ('clf',BernoulliNB())])"
   ]
  },
  {
   "cell_type": "code",
   "execution_count": 38,
   "metadata": {
    "id": "TbSvQdZ1z9qk"
   },
   "outputs": [
    {
     "data": {
      "text/html": [
       "<style>#sk-container-id-2 {color: black;background-color: white;}#sk-container-id-2 pre{padding: 0;}#sk-container-id-2 div.sk-toggleable {background-color: white;}#sk-container-id-2 label.sk-toggleable__label {cursor: pointer;display: block;width: 100%;margin-bottom: 0;padding: 0.3em;box-sizing: border-box;text-align: center;}#sk-container-id-2 label.sk-toggleable__label-arrow:before {content: \"▸\";float: left;margin-right: 0.25em;color: #696969;}#sk-container-id-2 label.sk-toggleable__label-arrow:hover:before {color: black;}#sk-container-id-2 div.sk-estimator:hover label.sk-toggleable__label-arrow:before {color: black;}#sk-container-id-2 div.sk-toggleable__content {max-height: 0;max-width: 0;overflow: hidden;text-align: left;background-color: #f0f8ff;}#sk-container-id-2 div.sk-toggleable__content pre {margin: 0.2em;color: black;border-radius: 0.25em;background-color: #f0f8ff;}#sk-container-id-2 input.sk-toggleable__control:checked~div.sk-toggleable__content {max-height: 200px;max-width: 100%;overflow: auto;}#sk-container-id-2 input.sk-toggleable__control:checked~label.sk-toggleable__label-arrow:before {content: \"▾\";}#sk-container-id-2 div.sk-estimator input.sk-toggleable__control:checked~label.sk-toggleable__label {background-color: #d4ebff;}#sk-container-id-2 div.sk-label input.sk-toggleable__control:checked~label.sk-toggleable__label {background-color: #d4ebff;}#sk-container-id-2 input.sk-hidden--visually {border: 0;clip: rect(1px 1px 1px 1px);clip: rect(1px, 1px, 1px, 1px);height: 1px;margin: -1px;overflow: hidden;padding: 0;position: absolute;width: 1px;}#sk-container-id-2 div.sk-estimator {font-family: monospace;background-color: #f0f8ff;border: 1px dotted black;border-radius: 0.25em;box-sizing: border-box;margin-bottom: 0.5em;}#sk-container-id-2 div.sk-estimator:hover {background-color: #d4ebff;}#sk-container-id-2 div.sk-parallel-item::after {content: \"\";width: 100%;border-bottom: 1px solid gray;flex-grow: 1;}#sk-container-id-2 div.sk-label:hover label.sk-toggleable__label {background-color: #d4ebff;}#sk-container-id-2 div.sk-serial::before {content: \"\";position: absolute;border-left: 1px solid gray;box-sizing: border-box;top: 0;bottom: 0;left: 50%;z-index: 0;}#sk-container-id-2 div.sk-serial {display: flex;flex-direction: column;align-items: center;background-color: white;padding-right: 0.2em;padding-left: 0.2em;position: relative;}#sk-container-id-2 div.sk-item {position: relative;z-index: 1;}#sk-container-id-2 div.sk-parallel {display: flex;align-items: stretch;justify-content: center;background-color: white;position: relative;}#sk-container-id-2 div.sk-item::before, #sk-container-id-2 div.sk-parallel-item::before {content: \"\";position: absolute;border-left: 1px solid gray;box-sizing: border-box;top: 0;bottom: 0;left: 50%;z-index: -1;}#sk-container-id-2 div.sk-parallel-item {display: flex;flex-direction: column;z-index: 1;position: relative;background-color: white;}#sk-container-id-2 div.sk-parallel-item:first-child::after {align-self: flex-end;width: 50%;}#sk-container-id-2 div.sk-parallel-item:last-child::after {align-self: flex-start;width: 50%;}#sk-container-id-2 div.sk-parallel-item:only-child::after {width: 0;}#sk-container-id-2 div.sk-dashed-wrapped {border: 1px dashed gray;margin: 0 0.4em 0.5em 0.4em;box-sizing: border-box;padding-bottom: 0.4em;background-color: white;}#sk-container-id-2 div.sk-label label {font-family: monospace;font-weight: bold;display: inline-block;line-height: 1.2em;}#sk-container-id-2 div.sk-label-container {text-align: center;}#sk-container-id-2 div.sk-container {/* jupyter's `normalize.less` sets `[hidden] { display: none; }` but bootstrap.min.css set `[hidden] { display: none !important; }` so we also need the `!important` here to be able to override the default hidden behavior on the sphinx rendered scikit-learn.org. See: https://github.com/scikit-learn/scikit-learn/issues/21755 */display: inline-block !important;position: relative;}#sk-container-id-2 div.sk-text-repr-fallback {display: none;}</style><div id=\"sk-container-id-2\" class=\"sk-top-container\"><div class=\"sk-text-repr-fallback\"><pre>Pipeline(steps=[(&#x27;tf&#x27;,\n",
       "                 TfidfVectorizer(min_df=5, ngram_range=(1, 2),\n",
       "                                 stop_words=&#x27;english&#x27;, sublinear_tf=True)),\n",
       "                (&#x27;clf&#x27;, BernoulliNB())])</pre><b>In a Jupyter environment, please rerun this cell to show the HTML representation or trust the notebook. <br />On GitHub, the HTML representation is unable to render, please try loading this page with nbviewer.org.</b></div><div class=\"sk-container\" hidden><div class=\"sk-item sk-dashed-wrapped\"><div class=\"sk-label-container\"><div class=\"sk-label sk-toggleable\"><input class=\"sk-toggleable__control sk-hidden--visually\" id=\"sk-estimator-id-4\" type=\"checkbox\" ><label for=\"sk-estimator-id-4\" class=\"sk-toggleable__label sk-toggleable__label-arrow\">Pipeline</label><div class=\"sk-toggleable__content\"><pre>Pipeline(steps=[(&#x27;tf&#x27;,\n",
       "                 TfidfVectorizer(min_df=5, ngram_range=(1, 2),\n",
       "                                 stop_words=&#x27;english&#x27;, sublinear_tf=True)),\n",
       "                (&#x27;clf&#x27;, BernoulliNB())])</pre></div></div></div><div class=\"sk-serial\"><div class=\"sk-item\"><div class=\"sk-estimator sk-toggleable\"><input class=\"sk-toggleable__control sk-hidden--visually\" id=\"sk-estimator-id-5\" type=\"checkbox\" ><label for=\"sk-estimator-id-5\" class=\"sk-toggleable__label sk-toggleable__label-arrow\">TfidfVectorizer</label><div class=\"sk-toggleable__content\"><pre>TfidfVectorizer(min_df=5, ngram_range=(1, 2), stop_words=&#x27;english&#x27;,\n",
       "                sublinear_tf=True)</pre></div></div></div><div class=\"sk-item\"><div class=\"sk-estimator sk-toggleable\"><input class=\"sk-toggleable__control sk-hidden--visually\" id=\"sk-estimator-id-6\" type=\"checkbox\" ><label for=\"sk-estimator-id-6\" class=\"sk-toggleable__label sk-toggleable__label-arrow\">BernoulliNB</label><div class=\"sk-toggleable__content\"><pre>BernoulliNB()</pre></div></div></div></div></div></div></div>"
      ],
      "text/plain": [
       "Pipeline(steps=[('tf',\n",
       "                 TfidfVectorizer(min_df=5, ngram_range=(1, 2),\n",
       "                                 stop_words='english', sublinear_tf=True)),\n",
       "                ('clf', BernoulliNB())])"
      ]
     },
     "execution_count": 38,
     "metadata": {},
     "output_type": "execute_result"
    }
   ],
   "source": [
    "text_clf.fit(X_train, y_train)"
   ]
  },
  {
   "cell_type": "code",
   "execution_count": 39,
   "metadata": {
    "id": "x5BztWuEz9qk"
   },
   "outputs": [
    {
     "data": {
      "text/plain": [
       "'Credit reporting'"
      ]
     },
     "execution_count": 39,
     "metadata": {},
     "output_type": "execute_result"
    }
   ],
   "source": [
    "text_clf.predict(['I have outdated information on my credit repor'])[0]"
   ]
  },
  {
   "cell_type": "code",
   "execution_count": 40,
   "metadata": {
    "id": "-Mx4T62Oz9ql"
   },
   "outputs": [],
   "source": [
    "y_pred=text_clf.predict(X_test)"
   ]
  },
  {
   "cell_type": "code",
   "execution_count": 41,
   "metadata": {
    "id": "zKubUxBPz9ql"
   },
   "outputs": [
    {
     "name": "stdout",
     "output_type": "stream",
     "text": [
      "                                                                              precision    recall  f1-score   support\n",
      "\n",
      "                                                     Bank account or service       0.71      0.55      0.62        44\n",
      "                                                               Consumer Loan       0.50      0.14      0.22        21\n",
      "                                                                 Credit card       0.69      0.60      0.64        72\n",
      "                                                            Credit reporting       0.60      0.92      0.73        91\n",
      "Credit reporting, credit repair services, or other personal consumer reports       0.00      0.00      0.00         2\n",
      "                                                             Debt collection       0.63      0.84      0.72       124\n",
      "                                                             Money transfers       0.00      0.00      0.00        11\n",
      "                                                                    Mortgage       0.87      0.76      0.81       113\n",
      "                                                     Other financial service       0.00      0.00      0.00         1\n",
      "                                                                 Payday loan       0.00      0.00      0.00         8\n",
      "                                                                Prepaid card       0.00      0.00      0.00         8\n",
      "                                                                Student loan       0.91      0.59      0.71        34\n",
      "\n",
      "                                                                    accuracy                           0.69       529\n",
      "                                                                   macro avg       0.41      0.37      0.37       529\n",
      "                                                                weighted avg       0.67      0.69      0.66       529\n",
      "\n"
     ]
    },
    {
     "name": "stderr",
     "output_type": "stream",
     "text": [
      "C:\\Users\\range\\anaconda3\\Lib\\site-packages\\sklearn\\metrics\\_classification.py:1344: UndefinedMetricWarning: Precision and F-score are ill-defined and being set to 0.0 in labels with no predicted samples. Use `zero_division` parameter to control this behavior.\n",
      "  _warn_prf(average, modifier, msg_start, len(result))\n",
      "C:\\Users\\range\\anaconda3\\Lib\\site-packages\\sklearn\\metrics\\_classification.py:1344: UndefinedMetricWarning: Precision and F-score are ill-defined and being set to 0.0 in labels with no predicted samples. Use `zero_division` parameter to control this behavior.\n",
      "  _warn_prf(average, modifier, msg_start, len(result))\n",
      "C:\\Users\\range\\anaconda3\\Lib\\site-packages\\sklearn\\metrics\\_classification.py:1344: UndefinedMetricWarning: Precision and F-score are ill-defined and being set to 0.0 in labels with no predicted samples. Use `zero_division` parameter to control this behavior.\n",
      "  _warn_prf(average, modifier, msg_start, len(result))\n"
     ]
    }
   ],
   "source": [
    "print(metrics.classification_report(y_test,y_pred))"
   ]
  },
  {
   "cell_type": "code",
   "execution_count": 42,
   "metadata": {
    "id": "4QJLftR1xecR"
   },
   "outputs": [
    {
     "name": "stderr",
     "output_type": "stream",
     "text": [
      "C:\\Users\\range\\anaconda3\\Lib\\site-packages\\sklearn\\model_selection\\_split.py:700: UserWarning: The least populated class in y has only 1 members, which is less than n_splits=5.\n",
      "  warnings.warn(\n"
     ]
    },
    {
     "name": "stdout",
     "output_type": "stream",
     "text": [
      "0.6580441640378549\n"
     ]
    }
   ],
   "source": [
    "cv_results = cross_val_score(text_clf, \n",
    "                                 X_train, y_train, \n",
    "                                 cv=5,\n",
    "                                 scoring=\"accuracy\",\n",
    "                                 n_jobs=-1)\n",
    "print(np.mean(cv_results))"
   ]
  },
  {
   "cell_type": "code",
   "execution_count": 43,
   "metadata": {
    "id": "BTPdHFFIz9ql"
   },
   "outputs": [],
   "source": [
    "from sklearn.tree import DecisionTreeClassifier"
   ]
  },
  {
   "cell_type": "code",
   "execution_count": 44,
   "metadata": {
    "id": "y3X4iFyCz9ql"
   },
   "outputs": [],
   "source": [
    "text_clf=Pipeline([('tf',TfidfVectorizer(sublinear_tf= True, \n",
    "                       min_df = 5, \n",
    "                       norm= 'l2', \n",
    "                       ngram_range= (1,2), \n",
    "                       stop_words ='english') ),\n",
    "                 ('clf',DecisionTreeClassifier())])"
   ]
  },
  {
   "cell_type": "code",
   "execution_count": 45,
   "metadata": {
    "id": "-TfQLUk2z9qm"
   },
   "outputs": [
    {
     "data": {
      "text/html": [
       "<style>#sk-container-id-3 {color: black;background-color: white;}#sk-container-id-3 pre{padding: 0;}#sk-container-id-3 div.sk-toggleable {background-color: white;}#sk-container-id-3 label.sk-toggleable__label {cursor: pointer;display: block;width: 100%;margin-bottom: 0;padding: 0.3em;box-sizing: border-box;text-align: center;}#sk-container-id-3 label.sk-toggleable__label-arrow:before {content: \"▸\";float: left;margin-right: 0.25em;color: #696969;}#sk-container-id-3 label.sk-toggleable__label-arrow:hover:before {color: black;}#sk-container-id-3 div.sk-estimator:hover label.sk-toggleable__label-arrow:before {color: black;}#sk-container-id-3 div.sk-toggleable__content {max-height: 0;max-width: 0;overflow: hidden;text-align: left;background-color: #f0f8ff;}#sk-container-id-3 div.sk-toggleable__content pre {margin: 0.2em;color: black;border-radius: 0.25em;background-color: #f0f8ff;}#sk-container-id-3 input.sk-toggleable__control:checked~div.sk-toggleable__content {max-height: 200px;max-width: 100%;overflow: auto;}#sk-container-id-3 input.sk-toggleable__control:checked~label.sk-toggleable__label-arrow:before {content: \"▾\";}#sk-container-id-3 div.sk-estimator input.sk-toggleable__control:checked~label.sk-toggleable__label {background-color: #d4ebff;}#sk-container-id-3 div.sk-label input.sk-toggleable__control:checked~label.sk-toggleable__label {background-color: #d4ebff;}#sk-container-id-3 input.sk-hidden--visually {border: 0;clip: rect(1px 1px 1px 1px);clip: rect(1px, 1px, 1px, 1px);height: 1px;margin: -1px;overflow: hidden;padding: 0;position: absolute;width: 1px;}#sk-container-id-3 div.sk-estimator {font-family: monospace;background-color: #f0f8ff;border: 1px dotted black;border-radius: 0.25em;box-sizing: border-box;margin-bottom: 0.5em;}#sk-container-id-3 div.sk-estimator:hover {background-color: #d4ebff;}#sk-container-id-3 div.sk-parallel-item::after {content: \"\";width: 100%;border-bottom: 1px solid gray;flex-grow: 1;}#sk-container-id-3 div.sk-label:hover label.sk-toggleable__label {background-color: #d4ebff;}#sk-container-id-3 div.sk-serial::before {content: \"\";position: absolute;border-left: 1px solid gray;box-sizing: border-box;top: 0;bottom: 0;left: 50%;z-index: 0;}#sk-container-id-3 div.sk-serial {display: flex;flex-direction: column;align-items: center;background-color: white;padding-right: 0.2em;padding-left: 0.2em;position: relative;}#sk-container-id-3 div.sk-item {position: relative;z-index: 1;}#sk-container-id-3 div.sk-parallel {display: flex;align-items: stretch;justify-content: center;background-color: white;position: relative;}#sk-container-id-3 div.sk-item::before, #sk-container-id-3 div.sk-parallel-item::before {content: \"\";position: absolute;border-left: 1px solid gray;box-sizing: border-box;top: 0;bottom: 0;left: 50%;z-index: -1;}#sk-container-id-3 div.sk-parallel-item {display: flex;flex-direction: column;z-index: 1;position: relative;background-color: white;}#sk-container-id-3 div.sk-parallel-item:first-child::after {align-self: flex-end;width: 50%;}#sk-container-id-3 div.sk-parallel-item:last-child::after {align-self: flex-start;width: 50%;}#sk-container-id-3 div.sk-parallel-item:only-child::after {width: 0;}#sk-container-id-3 div.sk-dashed-wrapped {border: 1px dashed gray;margin: 0 0.4em 0.5em 0.4em;box-sizing: border-box;padding-bottom: 0.4em;background-color: white;}#sk-container-id-3 div.sk-label label {font-family: monospace;font-weight: bold;display: inline-block;line-height: 1.2em;}#sk-container-id-3 div.sk-label-container {text-align: center;}#sk-container-id-3 div.sk-container {/* jupyter's `normalize.less` sets `[hidden] { display: none; }` but bootstrap.min.css set `[hidden] { display: none !important; }` so we also need the `!important` here to be able to override the default hidden behavior on the sphinx rendered scikit-learn.org. See: https://github.com/scikit-learn/scikit-learn/issues/21755 */display: inline-block !important;position: relative;}#sk-container-id-3 div.sk-text-repr-fallback {display: none;}</style><div id=\"sk-container-id-3\" class=\"sk-top-container\"><div class=\"sk-text-repr-fallback\"><pre>Pipeline(steps=[(&#x27;tf&#x27;,\n",
       "                 TfidfVectorizer(min_df=5, ngram_range=(1, 2),\n",
       "                                 stop_words=&#x27;english&#x27;, sublinear_tf=True)),\n",
       "                (&#x27;clf&#x27;, DecisionTreeClassifier())])</pre><b>In a Jupyter environment, please rerun this cell to show the HTML representation or trust the notebook. <br />On GitHub, the HTML representation is unable to render, please try loading this page with nbviewer.org.</b></div><div class=\"sk-container\" hidden><div class=\"sk-item sk-dashed-wrapped\"><div class=\"sk-label-container\"><div class=\"sk-label sk-toggleable\"><input class=\"sk-toggleable__control sk-hidden--visually\" id=\"sk-estimator-id-7\" type=\"checkbox\" ><label for=\"sk-estimator-id-7\" class=\"sk-toggleable__label sk-toggleable__label-arrow\">Pipeline</label><div class=\"sk-toggleable__content\"><pre>Pipeline(steps=[(&#x27;tf&#x27;,\n",
       "                 TfidfVectorizer(min_df=5, ngram_range=(1, 2),\n",
       "                                 stop_words=&#x27;english&#x27;, sublinear_tf=True)),\n",
       "                (&#x27;clf&#x27;, DecisionTreeClassifier())])</pre></div></div></div><div class=\"sk-serial\"><div class=\"sk-item\"><div class=\"sk-estimator sk-toggleable\"><input class=\"sk-toggleable__control sk-hidden--visually\" id=\"sk-estimator-id-8\" type=\"checkbox\" ><label for=\"sk-estimator-id-8\" class=\"sk-toggleable__label sk-toggleable__label-arrow\">TfidfVectorizer</label><div class=\"sk-toggleable__content\"><pre>TfidfVectorizer(min_df=5, ngram_range=(1, 2), stop_words=&#x27;english&#x27;,\n",
       "                sublinear_tf=True)</pre></div></div></div><div class=\"sk-item\"><div class=\"sk-estimator sk-toggleable\"><input class=\"sk-toggleable__control sk-hidden--visually\" id=\"sk-estimator-id-9\" type=\"checkbox\" ><label for=\"sk-estimator-id-9\" class=\"sk-toggleable__label sk-toggleable__label-arrow\">DecisionTreeClassifier</label><div class=\"sk-toggleable__content\"><pre>DecisionTreeClassifier()</pre></div></div></div></div></div></div></div>"
      ],
      "text/plain": [
       "Pipeline(steps=[('tf',\n",
       "                 TfidfVectorizer(min_df=5, ngram_range=(1, 2),\n",
       "                                 stop_words='english', sublinear_tf=True)),\n",
       "                ('clf', DecisionTreeClassifier())])"
      ]
     },
     "execution_count": 45,
     "metadata": {},
     "output_type": "execute_result"
    }
   ],
   "source": [
    "text_clf.fit(X_train, y_train)"
   ]
  },
  {
   "cell_type": "code",
   "execution_count": 46,
   "metadata": {
    "id": "cIE39Z1vz9qm"
   },
   "outputs": [
    {
     "data": {
      "text/plain": [
       "'Debt collection'"
      ]
     },
     "execution_count": 46,
     "metadata": {},
     "output_type": "execute_result"
    }
   ],
   "source": [
    "text_clf.predict(['I have outdated information on my credit repor'])[0]"
   ]
  },
  {
   "cell_type": "code",
   "execution_count": 47,
   "metadata": {
    "id": "RAxI3r15z9qm"
   },
   "outputs": [],
   "source": [
    "y_pred=text_clf.predict(X_test)"
   ]
  },
  {
   "cell_type": "code",
   "execution_count": 48,
   "metadata": {
    "id": "xGpnHHz-z9qm"
   },
   "outputs": [
    {
     "name": "stdout",
     "output_type": "stream",
     "text": [
      "                                                                              precision    recall  f1-score   support\n",
      "\n",
      "                                                     Bank account or service       0.36      0.45      0.40        44\n",
      "                                                               Consumer Loan       0.30      0.33      0.32        21\n",
      "                                                                 Credit card       0.66      0.64      0.65        72\n",
      "                                                 Credit card or prepaid card       0.00      0.00      0.00         0\n",
      "                                                            Credit reporting       0.67      0.74      0.70        91\n",
      "Credit reporting, credit repair services, or other personal consumer reports       0.00      0.00      0.00         2\n",
      "                                                             Debt collection       0.68      0.65      0.67       124\n",
      "                          Money transfer, virtual currency, or money service       0.00      0.00      0.00         0\n",
      "                                                             Money transfers       0.00      0.00      0.00        11\n",
      "                                                                    Mortgage       0.77      0.81      0.79       113\n",
      "                                                     Other financial service       0.00      0.00      0.00         1\n",
      "                                                                 Payday loan       0.00      0.00      0.00         8\n",
      "                                                                Prepaid card       0.33      0.12      0.18         8\n",
      "                                                                Student loan       0.49      0.50      0.49        34\n",
      "\n",
      "                                                                    accuracy                           0.63       529\n",
      "                                                                   macro avg       0.30      0.30      0.30       529\n",
      "                                                                weighted avg       0.61      0.63      0.62       529\n",
      "\n"
     ]
    },
    {
     "name": "stderr",
     "output_type": "stream",
     "text": [
      "C:\\Users\\range\\anaconda3\\Lib\\site-packages\\sklearn\\metrics\\_classification.py:1344: UndefinedMetricWarning: Precision and F-score are ill-defined and being set to 0.0 in labels with no predicted samples. Use `zero_division` parameter to control this behavior.\n",
      "  _warn_prf(average, modifier, msg_start, len(result))\n",
      "C:\\Users\\range\\anaconda3\\Lib\\site-packages\\sklearn\\metrics\\_classification.py:1344: UndefinedMetricWarning: Recall and F-score are ill-defined and being set to 0.0 in labels with no true samples. Use `zero_division` parameter to control this behavior.\n",
      "  _warn_prf(average, modifier, msg_start, len(result))\n",
      "C:\\Users\\range\\anaconda3\\Lib\\site-packages\\sklearn\\metrics\\_classification.py:1344: UndefinedMetricWarning: Precision and F-score are ill-defined and being set to 0.0 in labels with no predicted samples. Use `zero_division` parameter to control this behavior.\n",
      "  _warn_prf(average, modifier, msg_start, len(result))\n",
      "C:\\Users\\range\\anaconda3\\Lib\\site-packages\\sklearn\\metrics\\_classification.py:1344: UndefinedMetricWarning: Recall and F-score are ill-defined and being set to 0.0 in labels with no true samples. Use `zero_division` parameter to control this behavior.\n",
      "  _warn_prf(average, modifier, msg_start, len(result))\n",
      "C:\\Users\\range\\anaconda3\\Lib\\site-packages\\sklearn\\metrics\\_classification.py:1344: UndefinedMetricWarning: Precision and F-score are ill-defined and being set to 0.0 in labels with no predicted samples. Use `zero_division` parameter to control this behavior.\n",
      "  _warn_prf(average, modifier, msg_start, len(result))\n",
      "C:\\Users\\range\\anaconda3\\Lib\\site-packages\\sklearn\\metrics\\_classification.py:1344: UndefinedMetricWarning: Recall and F-score are ill-defined and being set to 0.0 in labels with no true samples. Use `zero_division` parameter to control this behavior.\n",
      "  _warn_prf(average, modifier, msg_start, len(result))\n"
     ]
    }
   ],
   "source": [
    "print(metrics.classification_report(y_test,y_pred))"
   ]
  },
  {
   "cell_type": "code",
   "execution_count": 49,
   "metadata": {
    "id": "W_5Frbfyxl5J"
   },
   "outputs": [
    {
     "name": "stderr",
     "output_type": "stream",
     "text": [
      "C:\\Users\\range\\anaconda3\\Lib\\site-packages\\sklearn\\model_selection\\_split.py:700: UserWarning: The least populated class in y has only 1 members, which is less than n_splits=5.\n",
      "  warnings.warn(\n"
     ]
    },
    {
     "name": "stdout",
     "output_type": "stream",
     "text": [
      "0.616403785488959\n"
     ]
    }
   ],
   "source": [
    "cv_results = cross_val_score(text_clf, \n",
    "                                 X_train, y_train, \n",
    "                                 cv=5,\n",
    "                                 scoring=\"accuracy\",\n",
    "                                 n_jobs=-1)\n",
    "print(np.mean(cv_results))"
   ]
  },
  {
   "cell_type": "code",
   "execution_count": 50,
   "metadata": {
    "id": "KorjEJue-Sti"
   },
   "outputs": [
    {
     "name": "stdout",
     "output_type": "stream",
     "text": [
      "Requirement already satisfied: catboost in c:\\users\\range\\anaconda3\\lib\\site-packages (1.2.3)\n",
      "Requirement already satisfied: graphviz in c:\\users\\range\\anaconda3\\lib\\site-packages (from catboost) (0.20.3)\n",
      "Requirement already satisfied: matplotlib in c:\\users\\range\\anaconda3\\lib\\site-packages (from catboost) (3.7.2)\n",
      "Requirement already satisfied: numpy>=1.16.0 in c:\\users\\range\\anaconda3\\lib\\site-packages (from catboost) (1.24.3)\n",
      "Requirement already satisfied: pandas>=0.24 in c:\\users\\range\\anaconda3\\lib\\site-packages (from catboost) (2.0.3)\n",
      "Requirement already satisfied: scipy in c:\\users\\range\\anaconda3\\lib\\site-packages (from catboost) (1.11.1)\n",
      "Requirement already satisfied: plotly in c:\\users\\range\\anaconda3\\lib\\site-packages (from catboost) (5.9.0)\n",
      "Requirement already satisfied: six in c:\\users\\range\\anaconda3\\lib\\site-packages (from catboost) (1.16.0)\n",
      "Requirement already satisfied: python-dateutil>=2.8.2 in c:\\users\\range\\anaconda3\\lib\\site-packages (from pandas>=0.24->catboost) (2.8.2)\n",
      "Requirement already satisfied: pytz>=2020.1 in c:\\users\\range\\anaconda3\\lib\\site-packages (from pandas>=0.24->catboost) (2023.3.post1)\n",
      "Requirement already satisfied: tzdata>=2022.1 in c:\\users\\range\\anaconda3\\lib\\site-packages (from pandas>=0.24->catboost) (2023.3)\n",
      "Requirement already satisfied: contourpy>=1.0.1 in c:\\users\\range\\anaconda3\\lib\\site-packages (from matplotlib->catboost) (1.0.5)\n",
      "Requirement already satisfied: cycler>=0.10 in c:\\users\\range\\anaconda3\\lib\\site-packages (from matplotlib->catboost) (0.11.0)\n",
      "Requirement already satisfied: fonttools>=4.22.0 in c:\\users\\range\\anaconda3\\lib\\site-packages (from matplotlib->catboost) (4.25.0)\n",
      "Requirement already satisfied: kiwisolver>=1.0.1 in c:\\users\\range\\anaconda3\\lib\\site-packages (from matplotlib->catboost) (1.4.4)\n",
      "Requirement already satisfied: packaging>=20.0 in c:\\users\\range\\anaconda3\\lib\\site-packages (from matplotlib->catboost) (23.1)\n",
      "Requirement already satisfied: pillow>=6.2.0 in c:\\users\\range\\anaconda3\\lib\\site-packages (from matplotlib->catboost) (9.4.0)\n",
      "Requirement already satisfied: pyparsing<3.1,>=2.3.1 in c:\\users\\range\\anaconda3\\lib\\site-packages (from matplotlib->catboost) (3.0.9)\n",
      "Requirement already satisfied: tenacity>=6.2.0 in c:\\users\\range\\anaconda3\\lib\\site-packages (from plotly->catboost) (8.2.2)\n"
     ]
    },
    {
     "name": "stderr",
     "output_type": "stream",
     "text": [
      "\n",
      "[notice] A new release of pip is available: 23.3.2 -> 24.1.2\n",
      "[notice] To update, run: python.exe -m pip install --upgrade pip\n"
     ]
    }
   ],
   "source": [
    "!pip install catboost"
   ]
  },
  {
   "cell_type": "code",
   "execution_count": 51,
   "metadata": {
    "id": "CkjUijlFz9qm"
   },
   "outputs": [],
   "source": [
    "from catboost import CatBoostClassifier"
   ]
  },
  {
   "cell_type": "code",
   "execution_count": 52,
   "metadata": {
    "id": "30ifVE9Gz9qn"
   },
   "outputs": [],
   "source": [
    "text_clf=Pipeline([('tf',TfidfVectorizer(sublinear_tf= True, \n",
    "                       min_df = 5, \n",
    "                       norm= 'l2', \n",
    "                       ngram_range= (1,2), \n",
    "                       stop_words ='english') ),\n",
    "                 ('clf',CatBoostClassifier())])"
   ]
  },
  {
   "cell_type": "code",
   "execution_count": 53,
   "metadata": {
    "id": "O37ENgZEz9qn"
   },
   "outputs": [
    {
     "name": "stdout",
     "output_type": "stream",
     "text": [
      "Learning rate set to 0.081007\n",
      "0:\tlearn: 2.4854640\ttotal: 812ms\tremaining: 13m 31s\n",
      "1:\tlearn: 2.2831591\ttotal: 1.48s\tremaining: 12m 16s\n",
      "2:\tlearn: 2.1564614\ttotal: 2.13s\tremaining: 11m 47s\n",
      "3:\tlearn: 2.0605129\ttotal: 2.79s\tremaining: 11m 35s\n",
      "4:\tlearn: 1.9462300\ttotal: 3.45s\tremaining: 11m 26s\n",
      "5:\tlearn: 1.8610484\ttotal: 4.12s\tremaining: 11m 22s\n",
      "6:\tlearn: 1.7890315\ttotal: 4.82s\tremaining: 11m 24s\n",
      "7:\tlearn: 1.7248507\ttotal: 5.52s\tremaining: 11m 24s\n",
      "8:\tlearn: 1.6704831\ttotal: 6.21s\tremaining: 11m 23s\n",
      "9:\tlearn: 1.6290230\ttotal: 6.89s\tremaining: 11m 21s\n",
      "10:\tlearn: 1.5851092\ttotal: 7.58s\tremaining: 11m 21s\n",
      "11:\tlearn: 1.5387648\ttotal: 8.26s\tremaining: 11m 20s\n",
      "12:\tlearn: 1.5082813\ttotal: 8.92s\tremaining: 11m 17s\n",
      "13:\tlearn: 1.4703662\ttotal: 9.59s\tremaining: 11m 15s\n",
      "14:\tlearn: 1.4445402\ttotal: 10.3s\tremaining: 11m 13s\n",
      "15:\tlearn: 1.4213383\ttotal: 10.9s\tremaining: 11m 11s\n",
      "16:\tlearn: 1.3953513\ttotal: 11.6s\tremaining: 11m 9s\n",
      "17:\tlearn: 1.3735164\ttotal: 12.2s\tremaining: 11m 7s\n",
      "18:\tlearn: 1.3509443\ttotal: 12.9s\tremaining: 11m 4s\n",
      "19:\tlearn: 1.3306779\ttotal: 13.5s\tremaining: 11m 1s\n",
      "20:\tlearn: 1.3107340\ttotal: 14.1s\tremaining: 10m 59s\n",
      "21:\tlearn: 1.2888844\ttotal: 14.8s\tremaining: 10m 56s\n",
      "22:\tlearn: 1.2643441\ttotal: 15.4s\tremaining: 10m 54s\n",
      "23:\tlearn: 1.2482685\ttotal: 16.1s\tremaining: 10m 53s\n",
      "24:\tlearn: 1.2271506\ttotal: 16.7s\tremaining: 10m 51s\n",
      "25:\tlearn: 1.2063541\ttotal: 17.3s\tremaining: 10m 49s\n",
      "26:\tlearn: 1.1912904\ttotal: 18s\tremaining: 10m 48s\n",
      "27:\tlearn: 1.1760266\ttotal: 18.6s\tremaining: 10m 46s\n",
      "28:\tlearn: 1.1648586\ttotal: 19.3s\tremaining: 10m 45s\n",
      "29:\tlearn: 1.1534765\ttotal: 19.9s\tremaining: 10m 44s\n",
      "30:\tlearn: 1.1436977\ttotal: 20.6s\tremaining: 10m 43s\n",
      "31:\tlearn: 1.1350923\ttotal: 21.2s\tremaining: 10m 42s\n",
      "32:\tlearn: 1.1242399\ttotal: 21.9s\tremaining: 10m 40s\n",
      "33:\tlearn: 1.1159885\ttotal: 22.5s\tremaining: 10m 39s\n",
      "34:\tlearn: 1.1079175\ttotal: 23.2s\tremaining: 10m 39s\n",
      "35:\tlearn: 1.0991047\ttotal: 23.9s\tremaining: 10m 39s\n",
      "36:\tlearn: 1.0928513\ttotal: 24.5s\tremaining: 10m 37s\n",
      "37:\tlearn: 1.0863576\ttotal: 25.2s\tremaining: 10m 36s\n",
      "38:\tlearn: 1.0783464\ttotal: 25.8s\tremaining: 10m 35s\n",
      "39:\tlearn: 1.0716513\ttotal: 26.5s\tremaining: 10m 34s\n",
      "40:\tlearn: 1.0648453\ttotal: 27.1s\tremaining: 10m 34s\n",
      "41:\tlearn: 1.0589708\ttotal: 27.8s\tremaining: 10m 33s\n",
      "42:\tlearn: 1.0541505\ttotal: 28.4s\tremaining: 10m 32s\n",
      "43:\tlearn: 1.0443814\ttotal: 29.1s\tremaining: 10m 32s\n",
      "44:\tlearn: 1.0367624\ttotal: 29.8s\tremaining: 10m 31s\n",
      "45:\tlearn: 1.0303077\ttotal: 30.4s\tremaining: 10m 30s\n",
      "46:\tlearn: 1.0230793\ttotal: 31.1s\tremaining: 10m 30s\n",
      "47:\tlearn: 1.0176074\ttotal: 31.8s\tremaining: 10m 29s\n",
      "48:\tlearn: 1.0143456\ttotal: 32.4s\tremaining: 10m 29s\n",
      "49:\tlearn: 1.0094720\ttotal: 33.1s\tremaining: 10m 28s\n",
      "50:\tlearn: 1.0046385\ttotal: 33.7s\tremaining: 10m 27s\n",
      "51:\tlearn: 1.0017752\ttotal: 34.4s\tremaining: 10m 27s\n",
      "52:\tlearn: 0.9984884\ttotal: 35.1s\tremaining: 10m 26s\n",
      "53:\tlearn: 0.9950373\ttotal: 35.8s\tremaining: 10m 26s\n",
      "54:\tlearn: 0.9901153\ttotal: 36.4s\tremaining: 10m 26s\n",
      "55:\tlearn: 0.9866299\ttotal: 37.1s\tremaining: 10m 25s\n",
      "56:\tlearn: 0.9843810\ttotal: 37.8s\tremaining: 10m 25s\n",
      "57:\tlearn: 0.9827648\ttotal: 38.5s\tremaining: 10m 24s\n",
      "58:\tlearn: 0.9809374\ttotal: 39.1s\tremaining: 10m 24s\n",
      "59:\tlearn: 0.9773165\ttotal: 39.8s\tremaining: 10m 23s\n",
      "60:\tlearn: 0.9719917\ttotal: 40.5s\tremaining: 10m 23s\n",
      "61:\tlearn: 0.9700710\ttotal: 41.2s\tremaining: 10m 22s\n",
      "62:\tlearn: 0.9645634\ttotal: 41.8s\tremaining: 10m 22s\n",
      "63:\tlearn: 0.9608152\ttotal: 42.5s\tremaining: 10m 22s\n",
      "64:\tlearn: 0.9569786\ttotal: 43.2s\tremaining: 10m 21s\n",
      "65:\tlearn: 0.9537289\ttotal: 43.9s\tremaining: 10m 21s\n",
      "66:\tlearn: 0.9510569\ttotal: 44.6s\tremaining: 10m 21s\n",
      "67:\tlearn: 0.9483097\ttotal: 45.3s\tremaining: 10m 21s\n",
      "68:\tlearn: 0.9425183\ttotal: 46s\tremaining: 10m 20s\n",
      "69:\tlearn: 0.9361814\ttotal: 46.7s\tremaining: 10m 20s\n",
      "70:\tlearn: 0.9323581\ttotal: 47.4s\tremaining: 10m 19s\n",
      "71:\tlearn: 0.9283958\ttotal: 48.1s\tremaining: 10m 19s\n",
      "72:\tlearn: 0.9262238\ttotal: 48.7s\tremaining: 10m 18s\n",
      "73:\tlearn: 0.9190218\ttotal: 49.4s\tremaining: 10m 18s\n",
      "74:\tlearn: 0.9157283\ttotal: 50.1s\tremaining: 10m 17s\n",
      "75:\tlearn: 0.9135173\ttotal: 50.8s\tremaining: 10m 17s\n",
      "76:\tlearn: 0.9119289\ttotal: 51.5s\tremaining: 10m 16s\n",
      "77:\tlearn: 0.9090277\ttotal: 52.1s\tremaining: 10m 16s\n",
      "78:\tlearn: 0.9048167\ttotal: 52.8s\tremaining: 10m 15s\n",
      "79:\tlearn: 0.9001523\ttotal: 53.5s\tremaining: 10m 15s\n",
      "80:\tlearn: 0.8968576\ttotal: 54.2s\tremaining: 10m 14s\n",
      "81:\tlearn: 0.8933656\ttotal: 54.9s\tremaining: 10m 14s\n",
      "82:\tlearn: 0.8899386\ttotal: 55.6s\tremaining: 10m 13s\n",
      "83:\tlearn: 0.8872973\ttotal: 56.3s\tremaining: 10m 13s\n",
      "84:\tlearn: 0.8840036\ttotal: 56.9s\tremaining: 10m 12s\n",
      "85:\tlearn: 0.8817108\ttotal: 57.6s\tremaining: 10m 12s\n",
      "86:\tlearn: 0.8787014\ttotal: 58.3s\tremaining: 10m 11s\n",
      "87:\tlearn: 0.8758992\ttotal: 59s\tremaining: 10m 11s\n",
      "88:\tlearn: 0.8713203\ttotal: 59.7s\tremaining: 10m 11s\n",
      "89:\tlearn: 0.8674365\ttotal: 1m\tremaining: 10m 10s\n",
      "90:\tlearn: 0.8641659\ttotal: 1m 1s\tremaining: 10m 10s\n",
      "91:\tlearn: 0.8614866\ttotal: 1m 1s\tremaining: 10m 9s\n",
      "92:\tlearn: 0.8607550\ttotal: 1m 2s\tremaining: 10m 8s\n",
      "93:\tlearn: 0.8579460\ttotal: 1m 3s\tremaining: 10m 8s\n",
      "94:\tlearn: 0.8572016\ttotal: 1m 3s\tremaining: 10m 8s\n",
      "95:\tlearn: 0.8544838\ttotal: 1m 4s\tremaining: 10m 7s\n",
      "96:\tlearn: 0.8515226\ttotal: 1m 5s\tremaining: 10m 7s\n",
      "97:\tlearn: 0.8496996\ttotal: 1m 5s\tremaining: 10m 6s\n",
      "98:\tlearn: 0.8441627\ttotal: 1m 6s\tremaining: 10m 6s\n",
      "99:\tlearn: 0.8421451\ttotal: 1m 7s\tremaining: 10m 5s\n",
      "100:\tlearn: 0.8408630\ttotal: 1m 7s\tremaining: 10m 4s\n",
      "101:\tlearn: 0.8394855\ttotal: 1m 8s\tremaining: 10m 4s\n",
      "102:\tlearn: 0.8372623\ttotal: 1m 9s\tremaining: 10m 3s\n",
      "103:\tlearn: 0.8360841\ttotal: 1m 10s\tremaining: 10m 3s\n",
      "104:\tlearn: 0.8347154\ttotal: 1m 10s\tremaining: 10m 2s\n",
      "105:\tlearn: 0.8313423\ttotal: 1m 11s\tremaining: 10m 2s\n",
      "106:\tlearn: 0.8268553\ttotal: 1m 12s\tremaining: 10m 1s\n",
      "107:\tlearn: 0.8241840\ttotal: 1m 12s\tremaining: 10m 1s\n",
      "108:\tlearn: 0.8220517\ttotal: 1m 13s\tremaining: 10m\n",
      "109:\tlearn: 0.8206820\ttotal: 1m 14s\tremaining: 10m\n",
      "110:\tlearn: 0.8188245\ttotal: 1m 14s\tremaining: 9m 59s\n",
      "111:\tlearn: 0.8165222\ttotal: 1m 15s\tremaining: 9m 59s\n",
      "112:\tlearn: 0.8135050\ttotal: 1m 16s\tremaining: 9m 58s\n",
      "113:\tlearn: 0.8111247\ttotal: 1m 16s\tremaining: 9m 57s\n",
      "114:\tlearn: 0.8107347\ttotal: 1m 17s\tremaining: 9m 57s\n",
      "115:\tlearn: 0.8099549\ttotal: 1m 18s\tremaining: 9m 56s\n",
      "116:\tlearn: 0.8075430\ttotal: 1m 19s\tremaining: 9m 56s\n",
      "117:\tlearn: 0.8050018\ttotal: 1m 19s\tremaining: 9m 55s\n",
      "118:\tlearn: 0.8033704\ttotal: 1m 20s\tremaining: 9m 55s\n",
      "119:\tlearn: 0.8018497\ttotal: 1m 21s\tremaining: 9m 54s\n",
      "120:\tlearn: 0.8001654\ttotal: 1m 21s\tremaining: 9m 54s\n",
      "121:\tlearn: 0.7994796\ttotal: 1m 22s\tremaining: 9m 53s\n",
      "122:\tlearn: 0.7973179\ttotal: 1m 23s\tremaining: 9m 53s\n",
      "123:\tlearn: 0.7958839\ttotal: 1m 23s\tremaining: 9m 52s\n",
      "124:\tlearn: 0.7948636\ttotal: 1m 24s\tremaining: 9m 52s\n",
      "125:\tlearn: 0.7933385\ttotal: 1m 25s\tremaining: 9m 51s\n",
      "126:\tlearn: 0.7927987\ttotal: 1m 25s\tremaining: 9m 51s\n",
      "127:\tlearn: 0.7899772\ttotal: 1m 26s\tremaining: 9m 50s\n",
      "128:\tlearn: 0.7892504\ttotal: 1m 27s\tremaining: 9m 49s\n",
      "129:\tlearn: 0.7877333\ttotal: 1m 28s\tremaining: 9m 49s\n",
      "130:\tlearn: 0.7869179\ttotal: 1m 28s\tremaining: 9m 48s\n",
      "131:\tlearn: 0.7848792\ttotal: 1m 29s\tremaining: 9m 48s\n",
      "132:\tlearn: 0.7839392\ttotal: 1m 30s\tremaining: 9m 47s\n",
      "133:\tlearn: 0.7827618\ttotal: 1m 30s\tremaining: 9m 47s\n",
      "134:\tlearn: 0.7805511\ttotal: 1m 31s\tremaining: 9m 47s\n",
      "135:\tlearn: 0.7778289\ttotal: 1m 32s\tremaining: 9m 46s\n",
      "136:\tlearn: 0.7770423\ttotal: 1m 33s\tremaining: 9m 46s\n",
      "137:\tlearn: 0.7744665\ttotal: 1m 33s\tremaining: 9m 45s\n",
      "138:\tlearn: 0.7721353\ttotal: 1m 34s\tremaining: 9m 45s\n",
      "139:\tlearn: 0.7707321\ttotal: 1m 35s\tremaining: 9m 45s\n",
      "140:\tlearn: 0.7691956\ttotal: 1m 35s\tremaining: 9m 44s\n",
      "141:\tlearn: 0.7678478\ttotal: 1m 36s\tremaining: 9m 44s\n",
      "142:\tlearn: 0.7667817\ttotal: 1m 37s\tremaining: 9m 43s\n",
      "143:\tlearn: 0.7661838\ttotal: 1m 38s\tremaining: 9m 43s\n",
      "144:\tlearn: 0.7638730\ttotal: 1m 38s\tremaining: 9m 42s\n",
      "145:\tlearn: 0.7611925\ttotal: 1m 39s\tremaining: 9m 41s\n",
      "146:\tlearn: 0.7607908\ttotal: 1m 40s\tremaining: 9m 41s\n",
      "147:\tlearn: 0.7598458\ttotal: 1m 40s\tremaining: 9m 40s\n",
      "148:\tlearn: 0.7585279\ttotal: 1m 41s\tremaining: 9m 40s\n",
      "149:\tlearn: 0.7570061\ttotal: 1m 42s\tremaining: 9m 39s\n",
      "150:\tlearn: 0.7564146\ttotal: 1m 42s\tremaining: 9m 38s\n",
      "151:\tlearn: 0.7544475\ttotal: 1m 43s\tremaining: 9m 38s\n",
      "152:\tlearn: 0.7537299\ttotal: 1m 44s\tremaining: 9m 37s\n",
      "153:\tlearn: 0.7530293\ttotal: 1m 45s\tremaining: 9m 37s\n"
     ]
    },
    {
     "name": "stdout",
     "output_type": "stream",
     "text": [
      "154:\tlearn: 0.7525985\ttotal: 1m 45s\tremaining: 9m 36s\n",
      "155:\tlearn: 0.7510070\ttotal: 1m 46s\tremaining: 9m 35s\n",
      "156:\tlearn: 0.7498981\ttotal: 1m 47s\tremaining: 9m 35s\n",
      "157:\tlearn: 0.7489539\ttotal: 1m 47s\tremaining: 9m 34s\n",
      "158:\tlearn: 0.7481149\ttotal: 1m 48s\tremaining: 9m 34s\n",
      "159:\tlearn: 0.7451465\ttotal: 1m 49s\tremaining: 9m 33s\n",
      "160:\tlearn: 0.7444409\ttotal: 1m 49s\tremaining: 9m 32s\n",
      "161:\tlearn: 0.7428568\ttotal: 1m 50s\tremaining: 9m 32s\n",
      "162:\tlearn: 0.7417085\ttotal: 1m 51s\tremaining: 9m 31s\n",
      "163:\tlearn: 0.7412448\ttotal: 1m 52s\tremaining: 9m 31s\n",
      "164:\tlearn: 0.7378078\ttotal: 1m 52s\tremaining: 9m 30s\n",
      "165:\tlearn: 0.7374767\ttotal: 1m 53s\tremaining: 9m 30s\n",
      "166:\tlearn: 0.7369168\ttotal: 1m 54s\tremaining: 9m 29s\n",
      "167:\tlearn: 0.7361064\ttotal: 1m 54s\tremaining: 9m 28s\n",
      "168:\tlearn: 0.7351648\ttotal: 1m 55s\tremaining: 9m 28s\n",
      "169:\tlearn: 0.7334652\ttotal: 1m 56s\tremaining: 9m 27s\n",
      "170:\tlearn: 0.7331014\ttotal: 1m 56s\tremaining: 9m 26s\n",
      "171:\tlearn: 0.7321712\ttotal: 1m 57s\tremaining: 9m 26s\n",
      "172:\tlearn: 0.7308025\ttotal: 1m 58s\tremaining: 9m 25s\n",
      "173:\tlearn: 0.7299474\ttotal: 1m 59s\tremaining: 9m 25s\n",
      "174:\tlearn: 0.7296031\ttotal: 1m 59s\tremaining: 9m 24s\n",
      "175:\tlearn: 0.7282592\ttotal: 2m\tremaining: 9m 23s\n",
      "176:\tlearn: 0.7278057\ttotal: 2m 1s\tremaining: 9m 23s\n",
      "177:\tlearn: 0.7273493\ttotal: 2m 1s\tremaining: 9m 22s\n",
      "178:\tlearn: 0.7261421\ttotal: 2m 2s\tremaining: 9m 22s\n",
      "179:\tlearn: 0.7250592\ttotal: 2m 3s\tremaining: 9m 21s\n",
      "180:\tlearn: 0.7246261\ttotal: 2m 3s\tremaining: 9m 20s\n",
      "181:\tlearn: 0.7235220\ttotal: 2m 4s\tremaining: 9m 20s\n",
      "182:\tlearn: 0.7228321\ttotal: 2m 5s\tremaining: 9m 19s\n",
      "183:\tlearn: 0.7212818\ttotal: 2m 6s\tremaining: 9m 18s\n",
      "184:\tlearn: 0.7206582\ttotal: 2m 6s\tremaining: 9m 18s\n",
      "185:\tlearn: 0.7201708\ttotal: 2m 7s\tremaining: 9m 17s\n",
      "186:\tlearn: 0.7189709\ttotal: 2m 8s\tremaining: 9m 17s\n",
      "187:\tlearn: 0.7176364\ttotal: 2m 8s\tremaining: 9m 16s\n",
      "188:\tlearn: 0.7170201\ttotal: 2m 9s\tremaining: 9m 15s\n",
      "189:\tlearn: 0.7152001\ttotal: 2m 10s\tremaining: 9m 15s\n",
      "190:\tlearn: 0.7143043\ttotal: 2m 10s\tremaining: 9m 14s\n",
      "191:\tlearn: 0.7129504\ttotal: 2m 11s\tremaining: 9m 14s\n",
      "192:\tlearn: 0.7123692\ttotal: 2m 12s\tremaining: 9m 13s\n",
      "193:\tlearn: 0.7118066\ttotal: 2m 13s\tremaining: 9m 12s\n",
      "194:\tlearn: 0.7101444\ttotal: 2m 13s\tremaining: 9m 12s\n",
      "195:\tlearn: 0.7097543\ttotal: 2m 14s\tremaining: 9m 11s\n",
      "196:\tlearn: 0.7084416\ttotal: 2m 15s\tremaining: 9m 10s\n",
      "197:\tlearn: 0.7079530\ttotal: 2m 15s\tremaining: 9m 10s\n",
      "198:\tlearn: 0.7072096\ttotal: 2m 16s\tremaining: 9m 9s\n",
      "199:\tlearn: 0.7069073\ttotal: 2m 17s\tremaining: 9m 9s\n",
      "200:\tlearn: 0.7066389\ttotal: 2m 17s\tremaining: 9m 8s\n",
      "201:\tlearn: 0.7062889\ttotal: 2m 18s\tremaining: 9m 7s\n",
      "202:\tlearn: 0.7059370\ttotal: 2m 19s\tremaining: 9m 7s\n",
      "203:\tlearn: 0.7047781\ttotal: 2m 20s\tremaining: 9m 6s\n",
      "204:\tlearn: 0.7040312\ttotal: 2m 20s\tremaining: 9m 5s\n",
      "205:\tlearn: 0.7028235\ttotal: 2m 21s\tremaining: 9m 5s\n",
      "206:\tlearn: 0.7012308\ttotal: 2m 22s\tremaining: 9m 4s\n",
      "207:\tlearn: 0.6994092\ttotal: 2m 22s\tremaining: 9m 3s\n",
      "208:\tlearn: 0.6990078\ttotal: 2m 23s\tremaining: 9m 3s\n",
      "209:\tlearn: 0.6971167\ttotal: 2m 24s\tremaining: 9m 2s\n",
      "210:\tlearn: 0.6957416\ttotal: 2m 24s\tremaining: 9m 2s\n",
      "211:\tlearn: 0.6947498\ttotal: 2m 25s\tremaining: 9m 1s\n",
      "212:\tlearn: 0.6943754\ttotal: 2m 26s\tremaining: 9m\n",
      "213:\tlearn: 0.6936615\ttotal: 2m 27s\tremaining: 9m\n",
      "214:\tlearn: 0.6924659\ttotal: 2m 27s\tremaining: 8m 59s\n",
      "215:\tlearn: 0.6916510\ttotal: 2m 28s\tremaining: 8m 58s\n",
      "216:\tlearn: 0.6900645\ttotal: 2m 29s\tremaining: 8m 58s\n",
      "217:\tlearn: 0.6895890\ttotal: 2m 29s\tremaining: 8m 57s\n",
      "218:\tlearn: 0.6890680\ttotal: 2m 30s\tremaining: 8m 57s\n",
      "219:\tlearn: 0.6883548\ttotal: 2m 31s\tremaining: 8m 56s\n",
      "220:\tlearn: 0.6875448\ttotal: 2m 32s\tremaining: 8m 55s\n",
      "221:\tlearn: 0.6868566\ttotal: 2m 32s\tremaining: 8m 55s\n",
      "222:\tlearn: 0.6847041\ttotal: 2m 33s\tremaining: 8m 54s\n",
      "223:\tlearn: 0.6844422\ttotal: 2m 34s\tremaining: 8m 53s\n",
      "224:\tlearn: 0.6835682\ttotal: 2m 34s\tremaining: 8m 53s\n",
      "225:\tlearn: 0.6826581\ttotal: 2m 35s\tremaining: 8m 52s\n",
      "226:\tlearn: 0.6813788\ttotal: 2m 36s\tremaining: 8m 51s\n",
      "227:\tlearn: 0.6810038\ttotal: 2m 36s\tremaining: 8m 51s\n",
      "228:\tlearn: 0.6805304\ttotal: 2m 37s\tremaining: 8m 50s\n",
      "229:\tlearn: 0.6780705\ttotal: 2m 38s\tremaining: 8m 50s\n",
      "230:\tlearn: 0.6776405\ttotal: 2m 39s\tremaining: 8m 49s\n",
      "231:\tlearn: 0.6772432\ttotal: 2m 39s\tremaining: 8m 48s\n",
      "232:\tlearn: 0.6766758\ttotal: 2m 40s\tremaining: 8m 48s\n",
      "233:\tlearn: 0.6757204\ttotal: 2m 41s\tremaining: 8m 47s\n",
      "234:\tlearn: 0.6753329\ttotal: 2m 41s\tremaining: 8m 46s\n",
      "235:\tlearn: 0.6750063\ttotal: 2m 42s\tremaining: 8m 46s\n",
      "236:\tlearn: 0.6747900\ttotal: 2m 43s\tremaining: 8m 45s\n",
      "237:\tlearn: 0.6735017\ttotal: 2m 43s\tremaining: 8m 44s\n",
      "238:\tlearn: 0.6728191\ttotal: 2m 44s\tremaining: 8m 44s\n",
      "239:\tlearn: 0.6716119\ttotal: 2m 45s\tremaining: 8m 43s\n",
      "240:\tlearn: 0.6712006\ttotal: 2m 46s\tremaining: 8m 42s\n",
      "241:\tlearn: 0.6701211\ttotal: 2m 46s\tremaining: 8m 42s\n",
      "242:\tlearn: 0.6693369\ttotal: 2m 47s\tremaining: 8m 41s\n",
      "243:\tlearn: 0.6686758\ttotal: 2m 48s\tremaining: 8m 41s\n",
      "244:\tlearn: 0.6683755\ttotal: 2m 48s\tremaining: 8m 40s\n",
      "245:\tlearn: 0.6682087\ttotal: 2m 49s\tremaining: 8m 39s\n",
      "246:\tlearn: 0.6663874\ttotal: 2m 50s\tremaining: 8m 39s\n",
      "247:\tlearn: 0.6639255\ttotal: 2m 50s\tremaining: 8m 38s\n",
      "248:\tlearn: 0.6635794\ttotal: 2m 51s\tremaining: 8m 37s\n",
      "249:\tlearn: 0.6623151\ttotal: 2m 52s\tremaining: 8m 37s\n",
      "250:\tlearn: 0.6611009\ttotal: 2m 53s\tremaining: 8m 36s\n",
      "251:\tlearn: 0.6598956\ttotal: 2m 53s\tremaining: 8m 35s\n",
      "252:\tlearn: 0.6593517\ttotal: 2m 54s\tremaining: 8m 35s\n",
      "253:\tlearn: 0.6585821\ttotal: 2m 55s\tremaining: 8m 34s\n",
      "254:\tlearn: 0.6581423\ttotal: 2m 55s\tremaining: 8m 33s\n",
      "255:\tlearn: 0.6575425\ttotal: 2m 56s\tremaining: 8m 33s\n",
      "256:\tlearn: 0.6571494\ttotal: 2m 57s\tremaining: 8m 32s\n",
      "257:\tlearn: 0.6551413\ttotal: 2m 57s\tremaining: 8m 31s\n",
      "258:\tlearn: 0.6543374\ttotal: 2m 58s\tremaining: 8m 31s\n",
      "259:\tlearn: 0.6532802\ttotal: 2m 59s\tremaining: 8m 30s\n",
      "260:\tlearn: 0.6505496\ttotal: 3m\tremaining: 8m 29s\n",
      "261:\tlearn: 0.6502802\ttotal: 3m\tremaining: 8m 29s\n",
      "262:\tlearn: 0.6496986\ttotal: 3m 1s\tremaining: 8m 28s\n",
      "263:\tlearn: 0.6493307\ttotal: 3m 2s\tremaining: 8m 27s\n",
      "264:\tlearn: 0.6489764\ttotal: 3m 2s\tremaining: 8m 27s\n",
      "265:\tlearn: 0.6483907\ttotal: 3m 3s\tremaining: 8m 26s\n",
      "266:\tlearn: 0.6479021\ttotal: 3m 4s\tremaining: 8m 26s\n",
      "267:\tlearn: 0.6475665\ttotal: 3m 5s\tremaining: 8m 25s\n",
      "268:\tlearn: 0.6471360\ttotal: 3m 5s\tremaining: 8m 24s\n",
      "269:\tlearn: 0.6465027\ttotal: 3m 6s\tremaining: 8m 24s\n",
      "270:\tlearn: 0.6461498\ttotal: 3m 7s\tremaining: 8m 23s\n",
      "271:\tlearn: 0.6451678\ttotal: 3m 7s\tremaining: 8m 22s\n",
      "272:\tlearn: 0.6448388\ttotal: 3m 8s\tremaining: 8m 22s\n",
      "273:\tlearn: 0.6431996\ttotal: 3m 9s\tremaining: 8m 21s\n",
      "274:\tlearn: 0.6416970\ttotal: 3m 9s\tremaining: 8m 20s\n",
      "275:\tlearn: 0.6414907\ttotal: 3m 10s\tremaining: 8m 20s\n",
      "276:\tlearn: 0.6410184\ttotal: 3m 11s\tremaining: 8m 19s\n",
      "277:\tlearn: 0.6403996\ttotal: 3m 12s\tremaining: 8m 18s\n",
      "278:\tlearn: 0.6399218\ttotal: 3m 12s\tremaining: 8m 18s\n",
      "279:\tlearn: 0.6384569\ttotal: 3m 13s\tremaining: 8m 17s\n",
      "280:\tlearn: 0.6371050\ttotal: 3m 14s\tremaining: 8m 16s\n",
      "281:\tlearn: 0.6368474\ttotal: 3m 14s\tremaining: 8m 16s\n",
      "282:\tlearn: 0.6365380\ttotal: 3m 15s\tremaining: 8m 15s\n",
      "283:\tlearn: 0.6359044\ttotal: 3m 16s\tremaining: 8m 15s\n",
      "284:\tlearn: 0.6356690\ttotal: 3m 17s\tremaining: 8m 14s\n",
      "285:\tlearn: 0.6352692\ttotal: 3m 17s\tremaining: 8m 13s\n",
      "286:\tlearn: 0.6349848\ttotal: 3m 18s\tremaining: 8m 13s\n",
      "287:\tlearn: 0.6343799\ttotal: 3m 19s\tremaining: 8m 12s\n",
      "288:\tlearn: 0.6339075\ttotal: 3m 19s\tremaining: 8m 11s\n",
      "289:\tlearn: 0.6332625\ttotal: 3m 20s\tremaining: 8m 11s\n",
      "290:\tlearn: 0.6330092\ttotal: 3m 21s\tremaining: 8m 10s\n",
      "291:\tlearn: 0.6328156\ttotal: 3m 22s\tremaining: 8m 9s\n",
      "292:\tlearn: 0.6323283\ttotal: 3m 22s\tremaining: 8m 9s\n",
      "293:\tlearn: 0.6311011\ttotal: 3m 23s\tremaining: 8m 8s\n",
      "294:\tlearn: 0.6308539\ttotal: 3m 24s\tremaining: 8m 7s\n",
      "295:\tlearn: 0.6304980\ttotal: 3m 24s\tremaining: 8m 7s\n",
      "296:\tlearn: 0.6301578\ttotal: 3m 25s\tremaining: 8m 6s\n",
      "297:\tlearn: 0.6297255\ttotal: 3m 26s\tremaining: 8m 5s\n",
      "298:\tlearn: 0.6293409\ttotal: 3m 26s\tremaining: 8m 5s\n",
      "299:\tlearn: 0.6283704\ttotal: 3m 27s\tremaining: 8m 4s\n",
      "300:\tlearn: 0.6276440\ttotal: 3m 28s\tremaining: 8m 3s\n",
      "301:\tlearn: 0.6274650\ttotal: 3m 29s\tremaining: 8m 3s\n",
      "302:\tlearn: 0.6272038\ttotal: 3m 29s\tremaining: 8m 2s\n",
      "303:\tlearn: 0.6268656\ttotal: 3m 30s\tremaining: 8m 1s\n",
      "304:\tlearn: 0.6256321\ttotal: 3m 31s\tremaining: 8m 1s\n",
      "305:\tlearn: 0.6233371\ttotal: 3m 31s\tremaining: 8m\n",
      "306:\tlearn: 0.6230659\ttotal: 3m 32s\tremaining: 7m 59s\n",
      "307:\tlearn: 0.6228915\ttotal: 3m 33s\tremaining: 7m 59s\n"
     ]
    },
    {
     "name": "stdout",
     "output_type": "stream",
     "text": [
      "308:\tlearn: 0.6224458\ttotal: 3m 34s\tremaining: 7m 58s\n",
      "309:\tlearn: 0.6217015\ttotal: 3m 34s\tremaining: 7m 57s\n",
      "310:\tlearn: 0.6214223\ttotal: 3m 35s\tremaining: 7m 57s\n",
      "311:\tlearn: 0.6212131\ttotal: 3m 36s\tremaining: 7m 56s\n",
      "312:\tlearn: 0.6209477\ttotal: 3m 36s\tremaining: 7m 55s\n",
      "313:\tlearn: 0.6206643\ttotal: 3m 37s\tremaining: 7m 55s\n",
      "314:\tlearn: 0.6204832\ttotal: 3m 38s\tremaining: 7m 54s\n",
      "315:\tlearn: 0.6201228\ttotal: 3m 38s\tremaining: 7m 53s\n",
      "316:\tlearn: 0.6198125\ttotal: 3m 39s\tremaining: 7m 53s\n",
      "317:\tlearn: 0.6191932\ttotal: 3m 40s\tremaining: 7m 52s\n",
      "318:\tlearn: 0.6185327\ttotal: 3m 41s\tremaining: 7m 51s\n",
      "319:\tlearn: 0.6182441\ttotal: 3m 41s\tremaining: 7m 51s\n",
      "320:\tlearn: 0.6170650\ttotal: 3m 42s\tremaining: 7m 50s\n",
      "321:\tlearn: 0.6167615\ttotal: 3m 43s\tremaining: 7m 49s\n",
      "322:\tlearn: 0.6164124\ttotal: 3m 43s\tremaining: 7m 49s\n",
      "323:\tlearn: 0.6155035\ttotal: 3m 44s\tremaining: 7m 48s\n",
      "324:\tlearn: 0.6150762\ttotal: 3m 45s\tremaining: 7m 47s\n",
      "325:\tlearn: 0.6147879\ttotal: 3m 46s\tremaining: 7m 47s\n",
      "326:\tlearn: 0.6145871\ttotal: 3m 46s\tremaining: 7m 46s\n",
      "327:\tlearn: 0.6131651\ttotal: 3m 47s\tremaining: 7m 45s\n",
      "328:\tlearn: 0.6129396\ttotal: 3m 48s\tremaining: 7m 45s\n",
      "329:\tlearn: 0.6123704\ttotal: 3m 48s\tremaining: 7m 44s\n",
      "330:\tlearn: 0.6120845\ttotal: 3m 49s\tremaining: 7m 43s\n",
      "331:\tlearn: 0.6116899\ttotal: 3m 50s\tremaining: 7m 43s\n",
      "332:\tlearn: 0.6114623\ttotal: 3m 50s\tremaining: 7m 42s\n",
      "333:\tlearn: 0.6112182\ttotal: 3m 51s\tremaining: 7m 41s\n",
      "334:\tlearn: 0.6108488\ttotal: 3m 52s\tremaining: 7m 41s\n",
      "335:\tlearn: 0.6104592\ttotal: 3m 53s\tremaining: 7m 40s\n",
      "336:\tlearn: 0.6100374\ttotal: 3m 53s\tremaining: 7m 39s\n",
      "337:\tlearn: 0.6095482\ttotal: 3m 54s\tremaining: 7m 39s\n",
      "338:\tlearn: 0.6091213\ttotal: 3m 55s\tremaining: 7m 38s\n",
      "339:\tlearn: 0.6084528\ttotal: 3m 55s\tremaining: 7m 37s\n",
      "340:\tlearn: 0.6080993\ttotal: 3m 56s\tremaining: 7m 37s\n",
      "341:\tlearn: 0.6079334\ttotal: 3m 57s\tremaining: 7m 36s\n",
      "342:\tlearn: 0.6076306\ttotal: 3m 58s\tremaining: 7m 35s\n",
      "343:\tlearn: 0.6073107\ttotal: 3m 58s\tremaining: 7m 35s\n",
      "344:\tlearn: 0.6068801\ttotal: 3m 59s\tremaining: 7m 34s\n",
      "345:\tlearn: 0.6065432\ttotal: 4m\tremaining: 7m 33s\n",
      "346:\tlearn: 0.6061935\ttotal: 4m\tremaining: 7m 33s\n",
      "347:\tlearn: 0.6060080\ttotal: 4m 1s\tremaining: 7m 32s\n",
      "348:\tlearn: 0.6050432\ttotal: 4m 2s\tremaining: 7m 31s\n",
      "349:\tlearn: 0.6046169\ttotal: 4m 2s\tremaining: 7m 31s\n",
      "350:\tlearn: 0.6041801\ttotal: 4m 3s\tremaining: 7m 30s\n",
      "351:\tlearn: 0.6039541\ttotal: 4m 4s\tremaining: 7m 29s\n",
      "352:\tlearn: 0.6036929\ttotal: 4m 5s\tremaining: 7m 29s\n",
      "353:\tlearn: 0.6028465\ttotal: 4m 5s\tremaining: 7m 28s\n",
      "354:\tlearn: 0.6018902\ttotal: 4m 6s\tremaining: 7m 27s\n",
      "355:\tlearn: 0.6016244\ttotal: 4m 7s\tremaining: 7m 27s\n",
      "356:\tlearn: 0.6012713\ttotal: 4m 7s\tremaining: 7m 26s\n",
      "357:\tlearn: 0.6006874\ttotal: 4m 8s\tremaining: 7m 25s\n",
      "358:\tlearn: 0.6004451\ttotal: 4m 9s\tremaining: 7m 25s\n",
      "359:\tlearn: 0.6002251\ttotal: 4m 10s\tremaining: 7m 24s\n",
      "360:\tlearn: 0.5996875\ttotal: 4m 10s\tremaining: 7m 23s\n",
      "361:\tlearn: 0.5993018\ttotal: 4m 11s\tremaining: 7m 23s\n",
      "362:\tlearn: 0.5986468\ttotal: 4m 12s\tremaining: 7m 22s\n",
      "363:\tlearn: 0.5983695\ttotal: 4m 12s\tremaining: 7m 21s\n",
      "364:\tlearn: 0.5980270\ttotal: 4m 13s\tremaining: 7m 21s\n",
      "365:\tlearn: 0.5975670\ttotal: 4m 14s\tremaining: 7m 20s\n",
      "366:\tlearn: 0.5968067\ttotal: 4m 14s\tremaining: 7m 19s\n",
      "367:\tlearn: 0.5963833\ttotal: 4m 15s\tremaining: 7m 19s\n",
      "368:\tlearn: 0.5961399\ttotal: 4m 16s\tremaining: 7m 18s\n",
      "369:\tlearn: 0.5958102\ttotal: 4m 17s\tremaining: 7m 17s\n",
      "370:\tlearn: 0.5955355\ttotal: 4m 17s\tremaining: 7m 17s\n",
      "371:\tlearn: 0.5952586\ttotal: 4m 18s\tremaining: 7m 16s\n",
      "372:\tlearn: 0.5945105\ttotal: 4m 19s\tremaining: 7m 15s\n",
      "373:\tlearn: 0.5925625\ttotal: 4m 19s\tremaining: 7m 15s\n",
      "374:\tlearn: 0.5922722\ttotal: 4m 20s\tremaining: 7m 14s\n",
      "375:\tlearn: 0.5919457\ttotal: 4m 21s\tremaining: 7m 13s\n",
      "376:\tlearn: 0.5916198\ttotal: 4m 22s\tremaining: 7m 13s\n",
      "377:\tlearn: 0.5912929\ttotal: 4m 22s\tremaining: 7m 12s\n",
      "378:\tlearn: 0.5896763\ttotal: 4m 23s\tremaining: 7m 11s\n",
      "379:\tlearn: 0.5893806\ttotal: 4m 24s\tremaining: 7m 11s\n",
      "380:\tlearn: 0.5889983\ttotal: 4m 24s\tremaining: 7m 10s\n",
      "381:\tlearn: 0.5887373\ttotal: 4m 25s\tremaining: 7m 9s\n",
      "382:\tlearn: 0.5884436\ttotal: 4m 26s\tremaining: 7m 9s\n",
      "383:\tlearn: 0.5875172\ttotal: 4m 27s\tremaining: 7m 8s\n",
      "384:\tlearn: 0.5871100\ttotal: 4m 27s\tremaining: 7m 7s\n",
      "385:\tlearn: 0.5857274\ttotal: 4m 28s\tremaining: 7m 7s\n",
      "386:\tlearn: 0.5848164\ttotal: 4m 29s\tremaining: 7m 6s\n",
      "387:\tlearn: 0.5845895\ttotal: 4m 29s\tremaining: 7m 5s\n",
      "388:\tlearn: 0.5840592\ttotal: 4m 30s\tremaining: 7m 4s\n",
      "389:\tlearn: 0.5836606\ttotal: 4m 31s\tremaining: 7m 4s\n",
      "390:\tlearn: 0.5829698\ttotal: 4m 32s\tremaining: 7m 3s\n",
      "391:\tlearn: 0.5828016\ttotal: 4m 32s\tremaining: 7m 2s\n",
      "392:\tlearn: 0.5825325\ttotal: 4m 33s\tremaining: 7m 2s\n",
      "393:\tlearn: 0.5822802\ttotal: 4m 34s\tremaining: 7m 1s\n",
      "394:\tlearn: 0.5818793\ttotal: 4m 34s\tremaining: 7m\n",
      "395:\tlearn: 0.5816165\ttotal: 4m 35s\tremaining: 7m\n",
      "396:\tlearn: 0.5812040\ttotal: 4m 36s\tremaining: 6m 59s\n",
      "397:\tlearn: 0.5809265\ttotal: 4m 36s\tremaining: 6m 58s\n",
      "398:\tlearn: 0.5803170\ttotal: 4m 37s\tremaining: 6m 58s\n",
      "399:\tlearn: 0.5799672\ttotal: 4m 38s\tremaining: 6m 57s\n",
      "400:\tlearn: 0.5796296\ttotal: 4m 39s\tremaining: 6m 56s\n",
      "401:\tlearn: 0.5791664\ttotal: 4m 39s\tremaining: 6m 56s\n",
      "402:\tlearn: 0.5784052\ttotal: 4m 40s\tremaining: 6m 55s\n",
      "403:\tlearn: 0.5781270\ttotal: 4m 41s\tremaining: 6m 54s\n",
      "404:\tlearn: 0.5776251\ttotal: 4m 41s\tremaining: 6m 54s\n",
      "405:\tlearn: 0.5774399\ttotal: 4m 42s\tremaining: 6m 53s\n",
      "406:\tlearn: 0.5771160\ttotal: 4m 43s\tremaining: 6m 52s\n",
      "407:\tlearn: 0.5769081\ttotal: 4m 44s\tremaining: 6m 52s\n",
      "408:\tlearn: 0.5766256\ttotal: 4m 44s\tremaining: 6m 51s\n",
      "409:\tlearn: 0.5760870\ttotal: 4m 45s\tremaining: 6m 50s\n",
      "410:\tlearn: 0.5758295\ttotal: 4m 46s\tremaining: 6m 50s\n",
      "411:\tlearn: 0.5756317\ttotal: 4m 46s\tremaining: 6m 49s\n",
      "412:\tlearn: 0.5754042\ttotal: 4m 47s\tremaining: 6m 48s\n",
      "413:\tlearn: 0.5749727\ttotal: 4m 48s\tremaining: 6m 48s\n",
      "414:\tlearn: 0.5743899\ttotal: 4m 49s\tremaining: 6m 47s\n",
      "415:\tlearn: 0.5739957\ttotal: 4m 49s\tremaining: 6m 46s\n",
      "416:\tlearn: 0.5731068\ttotal: 4m 50s\tremaining: 6m 46s\n",
      "417:\tlearn: 0.5728299\ttotal: 4m 51s\tremaining: 6m 45s\n",
      "418:\tlearn: 0.5723357\ttotal: 4m 51s\tremaining: 6m 44s\n",
      "419:\tlearn: 0.5718499\ttotal: 4m 52s\tremaining: 6m 44s\n",
      "420:\tlearn: 0.5715807\ttotal: 4m 53s\tremaining: 6m 43s\n",
      "421:\tlearn: 0.5703774\ttotal: 4m 54s\tremaining: 6m 42s\n",
      "422:\tlearn: 0.5685373\ttotal: 4m 54s\tremaining: 6m 42s\n",
      "423:\tlearn: 0.5683086\ttotal: 4m 55s\tremaining: 6m 41s\n",
      "424:\tlearn: 0.5681011\ttotal: 4m 56s\tremaining: 6m 41s\n",
      "425:\tlearn: 0.5677520\ttotal: 4m 57s\tremaining: 6m 40s\n",
      "426:\tlearn: 0.5675244\ttotal: 4m 57s\tremaining: 6m 39s\n",
      "427:\tlearn: 0.5671375\ttotal: 4m 58s\tremaining: 6m 39s\n",
      "428:\tlearn: 0.5667525\ttotal: 4m 59s\tremaining: 6m 38s\n",
      "429:\tlearn: 0.5664068\ttotal: 5m\tremaining: 6m 37s\n",
      "430:\tlearn: 0.5661054\ttotal: 5m\tremaining: 6m 37s\n",
      "431:\tlearn: 0.5657904\ttotal: 5m 1s\tremaining: 6m 36s\n",
      "432:\tlearn: 0.5651745\ttotal: 5m 2s\tremaining: 6m 35s\n",
      "433:\tlearn: 0.5645697\ttotal: 5m 2s\tremaining: 6m 35s\n",
      "434:\tlearn: 0.5642677\ttotal: 5m 3s\tremaining: 6m 34s\n",
      "435:\tlearn: 0.5632622\ttotal: 5m 4s\tremaining: 6m 33s\n",
      "436:\tlearn: 0.5631147\ttotal: 5m 5s\tremaining: 6m 33s\n",
      "437:\tlearn: 0.5626049\ttotal: 5m 5s\tremaining: 6m 32s\n",
      "438:\tlearn: 0.5622322\ttotal: 5m 6s\tremaining: 6m 31s\n",
      "439:\tlearn: 0.5618922\ttotal: 5m 7s\tremaining: 6m 31s\n",
      "440:\tlearn: 0.5611140\ttotal: 5m 7s\tremaining: 6m 30s\n",
      "441:\tlearn: 0.5606189\ttotal: 5m 8s\tremaining: 6m 29s\n",
      "442:\tlearn: 0.5602658\ttotal: 5m 9s\tremaining: 6m 28s\n",
      "443:\tlearn: 0.5601075\ttotal: 5m 10s\tremaining: 6m 28s\n",
      "444:\tlearn: 0.5594147\ttotal: 5m 10s\tremaining: 6m 27s\n",
      "445:\tlearn: 0.5590874\ttotal: 5m 11s\tremaining: 6m 26s\n",
      "446:\tlearn: 0.5588065\ttotal: 5m 12s\tremaining: 6m 26s\n",
      "447:\tlearn: 0.5585164\ttotal: 5m 12s\tremaining: 6m 25s\n",
      "448:\tlearn: 0.5579157\ttotal: 5m 13s\tremaining: 6m 24s\n",
      "449:\tlearn: 0.5571088\ttotal: 5m 14s\tremaining: 6m 24s\n",
      "450:\tlearn: 0.5569211\ttotal: 5m 15s\tremaining: 6m 23s\n",
      "451:\tlearn: 0.5566292\ttotal: 5m 15s\tremaining: 6m 22s\n",
      "452:\tlearn: 0.5563869\ttotal: 5m 16s\tremaining: 6m 22s\n",
      "453:\tlearn: 0.5561557\ttotal: 5m 17s\tremaining: 6m 21s\n",
      "454:\tlearn: 0.5559439\ttotal: 5m 17s\tremaining: 6m 20s\n",
      "455:\tlearn: 0.5557093\ttotal: 5m 18s\tremaining: 6m 20s\n",
      "456:\tlearn: 0.5547732\ttotal: 5m 19s\tremaining: 6m 19s\n",
      "457:\tlearn: 0.5545509\ttotal: 5m 20s\tremaining: 6m 18s\n",
      "458:\tlearn: 0.5541835\ttotal: 5m 20s\tremaining: 6m 18s\n",
      "459:\tlearn: 0.5537098\ttotal: 5m 21s\tremaining: 6m 17s\n",
      "460:\tlearn: 0.5534206\ttotal: 5m 22s\tremaining: 6m 16s\n"
     ]
    },
    {
     "name": "stdout",
     "output_type": "stream",
     "text": [
      "461:\tlearn: 0.5528003\ttotal: 5m 22s\tremaining: 6m 16s\n",
      "462:\tlearn: 0.5524293\ttotal: 5m 23s\tremaining: 6m 15s\n",
      "463:\tlearn: 0.5521044\ttotal: 5m 24s\tremaining: 6m 14s\n",
      "464:\tlearn: 0.5518667\ttotal: 5m 25s\tremaining: 6m 13s\n",
      "465:\tlearn: 0.5517001\ttotal: 5m 25s\tremaining: 6m 13s\n",
      "466:\tlearn: 0.5513648\ttotal: 5m 26s\tremaining: 6m 12s\n",
      "467:\tlearn: 0.5511759\ttotal: 5m 27s\tremaining: 6m 11s\n",
      "468:\tlearn: 0.5509242\ttotal: 5m 27s\tremaining: 6m 11s\n",
      "469:\tlearn: 0.5505749\ttotal: 5m 28s\tremaining: 6m 10s\n",
      "470:\tlearn: 0.5497040\ttotal: 5m 29s\tremaining: 6m 9s\n",
      "471:\tlearn: 0.5494769\ttotal: 5m 30s\tremaining: 6m 9s\n",
      "472:\tlearn: 0.5486725\ttotal: 5m 30s\tremaining: 6m 8s\n",
      "473:\tlearn: 0.5484884\ttotal: 5m 31s\tremaining: 6m 7s\n",
      "474:\tlearn: 0.5477416\ttotal: 5m 32s\tremaining: 6m 7s\n",
      "475:\tlearn: 0.5468931\ttotal: 5m 32s\tremaining: 6m 6s\n",
      "476:\tlearn: 0.5463634\ttotal: 5m 33s\tremaining: 6m 5s\n",
      "477:\tlearn: 0.5461623\ttotal: 5m 34s\tremaining: 6m 5s\n",
      "478:\tlearn: 0.5459421\ttotal: 5m 35s\tremaining: 6m 4s\n",
      "479:\tlearn: 0.5454158\ttotal: 5m 35s\tremaining: 6m 3s\n",
      "480:\tlearn: 0.5446337\ttotal: 5m 36s\tremaining: 6m 3s\n",
      "481:\tlearn: 0.5442322\ttotal: 5m 37s\tremaining: 6m 2s\n",
      "482:\tlearn: 0.5436929\ttotal: 5m 37s\tremaining: 6m 1s\n",
      "483:\tlearn: 0.5430118\ttotal: 5m 38s\tremaining: 6m 1s\n",
      "484:\tlearn: 0.5428878\ttotal: 5m 39s\tremaining: 6m\n",
      "485:\tlearn: 0.5427307\ttotal: 5m 40s\tremaining: 5m 59s\n",
      "486:\tlearn: 0.5421636\ttotal: 5m 40s\tremaining: 5m 59s\n",
      "487:\tlearn: 0.5419483\ttotal: 5m 41s\tremaining: 5m 58s\n",
      "488:\tlearn: 0.5413177\ttotal: 5m 42s\tremaining: 5m 57s\n",
      "489:\tlearn: 0.5411181\ttotal: 5m 42s\tremaining: 5m 56s\n",
      "490:\tlearn: 0.5400840\ttotal: 5m 43s\tremaining: 5m 56s\n",
      "491:\tlearn: 0.5398208\ttotal: 5m 44s\tremaining: 5m 55s\n",
      "492:\tlearn: 0.5386112\ttotal: 5m 45s\tremaining: 5m 54s\n",
      "493:\tlearn: 0.5382536\ttotal: 5m 45s\tremaining: 5m 54s\n",
      "494:\tlearn: 0.5371569\ttotal: 5m 46s\tremaining: 5m 53s\n",
      "495:\tlearn: 0.5369505\ttotal: 5m 47s\tremaining: 5m 52s\n",
      "496:\tlearn: 0.5368075\ttotal: 5m 47s\tremaining: 5m 52s\n",
      "497:\tlearn: 0.5364720\ttotal: 5m 48s\tremaining: 5m 51s\n",
      "498:\tlearn: 0.5360585\ttotal: 5m 49s\tremaining: 5m 50s\n",
      "499:\tlearn: 0.5358077\ttotal: 5m 50s\tremaining: 5m 50s\n",
      "500:\tlearn: 0.5355956\ttotal: 5m 50s\tremaining: 5m 49s\n",
      "501:\tlearn: 0.5353963\ttotal: 5m 51s\tremaining: 5m 48s\n",
      "502:\tlearn: 0.5351776\ttotal: 5m 52s\tremaining: 5m 48s\n",
      "503:\tlearn: 0.5349024\ttotal: 5m 52s\tremaining: 5m 47s\n",
      "504:\tlearn: 0.5344284\ttotal: 5m 53s\tremaining: 5m 46s\n",
      "505:\tlearn: 0.5342006\ttotal: 5m 54s\tremaining: 5m 45s\n",
      "506:\tlearn: 0.5333231\ttotal: 5m 55s\tremaining: 5m 45s\n",
      "507:\tlearn: 0.5323605\ttotal: 5m 55s\tremaining: 5m 44s\n",
      "508:\tlearn: 0.5322370\ttotal: 5m 56s\tremaining: 5m 43s\n",
      "509:\tlearn: 0.5320375\ttotal: 5m 57s\tremaining: 5m 43s\n",
      "510:\tlearn: 0.5318305\ttotal: 5m 57s\tremaining: 5m 42s\n",
      "511:\tlearn: 0.5304901\ttotal: 5m 58s\tremaining: 5m 41s\n",
      "512:\tlearn: 0.5302936\ttotal: 5m 59s\tremaining: 5m 41s\n",
      "513:\tlearn: 0.5300014\ttotal: 6m\tremaining: 5m 40s\n",
      "514:\tlearn: 0.5297382\ttotal: 6m\tremaining: 5m 39s\n",
      "515:\tlearn: 0.5295249\ttotal: 6m 1s\tremaining: 5m 39s\n",
      "516:\tlearn: 0.5293455\ttotal: 6m 2s\tremaining: 5m 38s\n",
      "517:\tlearn: 0.5290602\ttotal: 6m 2s\tremaining: 5m 37s\n",
      "518:\tlearn: 0.5285797\ttotal: 6m 3s\tremaining: 5m 36s\n",
      "519:\tlearn: 0.5283692\ttotal: 6m 4s\tremaining: 5m 36s\n",
      "520:\tlearn: 0.5281923\ttotal: 6m 5s\tremaining: 5m 35s\n",
      "521:\tlearn: 0.5279406\ttotal: 6m 5s\tremaining: 5m 34s\n",
      "522:\tlearn: 0.5277283\ttotal: 6m 6s\tremaining: 5m 34s\n",
      "523:\tlearn: 0.5272801\ttotal: 6m 7s\tremaining: 5m 33s\n",
      "524:\tlearn: 0.5271094\ttotal: 6m 7s\tremaining: 5m 32s\n",
      "525:\tlearn: 0.5256527\ttotal: 6m 8s\tremaining: 5m 32s\n",
      "526:\tlearn: 0.5253415\ttotal: 6m 9s\tremaining: 5m 31s\n",
      "527:\tlearn: 0.5248704\ttotal: 6m 10s\tremaining: 5m 30s\n",
      "528:\tlearn: 0.5246321\ttotal: 6m 10s\tremaining: 5m 30s\n",
      "529:\tlearn: 0.5240869\ttotal: 6m 11s\tremaining: 5m 29s\n",
      "530:\tlearn: 0.5238001\ttotal: 6m 12s\tremaining: 5m 28s\n",
      "531:\tlearn: 0.5235066\ttotal: 6m 12s\tremaining: 5m 28s\n",
      "532:\tlearn: 0.5230073\ttotal: 6m 13s\tremaining: 5m 27s\n",
      "533:\tlearn: 0.5228401\ttotal: 6m 14s\tremaining: 5m 26s\n",
      "534:\tlearn: 0.5222974\ttotal: 6m 15s\tremaining: 5m 25s\n",
      "535:\tlearn: 0.5218764\ttotal: 6m 15s\tremaining: 5m 25s\n",
      "536:\tlearn: 0.5216651\ttotal: 6m 16s\tremaining: 5m 24s\n",
      "537:\tlearn: 0.5214410\ttotal: 6m 17s\tremaining: 5m 23s\n",
      "538:\tlearn: 0.5212628\ttotal: 6m 17s\tremaining: 5m 23s\n",
      "539:\tlearn: 0.5210488\ttotal: 6m 18s\tremaining: 5m 22s\n",
      "540:\tlearn: 0.5208921\ttotal: 6m 19s\tremaining: 5m 21s\n",
      "541:\tlearn: 0.5203222\ttotal: 6m 20s\tremaining: 5m 21s\n",
      "542:\tlearn: 0.5201281\ttotal: 6m 20s\tremaining: 5m 20s\n",
      "543:\tlearn: 0.5198630\ttotal: 6m 21s\tremaining: 5m 19s\n",
      "544:\tlearn: 0.5187443\ttotal: 6m 22s\tremaining: 5m 19s\n",
      "545:\tlearn: 0.5183508\ttotal: 6m 22s\tremaining: 5m 18s\n",
      "546:\tlearn: 0.5182077\ttotal: 6m 23s\tremaining: 5m 17s\n",
      "547:\tlearn: 0.5180085\ttotal: 6m 24s\tremaining: 5m 17s\n",
      "548:\tlearn: 0.5177816\ttotal: 6m 25s\tremaining: 5m 16s\n",
      "549:\tlearn: 0.5175720\ttotal: 6m 25s\tremaining: 5m 15s\n",
      "550:\tlearn: 0.5170221\ttotal: 6m 26s\tremaining: 5m 14s\n",
      "551:\tlearn: 0.5167842\ttotal: 6m 27s\tremaining: 5m 14s\n",
      "552:\tlearn: 0.5162692\ttotal: 6m 27s\tremaining: 5m 13s\n",
      "553:\tlearn: 0.5157073\ttotal: 6m 28s\tremaining: 5m 12s\n",
      "554:\tlearn: 0.5154455\ttotal: 6m 29s\tremaining: 5m 12s\n",
      "555:\tlearn: 0.5153039\ttotal: 6m 30s\tremaining: 5m 11s\n",
      "556:\tlearn: 0.5151442\ttotal: 6m 30s\tremaining: 5m 10s\n",
      "557:\tlearn: 0.5144230\ttotal: 6m 31s\tremaining: 5m 10s\n",
      "558:\tlearn: 0.5142292\ttotal: 6m 32s\tremaining: 5m 9s\n",
      "559:\tlearn: 0.5140110\ttotal: 6m 32s\tremaining: 5m 8s\n",
      "560:\tlearn: 0.5134394\ttotal: 6m 33s\tremaining: 5m 8s\n",
      "561:\tlearn: 0.5132388\ttotal: 6m 34s\tremaining: 5m 7s\n",
      "562:\tlearn: 0.5131006\ttotal: 6m 35s\tremaining: 5m 6s\n",
      "563:\tlearn: 0.5128575\ttotal: 6m 35s\tremaining: 5m 5s\n",
      "564:\tlearn: 0.5126878\ttotal: 6m 36s\tremaining: 5m 5s\n",
      "565:\tlearn: 0.5123507\ttotal: 6m 37s\tremaining: 5m 4s\n",
      "566:\tlearn: 0.5115183\ttotal: 6m 37s\tremaining: 5m 3s\n",
      "567:\tlearn: 0.5106994\ttotal: 6m 38s\tremaining: 5m 3s\n",
      "568:\tlearn: 0.5104348\ttotal: 6m 39s\tremaining: 5m 2s\n",
      "569:\tlearn: 0.5102210\ttotal: 6m 40s\tremaining: 5m 1s\n",
      "570:\tlearn: 0.5097754\ttotal: 6m 41s\tremaining: 5m 1s\n",
      "571:\tlearn: 0.5095429\ttotal: 6m 41s\tremaining: 5m\n",
      "572:\tlearn: 0.5093147\ttotal: 7m 47s\tremaining: 5m 48s\n",
      "573:\tlearn: 0.5089199\ttotal: 7m 47s\tremaining: 5m 47s\n",
      "574:\tlearn: 0.5085840\ttotal: 7m 48s\tremaining: 5m 46s\n",
      "575:\tlearn: 0.5076942\ttotal: 7m 49s\tremaining: 5m 45s\n",
      "576:\tlearn: 0.5069698\ttotal: 7m 50s\tremaining: 5m 44s\n",
      "577:\tlearn: 0.5068195\ttotal: 7m 50s\tremaining: 5m 43s\n",
      "578:\tlearn: 0.5065961\ttotal: 7m 51s\tremaining: 5m 42s\n",
      "579:\tlearn: 0.5064561\ttotal: 7m 52s\tremaining: 5m 42s\n",
      "580:\tlearn: 0.5057212\ttotal: 7m 53s\tremaining: 5m 41s\n",
      "581:\tlearn: 0.5046038\ttotal: 7m 53s\tremaining: 5m 40s\n",
      "582:\tlearn: 0.5040021\ttotal: 7m 54s\tremaining: 5m 39s\n",
      "583:\tlearn: 0.5038465\ttotal: 7m 55s\tremaining: 5m 38s\n",
      "584:\tlearn: 0.5036814\ttotal: 7m 55s\tremaining: 5m 37s\n",
      "585:\tlearn: 0.5034547\ttotal: 7m 56s\tremaining: 5m 36s\n",
      "586:\tlearn: 0.5031902\ttotal: 7m 56s\tremaining: 5m 35s\n",
      "587:\tlearn: 0.5028251\ttotal: 7m 57s\tremaining: 5m 34s\n",
      "588:\tlearn: 0.5024755\ttotal: 7m 58s\tremaining: 5m 33s\n",
      "589:\tlearn: 0.5022748\ttotal: 7m 58s\tremaining: 5m 32s\n",
      "590:\tlearn: 0.5020494\ttotal: 7m 59s\tremaining: 5m 31s\n",
      "591:\tlearn: 0.5017964\ttotal: 8m\tremaining: 5m 30s\n",
      "592:\tlearn: 0.5008619\ttotal: 8m\tremaining: 5m 30s\n",
      "593:\tlearn: 0.5000550\ttotal: 8m 1s\tremaining: 5m 29s\n",
      "594:\tlearn: 0.4998996\ttotal: 8m 2s\tremaining: 5m 28s\n",
      "595:\tlearn: 0.4997111\ttotal: 8m 2s\tremaining: 5m 27s\n",
      "596:\tlearn: 0.4995804\ttotal: 8m 3s\tremaining: 5m 26s\n",
      "597:\tlearn: 0.4994023\ttotal: 8m 4s\tremaining: 5m 25s\n",
      "598:\tlearn: 0.4992132\ttotal: 8m 4s\tremaining: 5m 24s\n",
      "599:\tlearn: 0.4990593\ttotal: 8m 5s\tremaining: 5m 23s\n",
      "600:\tlearn: 0.4988352\ttotal: 8m 6s\tremaining: 5m 22s\n",
      "601:\tlearn: 0.4984057\ttotal: 8m 6s\tremaining: 5m 21s\n",
      "602:\tlearn: 0.4982313\ttotal: 8m 7s\tremaining: 5m 20s\n",
      "603:\tlearn: 0.4980112\ttotal: 8m 8s\tremaining: 5m 20s\n",
      "604:\tlearn: 0.4978297\ttotal: 8m 8s\tremaining: 5m 19s\n",
      "605:\tlearn: 0.4974404\ttotal: 8m 9s\tremaining: 5m 18s\n",
      "606:\tlearn: 0.4972372\ttotal: 8m 10s\tremaining: 5m 17s\n",
      "607:\tlearn: 0.4971080\ttotal: 8m 10s\tremaining: 5m 16s\n",
      "608:\tlearn: 0.4969804\ttotal: 8m 11s\tremaining: 5m 15s\n",
      "609:\tlearn: 0.4968010\ttotal: 8m 12s\tremaining: 5m 14s\n",
      "610:\tlearn: 0.4964188\ttotal: 8m 12s\tremaining: 5m 13s\n",
      "611:\tlearn: 0.4961981\ttotal: 8m 13s\tremaining: 5m 12s\n",
      "612:\tlearn: 0.4960489\ttotal: 8m 14s\tremaining: 5m 12s\n",
      "613:\tlearn: 0.4958665\ttotal: 8m 14s\tremaining: 5m 11s\n",
      "614:\tlearn: 0.4956672\ttotal: 8m 15s\tremaining: 5m 10s\n"
     ]
    },
    {
     "name": "stdout",
     "output_type": "stream",
     "text": [
      "615:\tlearn: 0.4954899\ttotal: 8m 16s\tremaining: 5m 9s\n",
      "616:\tlearn: 0.4950648\ttotal: 8m 16s\tremaining: 5m 8s\n",
      "617:\tlearn: 0.4947904\ttotal: 8m 17s\tremaining: 5m 7s\n",
      "618:\tlearn: 0.4946235\ttotal: 8m 18s\tremaining: 5m 6s\n",
      "619:\tlearn: 0.4943345\ttotal: 8m 19s\tremaining: 5m 5s\n",
      "620:\tlearn: 0.4940507\ttotal: 8m 19s\tremaining: 5m 4s\n",
      "621:\tlearn: 0.4939017\ttotal: 8m 20s\tremaining: 5m 4s\n",
      "622:\tlearn: 0.4937073\ttotal: 8m 21s\tremaining: 5m 3s\n",
      "623:\tlearn: 0.4935755\ttotal: 8m 21s\tremaining: 5m 2s\n",
      "624:\tlearn: 0.4934091\ttotal: 8m 22s\tremaining: 5m 1s\n",
      "625:\tlearn: 0.4931882\ttotal: 8m 23s\tremaining: 5m\n",
      "626:\tlearn: 0.4928698\ttotal: 8m 23s\tremaining: 4m 59s\n",
      "627:\tlearn: 0.4927407\ttotal: 8m 24s\tremaining: 4m 58s\n",
      "628:\tlearn: 0.4917954\ttotal: 8m 25s\tremaining: 4m 57s\n",
      "629:\tlearn: 0.4915984\ttotal: 8m 25s\tremaining: 4m 57s\n",
      "630:\tlearn: 0.4914062\ttotal: 8m 26s\tremaining: 4m 56s\n",
      "631:\tlearn: 0.4912008\ttotal: 8m 27s\tremaining: 4m 55s\n",
      "632:\tlearn: 0.4909101\ttotal: 8m 27s\tremaining: 4m 54s\n",
      "633:\tlearn: 0.4904686\ttotal: 8m 28s\tremaining: 4m 53s\n",
      "634:\tlearn: 0.4903288\ttotal: 8m 29s\tremaining: 4m 52s\n",
      "635:\tlearn: 0.4899567\ttotal: 8m 30s\tremaining: 4m 51s\n",
      "636:\tlearn: 0.4894623\ttotal: 8m 30s\tremaining: 4m 51s\n",
      "637:\tlearn: 0.4885416\ttotal: 8m 31s\tremaining: 4m 50s\n",
      "638:\tlearn: 0.4883619\ttotal: 8m 32s\tremaining: 4m 49s\n",
      "639:\tlearn: 0.4880982\ttotal: 8m 32s\tremaining: 4m 48s\n",
      "640:\tlearn: 0.4879091\ttotal: 8m 33s\tremaining: 4m 47s\n",
      "641:\tlearn: 0.4873809\ttotal: 8m 34s\tremaining: 4m 46s\n",
      "642:\tlearn: 0.4871904\ttotal: 8m 34s\tremaining: 4m 45s\n",
      "643:\tlearn: 0.4870241\ttotal: 8m 35s\tremaining: 4m 45s\n",
      "644:\tlearn: 0.4868354\ttotal: 8m 36s\tremaining: 4m 44s\n",
      "645:\tlearn: 0.4861117\ttotal: 8m 36s\tremaining: 4m 43s\n",
      "646:\tlearn: 0.4858870\ttotal: 8m 37s\tremaining: 4m 42s\n",
      "647:\tlearn: 0.4857100\ttotal: 8m 38s\tremaining: 4m 41s\n",
      "648:\tlearn: 0.4854639\ttotal: 8m 39s\tremaining: 4m 40s\n",
      "649:\tlearn: 0.4853356\ttotal: 8m 39s\tremaining: 4m 39s\n",
      "650:\tlearn: 0.4851275\ttotal: 8m 40s\tremaining: 4m 38s\n",
      "651:\tlearn: 0.4849318\ttotal: 8m 41s\tremaining: 4m 38s\n",
      "652:\tlearn: 0.4845432\ttotal: 8m 41s\tremaining: 4m 37s\n",
      "653:\tlearn: 0.4843663\ttotal: 8m 42s\tremaining: 4m 36s\n",
      "654:\tlearn: 0.4842180\ttotal: 8m 43s\tremaining: 4m 35s\n",
      "655:\tlearn: 0.4837508\ttotal: 8m 44s\tremaining: 4m 34s\n",
      "656:\tlearn: 0.4829456\ttotal: 8m 44s\tremaining: 4m 33s\n",
      "657:\tlearn: 0.4822489\ttotal: 8m 45s\tremaining: 4m 33s\n",
      "658:\tlearn: 0.4818430\ttotal: 8m 46s\tremaining: 4m 32s\n",
      "659:\tlearn: 0.4817221\ttotal: 8m 46s\tremaining: 4m 31s\n",
      "660:\tlearn: 0.4815684\ttotal: 8m 47s\tremaining: 4m 30s\n",
      "661:\tlearn: 0.4812194\ttotal: 8m 48s\tremaining: 4m 29s\n",
      "662:\tlearn: 0.4809370\ttotal: 8m 49s\tremaining: 4m 28s\n",
      "663:\tlearn: 0.4807443\ttotal: 8m 49s\tremaining: 4m 28s\n",
      "664:\tlearn: 0.4801571\ttotal: 8m 50s\tremaining: 4m 27s\n",
      "665:\tlearn: 0.4796104\ttotal: 8m 51s\tremaining: 4m 26s\n",
      "666:\tlearn: 0.4794333\ttotal: 8m 51s\tremaining: 4m 25s\n",
      "667:\tlearn: 0.4792562\ttotal: 8m 52s\tremaining: 4m 24s\n",
      "668:\tlearn: 0.4791281\ttotal: 8m 53s\tremaining: 4m 23s\n",
      "669:\tlearn: 0.4789402\ttotal: 8m 54s\tremaining: 4m 23s\n",
      "670:\tlearn: 0.4784244\ttotal: 8m 54s\tremaining: 4m 22s\n",
      "671:\tlearn: 0.4782196\ttotal: 8m 55s\tremaining: 4m 21s\n",
      "672:\tlearn: 0.4780466\ttotal: 8m 56s\tremaining: 4m 20s\n",
      "673:\tlearn: 0.4778639\ttotal: 8m 56s\tremaining: 4m 19s\n",
      "674:\tlearn: 0.4776502\ttotal: 8m 57s\tremaining: 4m 18s\n",
      "675:\tlearn: 0.4774480\ttotal: 8m 58s\tremaining: 4m 17s\n",
      "676:\tlearn: 0.4767143\ttotal: 8m 58s\tremaining: 4m 17s\n",
      "677:\tlearn: 0.4762678\ttotal: 8m 59s\tremaining: 4m 16s\n",
      "678:\tlearn: 0.4761122\ttotal: 9m\tremaining: 4m 15s\n",
      "679:\tlearn: 0.4759651\ttotal: 9m 1s\tremaining: 4m 14s\n",
      "680:\tlearn: 0.4758020\ttotal: 9m 1s\tremaining: 4m 13s\n",
      "681:\tlearn: 0.4756270\ttotal: 9m 2s\tremaining: 4m 12s\n",
      "682:\tlearn: 0.4746249\ttotal: 9m 3s\tremaining: 4m 12s\n",
      "683:\tlearn: 0.4744956\ttotal: 9m 3s\tremaining: 4m 11s\n",
      "684:\tlearn: 0.4743454\ttotal: 9m 4s\tremaining: 4m 10s\n",
      "685:\tlearn: 0.4741949\ttotal: 9m 5s\tremaining: 4m 9s\n",
      "686:\tlearn: 0.4740378\ttotal: 9m 6s\tremaining: 4m 8s\n",
      "687:\tlearn: 0.4737740\ttotal: 9m 6s\tremaining: 4m 7s\n",
      "688:\tlearn: 0.4736098\ttotal: 9m 7s\tremaining: 4m 7s\n",
      "689:\tlearn: 0.4733348\ttotal: 9m 8s\tremaining: 4m 6s\n",
      "690:\tlearn: 0.4729899\ttotal: 9m 8s\tremaining: 4m 5s\n",
      "691:\tlearn: 0.4727600\ttotal: 9m 9s\tremaining: 4m 4s\n",
      "692:\tlearn: 0.4725799\ttotal: 9m 10s\tremaining: 4m 3s\n",
      "693:\tlearn: 0.4724541\ttotal: 9m 11s\tremaining: 4m 2s\n",
      "694:\tlearn: 0.4722976\ttotal: 9m 11s\tremaining: 4m 2s\n",
      "695:\tlearn: 0.4719517\ttotal: 9m 12s\tremaining: 4m 1s\n",
      "696:\tlearn: 0.4718132\ttotal: 9m 13s\tremaining: 4m\n",
      "697:\tlearn: 0.4715690\ttotal: 9m 13s\tremaining: 3m 59s\n",
      "698:\tlearn: 0.4712537\ttotal: 9m 14s\tremaining: 3m 58s\n",
      "699:\tlearn: 0.4705979\ttotal: 9m 15s\tremaining: 3m 57s\n",
      "700:\tlearn: 0.4703773\ttotal: 9m 16s\tremaining: 3m 57s\n",
      "701:\tlearn: 0.4700696\ttotal: 9m 16s\tremaining: 3m 56s\n",
      "702:\tlearn: 0.4698592\ttotal: 9m 17s\tremaining: 3m 55s\n",
      "703:\tlearn: 0.4696053\ttotal: 9m 18s\tremaining: 3m 54s\n",
      "704:\tlearn: 0.4688243\ttotal: 9m 18s\tremaining: 3m 53s\n",
      "705:\tlearn: 0.4686755\ttotal: 9m 19s\tremaining: 3m 53s\n",
      "706:\tlearn: 0.4684932\ttotal: 9m 20s\tremaining: 3m 52s\n",
      "707:\tlearn: 0.4676243\ttotal: 9m 21s\tremaining: 3m 51s\n",
      "708:\tlearn: 0.4674819\ttotal: 9m 21s\tremaining: 3m 50s\n",
      "709:\tlearn: 0.4673579\ttotal: 9m 22s\tremaining: 3m 49s\n",
      "710:\tlearn: 0.4668425\ttotal: 9m 23s\tremaining: 3m 48s\n",
      "711:\tlearn: 0.4665727\ttotal: 9m 23s\tremaining: 3m 48s\n",
      "712:\tlearn: 0.4664160\ttotal: 9m 24s\tremaining: 3m 47s\n",
      "713:\tlearn: 0.4663026\ttotal: 9m 25s\tremaining: 3m 46s\n",
      "714:\tlearn: 0.4661244\ttotal: 9m 25s\tremaining: 3m 45s\n",
      "715:\tlearn: 0.4657540\ttotal: 9m 26s\tremaining: 3m 44s\n",
      "716:\tlearn: 0.4654345\ttotal: 9m 27s\tremaining: 3m 43s\n",
      "717:\tlearn: 0.4651495\ttotal: 9m 28s\tremaining: 3m 43s\n",
      "718:\tlearn: 0.4650008\ttotal: 9m 28s\tremaining: 3m 42s\n",
      "719:\tlearn: 0.4648700\ttotal: 9m 29s\tremaining: 3m 41s\n",
      "720:\tlearn: 0.4646666\ttotal: 9m 30s\tremaining: 3m 40s\n",
      "721:\tlearn: 0.4644690\ttotal: 9m 30s\tremaining: 3m 39s\n",
      "722:\tlearn: 0.4642115\ttotal: 9m 31s\tremaining: 3m 39s\n",
      "723:\tlearn: 0.4640181\ttotal: 9m 32s\tremaining: 3m 38s\n",
      "724:\tlearn: 0.4638683\ttotal: 9m 33s\tremaining: 3m 37s\n",
      "725:\tlearn: 0.4633958\ttotal: 9m 33s\tremaining: 3m 36s\n",
      "726:\tlearn: 0.4630364\ttotal: 9m 34s\tremaining: 3m 35s\n",
      "727:\tlearn: 0.4628315\ttotal: 9m 35s\tremaining: 3m 34s\n",
      "728:\tlearn: 0.4626210\ttotal: 9m 35s\tremaining: 3m 34s\n",
      "729:\tlearn: 0.4624433\ttotal: 9m 36s\tremaining: 3m 33s\n",
      "730:\tlearn: 0.4622902\ttotal: 9m 37s\tremaining: 3m 32s\n",
      "731:\tlearn: 0.4621976\ttotal: 9m 38s\tremaining: 3m 31s\n",
      "732:\tlearn: 0.4618043\ttotal: 9m 38s\tremaining: 3m 30s\n",
      "733:\tlearn: 0.4613868\ttotal: 9m 39s\tremaining: 3m 30s\n",
      "734:\tlearn: 0.4611544\ttotal: 9m 40s\tremaining: 3m 29s\n",
      "735:\tlearn: 0.4609692\ttotal: 9m 40s\tremaining: 3m 28s\n",
      "736:\tlearn: 0.4607782\ttotal: 9m 41s\tremaining: 3m 27s\n",
      "737:\tlearn: 0.4604067\ttotal: 9m 42s\tremaining: 3m 26s\n",
      "738:\tlearn: 0.4600528\ttotal: 9m 43s\tremaining: 3m 25s\n",
      "739:\tlearn: 0.4598494\ttotal: 9m 43s\tremaining: 3m 25s\n",
      "740:\tlearn: 0.4596753\ttotal: 9m 44s\tremaining: 3m 24s\n",
      "741:\tlearn: 0.4593226\ttotal: 9m 45s\tremaining: 3m 23s\n",
      "742:\tlearn: 0.4591645\ttotal: 9m 45s\tremaining: 3m 22s\n",
      "743:\tlearn: 0.4589777\ttotal: 9m 46s\tremaining: 3m 21s\n",
      "744:\tlearn: 0.4588349\ttotal: 9m 47s\tremaining: 3m 21s\n",
      "745:\tlearn: 0.4584952\ttotal: 9m 48s\tremaining: 3m 20s\n",
      "746:\tlearn: 0.4583064\ttotal: 9m 48s\tremaining: 3m 19s\n",
      "747:\tlearn: 0.4578395\ttotal: 9m 49s\tremaining: 3m 18s\n",
      "748:\tlearn: 0.4577034\ttotal: 9m 50s\tremaining: 3m 17s\n",
      "749:\tlearn: 0.4574683\ttotal: 9m 50s\tremaining: 3m 16s\n",
      "750:\tlearn: 0.4572802\ttotal: 9m 51s\tremaining: 3m 16s\n",
      "751:\tlearn: 0.4568015\ttotal: 9m 52s\tremaining: 3m 15s\n",
      "752:\tlearn: 0.4566214\ttotal: 9m 52s\tremaining: 3m 14s\n",
      "753:\tlearn: 0.4561978\ttotal: 9m 53s\tremaining: 3m 13s\n",
      "754:\tlearn: 0.4560201\ttotal: 9m 54s\tremaining: 3m 12s\n",
      "755:\tlearn: 0.4557414\ttotal: 9m 55s\tremaining: 3m 12s\n",
      "756:\tlearn: 0.4555886\ttotal: 9m 55s\tremaining: 3m 11s\n",
      "757:\tlearn: 0.4553663\ttotal: 9m 56s\tremaining: 3m 10s\n",
      "758:\tlearn: 0.4551554\ttotal: 9m 57s\tremaining: 3m 9s\n",
      "759:\tlearn: 0.4548971\ttotal: 9m 57s\tremaining: 3m 8s\n",
      "760:\tlearn: 0.4547116\ttotal: 9m 58s\tremaining: 3m 8s\n",
      "761:\tlearn: 0.4544932\ttotal: 9m 59s\tremaining: 3m 7s\n",
      "762:\tlearn: 0.4543202\ttotal: 10m\tremaining: 3m 6s\n",
      "763:\tlearn: 0.4541368\ttotal: 10m\tremaining: 3m 5s\n",
      "764:\tlearn: 0.4539871\ttotal: 10m 1s\tremaining: 3m 4s\n",
      "765:\tlearn: 0.4537432\ttotal: 10m 2s\tremaining: 3m 3s\n",
      "766:\tlearn: 0.4532576\ttotal: 10m 2s\tremaining: 3m 3s\n",
      "767:\tlearn: 0.4530670\ttotal: 10m 3s\tremaining: 3m 2s\n"
     ]
    },
    {
     "name": "stdout",
     "output_type": "stream",
     "text": [
      "768:\tlearn: 0.4529139\ttotal: 10m 4s\tremaining: 3m 1s\n",
      "769:\tlearn: 0.4526875\ttotal: 10m 5s\tremaining: 3m\n",
      "770:\tlearn: 0.4525423\ttotal: 10m 5s\tremaining: 2m 59s\n",
      "771:\tlearn: 0.4521057\ttotal: 10m 6s\tremaining: 2m 59s\n",
      "772:\tlearn: 0.4519179\ttotal: 10m 7s\tremaining: 2m 58s\n",
      "773:\tlearn: 0.4517791\ttotal: 10m 7s\tremaining: 2m 57s\n",
      "774:\tlearn: 0.4515923\ttotal: 10m 8s\tremaining: 2m 56s\n",
      "775:\tlearn: 0.4513721\ttotal: 10m 9s\tremaining: 2m 55s\n",
      "776:\tlearn: 0.4512267\ttotal: 10m 10s\tremaining: 2m 55s\n",
      "777:\tlearn: 0.4510130\ttotal: 10m 10s\tremaining: 2m 54s\n",
      "778:\tlearn: 0.4507968\ttotal: 10m 11s\tremaining: 2m 53s\n",
      "779:\tlearn: 0.4506124\ttotal: 10m 12s\tremaining: 2m 52s\n",
      "780:\tlearn: 0.4497641\ttotal: 10m 12s\tremaining: 2m 51s\n",
      "781:\tlearn: 0.4496009\ttotal: 10m 13s\tremaining: 2m 51s\n",
      "782:\tlearn: 0.4491281\ttotal: 10m 14s\tremaining: 2m 50s\n",
      "783:\tlearn: 0.4483521\ttotal: 10m 15s\tremaining: 2m 49s\n",
      "784:\tlearn: 0.4481770\ttotal: 10m 15s\tremaining: 2m 48s\n",
      "785:\tlearn: 0.4480261\ttotal: 10m 16s\tremaining: 2m 47s\n",
      "786:\tlearn: 0.4478692\ttotal: 10m 17s\tremaining: 2m 47s\n",
      "787:\tlearn: 0.4472920\ttotal: 10m 17s\tremaining: 2m 46s\n",
      "788:\tlearn: 0.4463957\ttotal: 10m 18s\tremaining: 2m 45s\n",
      "789:\tlearn: 0.4460757\ttotal: 10m 19s\tremaining: 2m 44s\n",
      "790:\tlearn: 0.4458443\ttotal: 10m 20s\tremaining: 2m 43s\n",
      "791:\tlearn: 0.4455068\ttotal: 10m 20s\tremaining: 2m 43s\n",
      "792:\tlearn: 0.4453283\ttotal: 10m 21s\tremaining: 2m 42s\n",
      "793:\tlearn: 0.4451209\ttotal: 10m 22s\tremaining: 2m 41s\n",
      "794:\tlearn: 0.4450032\ttotal: 10m 23s\tremaining: 2m 40s\n",
      "795:\tlearn: 0.4448076\ttotal: 10m 23s\tremaining: 2m 39s\n",
      "796:\tlearn: 0.4446186\ttotal: 10m 24s\tremaining: 2m 39s\n",
      "797:\tlearn: 0.4444210\ttotal: 10m 25s\tremaining: 2m 38s\n",
      "798:\tlearn: 0.4443148\ttotal: 10m 25s\tremaining: 2m 37s\n",
      "799:\tlearn: 0.4441874\ttotal: 10m 26s\tremaining: 2m 36s\n",
      "800:\tlearn: 0.4436373\ttotal: 10m 27s\tremaining: 2m 35s\n",
      "801:\tlearn: 0.4435131\ttotal: 10m 28s\tremaining: 2m 35s\n",
      "802:\tlearn: 0.4433693\ttotal: 10m 28s\tremaining: 2m 34s\n",
      "803:\tlearn: 0.4432154\ttotal: 10m 29s\tremaining: 2m 33s\n",
      "804:\tlearn: 0.4429999\ttotal: 10m 30s\tremaining: 2m 32s\n",
      "805:\tlearn: 0.4424921\ttotal: 10m 30s\tremaining: 2m 31s\n",
      "806:\tlearn: 0.4423349\ttotal: 10m 31s\tremaining: 2m 31s\n",
      "807:\tlearn: 0.4421906\ttotal: 10m 32s\tremaining: 2m 30s\n",
      "808:\tlearn: 0.4420627\ttotal: 10m 33s\tremaining: 2m 29s\n",
      "809:\tlearn: 0.4418714\ttotal: 10m 33s\tremaining: 2m 28s\n",
      "810:\tlearn: 0.4417617\ttotal: 10m 34s\tremaining: 2m 27s\n",
      "811:\tlearn: 0.4410986\ttotal: 10m 35s\tremaining: 2m 27s\n",
      "812:\tlearn: 0.4408640\ttotal: 10m 35s\tremaining: 2m 26s\n",
      "813:\tlearn: 0.4407067\ttotal: 10m 36s\tremaining: 2m 25s\n",
      "814:\tlearn: 0.4404819\ttotal: 10m 37s\tremaining: 2m 24s\n",
      "815:\tlearn: 0.4403577\ttotal: 10m 38s\tremaining: 2m 23s\n",
      "816:\tlearn: 0.4401966\ttotal: 10m 38s\tremaining: 2m 23s\n",
      "817:\tlearn: 0.4400590\ttotal: 10m 39s\tremaining: 2m 22s\n",
      "818:\tlearn: 0.4393809\ttotal: 10m 40s\tremaining: 2m 21s\n",
      "819:\tlearn: 0.4392304\ttotal: 10m 40s\tremaining: 2m 20s\n",
      "820:\tlearn: 0.4391233\ttotal: 10m 41s\tremaining: 2m 19s\n",
      "821:\tlearn: 0.4389708\ttotal: 10m 42s\tremaining: 2m 19s\n",
      "822:\tlearn: 0.4387538\ttotal: 10m 43s\tremaining: 2m 18s\n",
      "823:\tlearn: 0.4385860\ttotal: 10m 43s\tremaining: 2m 17s\n",
      "824:\tlearn: 0.4382981\ttotal: 10m 44s\tremaining: 2m 16s\n",
      "825:\tlearn: 0.4381965\ttotal: 10m 45s\tremaining: 2m 15s\n",
      "826:\tlearn: 0.4380539\ttotal: 10m 45s\tremaining: 2m 15s\n",
      "827:\tlearn: 0.4377910\ttotal: 10m 46s\tremaining: 2m 14s\n",
      "828:\tlearn: 0.4376573\ttotal: 10m 47s\tremaining: 2m 13s\n",
      "829:\tlearn: 0.4372222\ttotal: 10m 48s\tremaining: 2m 12s\n",
      "830:\tlearn: 0.4370699\ttotal: 10m 48s\tremaining: 2m 11s\n",
      "831:\tlearn: 0.4368808\ttotal: 10m 49s\tremaining: 2m 11s\n",
      "832:\tlearn: 0.4365593\ttotal: 10m 50s\tremaining: 2m 10s\n",
      "833:\tlearn: 0.4364224\ttotal: 10m 50s\tremaining: 2m 9s\n",
      "834:\tlearn: 0.4361506\ttotal: 10m 51s\tremaining: 2m 8s\n",
      "835:\tlearn: 0.4360240\ttotal: 10m 52s\tremaining: 2m 7s\n",
      "836:\tlearn: 0.4356188\ttotal: 10m 53s\tremaining: 2m 7s\n",
      "837:\tlearn: 0.4353948\ttotal: 10m 53s\tremaining: 2m 6s\n",
      "838:\tlearn: 0.4352277\ttotal: 10m 54s\tremaining: 2m 5s\n",
      "839:\tlearn: 0.4350314\ttotal: 10m 55s\tremaining: 2m 4s\n",
      "840:\tlearn: 0.4349476\ttotal: 10m 55s\tremaining: 2m 4s\n",
      "841:\tlearn: 0.4347902\ttotal: 10m 56s\tremaining: 2m 3s\n",
      "842:\tlearn: 0.4344543\ttotal: 10m 57s\tremaining: 2m 2s\n",
      "843:\tlearn: 0.4337951\ttotal: 10m 58s\tremaining: 2m 1s\n",
      "844:\tlearn: 0.4336054\ttotal: 10m 58s\tremaining: 2m\n",
      "845:\tlearn: 0.4332105\ttotal: 10m 59s\tremaining: 2m\n",
      "846:\tlearn: 0.4330116\ttotal: 11m\tremaining: 1m 59s\n",
      "847:\tlearn: 0.4328082\ttotal: 11m\tremaining: 1m 58s\n",
      "848:\tlearn: 0.4326614\ttotal: 11m 1s\tremaining: 1m 57s\n",
      "849:\tlearn: 0.4325183\ttotal: 11m 2s\tremaining: 1m 56s\n",
      "850:\tlearn: 0.4322879\ttotal: 11m 3s\tremaining: 1m 56s\n",
      "851:\tlearn: 0.4321042\ttotal: 11m 3s\tremaining: 1m 55s\n",
      "852:\tlearn: 0.4320097\ttotal: 11m 4s\tremaining: 1m 54s\n",
      "853:\tlearn: 0.4318573\ttotal: 11m 5s\tremaining: 1m 53s\n",
      "854:\tlearn: 0.4314362\ttotal: 11m 5s\tremaining: 1m 52s\n",
      "855:\tlearn: 0.4310817\ttotal: 11m 6s\tremaining: 1m 52s\n",
      "856:\tlearn: 0.4309591\ttotal: 11m 7s\tremaining: 1m 51s\n",
      "857:\tlearn: 0.4307918\ttotal: 11m 8s\tremaining: 1m 50s\n",
      "858:\tlearn: 0.4305193\ttotal: 11m 8s\tremaining: 1m 49s\n",
      "859:\tlearn: 0.4304332\ttotal: 11m 9s\tremaining: 1m 48s\n",
      "860:\tlearn: 0.4301485\ttotal: 11m 10s\tremaining: 1m 48s\n",
      "861:\tlearn: 0.4300019\ttotal: 11m 10s\tremaining: 1m 47s\n",
      "862:\tlearn: 0.4298778\ttotal: 11m 11s\tremaining: 1m 46s\n",
      "863:\tlearn: 0.4297722\ttotal: 11m 12s\tremaining: 1m 45s\n",
      "864:\tlearn: 0.4291809\ttotal: 11m 13s\tremaining: 1m 45s\n",
      "865:\tlearn: 0.4289277\ttotal: 11m 13s\tremaining: 1m 44s\n",
      "866:\tlearn: 0.4287727\ttotal: 11m 14s\tremaining: 1m 43s\n",
      "867:\tlearn: 0.4285382\ttotal: 11m 15s\tremaining: 1m 42s\n",
      "868:\tlearn: 0.4283624\ttotal: 11m 15s\tremaining: 1m 41s\n",
      "869:\tlearn: 0.4281726\ttotal: 11m 16s\tremaining: 1m 41s\n",
      "870:\tlearn: 0.4280376\ttotal: 11m 17s\tremaining: 1m 40s\n",
      "871:\tlearn: 0.4279089\ttotal: 11m 18s\tremaining: 1m 39s\n",
      "872:\tlearn: 0.4277421\ttotal: 11m 18s\tremaining: 1m 38s\n",
      "873:\tlearn: 0.4275504\ttotal: 11m 19s\tremaining: 1m 37s\n",
      "874:\tlearn: 0.4273474\ttotal: 11m 20s\tremaining: 1m 37s\n",
      "875:\tlearn: 0.4269661\ttotal: 11m 21s\tremaining: 1m 36s\n",
      "876:\tlearn: 0.4263896\ttotal: 11m 21s\tremaining: 1m 35s\n",
      "877:\tlearn: 0.4260844\ttotal: 11m 22s\tremaining: 1m 34s\n",
      "878:\tlearn: 0.4259984\ttotal: 11m 23s\tremaining: 1m 34s\n",
      "879:\tlearn: 0.4258520\ttotal: 11m 23s\tremaining: 1m 33s\n",
      "880:\tlearn: 0.4256608\ttotal: 11m 24s\tremaining: 1m 32s\n",
      "881:\tlearn: 0.4254921\ttotal: 11m 25s\tremaining: 1m 31s\n",
      "882:\tlearn: 0.4252535\ttotal: 11m 26s\tremaining: 1m 30s\n",
      "883:\tlearn: 0.4250883\ttotal: 11m 26s\tremaining: 1m 30s\n",
      "884:\tlearn: 0.4248553\ttotal: 11m 27s\tremaining: 1m 29s\n",
      "885:\tlearn: 0.4247514\ttotal: 11m 28s\tremaining: 1m 28s\n",
      "886:\tlearn: 0.4245965\ttotal: 11m 28s\tremaining: 1m 27s\n",
      "887:\tlearn: 0.4244641\ttotal: 11m 29s\tremaining: 1m 26s\n",
      "888:\tlearn: 0.4243157\ttotal: 11m 30s\tremaining: 1m 26s\n",
      "889:\tlearn: 0.4241853\ttotal: 11m 31s\tremaining: 1m 25s\n",
      "890:\tlearn: 0.4240213\ttotal: 11m 31s\tremaining: 1m 24s\n",
      "891:\tlearn: 0.4236957\ttotal: 11m 32s\tremaining: 1m 23s\n",
      "892:\tlearn: 0.4234701\ttotal: 11m 33s\tremaining: 1m 23s\n",
      "893:\tlearn: 0.4233542\ttotal: 11m 33s\tremaining: 1m 22s\n",
      "894:\tlearn: 0.4231643\ttotal: 11m 34s\tremaining: 1m 21s\n",
      "895:\tlearn: 0.4229079\ttotal: 11m 35s\tremaining: 1m 20s\n",
      "896:\tlearn: 0.4227767\ttotal: 11m 36s\tremaining: 1m 19s\n",
      "897:\tlearn: 0.4223459\ttotal: 11m 36s\tremaining: 1m 19s\n",
      "898:\tlearn: 0.4220263\ttotal: 11m 37s\tremaining: 1m 18s\n",
      "899:\tlearn: 0.4218292\ttotal: 11m 38s\tremaining: 1m 17s\n",
      "900:\tlearn: 0.4216124\ttotal: 11m 38s\tremaining: 1m 16s\n",
      "901:\tlearn: 0.4212438\ttotal: 11m 39s\tremaining: 1m 16s\n",
      "902:\tlearn: 0.4211260\ttotal: 11m 40s\tremaining: 1m 15s\n",
      "903:\tlearn: 0.4208897\ttotal: 11m 40s\tremaining: 1m 14s\n",
      "904:\tlearn: 0.4206786\ttotal: 11m 41s\tremaining: 1m 13s\n",
      "905:\tlearn: 0.4202140\ttotal: 11m 42s\tremaining: 1m 12s\n",
      "906:\tlearn: 0.4200609\ttotal: 11m 43s\tremaining: 1m 12s\n",
      "907:\tlearn: 0.4198753\ttotal: 11m 43s\tremaining: 1m 11s\n",
      "908:\tlearn: 0.4197449\ttotal: 11m 44s\tremaining: 1m 10s\n",
      "909:\tlearn: 0.4192184\ttotal: 11m 45s\tremaining: 1m 9s\n",
      "910:\tlearn: 0.4190614\ttotal: 11m 46s\tremaining: 1m 8s\n",
      "911:\tlearn: 0.4187792\ttotal: 11m 46s\tremaining: 1m 8s\n",
      "912:\tlearn: 0.4185335\ttotal: 11m 47s\tremaining: 1m 7s\n",
      "913:\tlearn: 0.4184016\ttotal: 11m 48s\tremaining: 1m 6s\n",
      "914:\tlearn: 0.4182756\ttotal: 11m 48s\tremaining: 1m 5s\n",
      "915:\tlearn: 0.4180049\ttotal: 11m 49s\tremaining: 1m 5s\n",
      "916:\tlearn: 0.4178841\ttotal: 11m 50s\tremaining: 1m 4s\n",
      "917:\tlearn: 0.4177464\ttotal: 11m 51s\tremaining: 1m 3s\n",
      "918:\tlearn: 0.4175818\ttotal: 11m 51s\tremaining: 1m 2s\n"
     ]
    },
    {
     "name": "stdout",
     "output_type": "stream",
     "text": [
      "919:\tlearn: 0.4174844\ttotal: 11m 52s\tremaining: 1m 1s\n",
      "920:\tlearn: 0.4173000\ttotal: 11m 53s\tremaining: 1m 1s\n",
      "921:\tlearn: 0.4167445\ttotal: 11m 54s\tremaining: 1m\n",
      "922:\tlearn: 0.4165530\ttotal: 11m 54s\tremaining: 59.6s\n",
      "923:\tlearn: 0.4163912\ttotal: 11m 55s\tremaining: 58.9s\n",
      "924:\tlearn: 0.4162170\ttotal: 11m 56s\tremaining: 58.1s\n",
      "925:\tlearn: 0.4157980\ttotal: 11m 56s\tremaining: 57.3s\n",
      "926:\tlearn: 0.4156596\ttotal: 11m 57s\tremaining: 56.5s\n",
      "927:\tlearn: 0.4153653\ttotal: 11m 58s\tremaining: 55.7s\n",
      "928:\tlearn: 0.4151255\ttotal: 11m 59s\tremaining: 55s\n",
      "929:\tlearn: 0.4149566\ttotal: 11m 59s\tremaining: 54.2s\n",
      "930:\tlearn: 0.4148561\ttotal: 12m\tremaining: 53.4s\n",
      "931:\tlearn: 0.4147549\ttotal: 12m 1s\tremaining: 52.6s\n",
      "932:\tlearn: 0.4146292\ttotal: 12m 2s\tremaining: 51.9s\n",
      "933:\tlearn: 0.4143826\ttotal: 12m 2s\tremaining: 51.1s\n",
      "934:\tlearn: 0.4141720\ttotal: 12m 3s\tremaining: 50.3s\n",
      "935:\tlearn: 0.4140127\ttotal: 12m 4s\tremaining: 49.5s\n",
      "936:\tlearn: 0.4138690\ttotal: 12m 4s\tremaining: 48.7s\n",
      "937:\tlearn: 0.4137525\ttotal: 12m 5s\tremaining: 48s\n",
      "938:\tlearn: 0.4136165\ttotal: 12m 6s\tremaining: 47.2s\n",
      "939:\tlearn: 0.4131956\ttotal: 12m 7s\tremaining: 46.4s\n",
      "940:\tlearn: 0.4130294\ttotal: 12m 7s\tremaining: 45.6s\n",
      "941:\tlearn: 0.4126006\ttotal: 12m 8s\tremaining: 44.9s\n",
      "942:\tlearn: 0.4123748\ttotal: 12m 9s\tremaining: 44.1s\n",
      "943:\tlearn: 0.4122822\ttotal: 12m 9s\tremaining: 43.3s\n",
      "944:\tlearn: 0.4121653\ttotal: 12m 10s\tremaining: 42.5s\n",
      "945:\tlearn: 0.4115849\ttotal: 12m 11s\tremaining: 41.8s\n",
      "946:\tlearn: 0.4114183\ttotal: 12m 12s\tremaining: 41s\n",
      "947:\tlearn: 0.4113168\ttotal: 12m 12s\tremaining: 40.2s\n",
      "948:\tlearn: 0.4110608\ttotal: 12m 13s\tremaining: 39.4s\n",
      "949:\tlearn: 0.4102876\ttotal: 12m 14s\tremaining: 38.6s\n",
      "950:\tlearn: 0.4101267\ttotal: 12m 15s\tremaining: 37.9s\n",
      "951:\tlearn: 0.4097035\ttotal: 12m 15s\tremaining: 37.1s\n",
      "952:\tlearn: 0.4095272\ttotal: 12m 16s\tremaining: 36.3s\n",
      "953:\tlearn: 0.4093578\ttotal: 12m 17s\tremaining: 35.5s\n",
      "954:\tlearn: 0.4091343\ttotal: 12m 17s\tremaining: 34.8s\n",
      "955:\tlearn: 0.4089535\ttotal: 12m 18s\tremaining: 34s\n",
      "956:\tlearn: 0.4087769\ttotal: 12m 19s\tremaining: 33.2s\n",
      "957:\tlearn: 0.4085724\ttotal: 12m 20s\tremaining: 32.4s\n",
      "958:\tlearn: 0.4084106\ttotal: 12m 20s\tremaining: 31.7s\n",
      "959:\tlearn: 0.4082529\ttotal: 12m 21s\tremaining: 30.9s\n",
      "960:\tlearn: 0.4080977\ttotal: 12m 22s\tremaining: 30.1s\n",
      "961:\tlearn: 0.4079445\ttotal: 12m 22s\tremaining: 29.3s\n",
      "962:\tlearn: 0.4077819\ttotal: 12m 23s\tremaining: 28.6s\n",
      "963:\tlearn: 0.4075940\ttotal: 12m 24s\tremaining: 27.8s\n",
      "964:\tlearn: 0.4074668\ttotal: 12m 25s\tremaining: 27s\n",
      "965:\tlearn: 0.4073155\ttotal: 12m 25s\tremaining: 26.3s\n",
      "966:\tlearn: 0.4071975\ttotal: 12m 26s\tremaining: 25.5s\n",
      "967:\tlearn: 0.4066486\ttotal: 12m 27s\tremaining: 24.7s\n",
      "968:\tlearn: 0.4064739\ttotal: 12m 27s\tremaining: 23.9s\n",
      "969:\tlearn: 0.4063588\ttotal: 12m 28s\tremaining: 23.2s\n",
      "970:\tlearn: 0.4062725\ttotal: 12m 29s\tremaining: 22.4s\n",
      "971:\tlearn: 0.4060723\ttotal: 12m 30s\tremaining: 21.6s\n",
      "972:\tlearn: 0.4059684\ttotal: 12m 30s\tremaining: 20.8s\n",
      "973:\tlearn: 0.4057085\ttotal: 12m 31s\tremaining: 20.1s\n",
      "974:\tlearn: 0.4056185\ttotal: 12m 32s\tremaining: 19.3s\n",
      "975:\tlearn: 0.4054426\ttotal: 12m 32s\tremaining: 18.5s\n",
      "976:\tlearn: 0.4052943\ttotal: 12m 33s\tremaining: 17.7s\n",
      "977:\tlearn: 0.4051737\ttotal: 12m 34s\tremaining: 17s\n",
      "978:\tlearn: 0.4049617\ttotal: 12m 35s\tremaining: 16.2s\n",
      "979:\tlearn: 0.4048554\ttotal: 12m 35s\tremaining: 15.4s\n",
      "980:\tlearn: 0.4047065\ttotal: 12m 36s\tremaining: 14.7s\n",
      "981:\tlearn: 0.4045695\ttotal: 12m 37s\tremaining: 13.9s\n",
      "982:\tlearn: 0.4043161\ttotal: 12m 37s\tremaining: 13.1s\n",
      "983:\tlearn: 0.4037926\ttotal: 12m 38s\tremaining: 12.3s\n",
      "984:\tlearn: 0.4036714\ttotal: 12m 39s\tremaining: 11.6s\n",
      "985:\tlearn: 0.4035503\ttotal: 12m 40s\tremaining: 10.8s\n",
      "986:\tlearn: 0.4026180\ttotal: 12m 40s\tremaining: 10s\n",
      "987:\tlearn: 0.4024288\ttotal: 12m 41s\tremaining: 9.25s\n",
      "988:\tlearn: 0.4022944\ttotal: 12m 42s\tremaining: 8.48s\n",
      "989:\tlearn: 0.4016409\ttotal: 12m 42s\tremaining: 7.71s\n",
      "990:\tlearn: 0.4008666\ttotal: 12m 43s\tremaining: 6.93s\n",
      "991:\tlearn: 0.4006759\ttotal: 12m 44s\tremaining: 6.16s\n",
      "992:\tlearn: 0.4005027\ttotal: 12m 45s\tremaining: 5.39s\n",
      "993:\tlearn: 0.4003287\ttotal: 12m 45s\tremaining: 4.62s\n",
      "994:\tlearn: 0.4002141\ttotal: 12m 46s\tremaining: 3.85s\n",
      "995:\tlearn: 0.3999095\ttotal: 12m 47s\tremaining: 3.08s\n",
      "996:\tlearn: 0.3997054\ttotal: 12m 47s\tremaining: 2.31s\n",
      "997:\tlearn: 0.3994544\ttotal: 12m 48s\tremaining: 1.54s\n",
      "998:\tlearn: 0.3993581\ttotal: 12m 49s\tremaining: 770ms\n",
      "999:\tlearn: 0.3992188\ttotal: 12m 50s\tremaining: 0us\n"
     ]
    },
    {
     "data": {
      "text/html": [
       "<style>#sk-container-id-4 {color: black;background-color: white;}#sk-container-id-4 pre{padding: 0;}#sk-container-id-4 div.sk-toggleable {background-color: white;}#sk-container-id-4 label.sk-toggleable__label {cursor: pointer;display: block;width: 100%;margin-bottom: 0;padding: 0.3em;box-sizing: border-box;text-align: center;}#sk-container-id-4 label.sk-toggleable__label-arrow:before {content: \"▸\";float: left;margin-right: 0.25em;color: #696969;}#sk-container-id-4 label.sk-toggleable__label-arrow:hover:before {color: black;}#sk-container-id-4 div.sk-estimator:hover label.sk-toggleable__label-arrow:before {color: black;}#sk-container-id-4 div.sk-toggleable__content {max-height: 0;max-width: 0;overflow: hidden;text-align: left;background-color: #f0f8ff;}#sk-container-id-4 div.sk-toggleable__content pre {margin: 0.2em;color: black;border-radius: 0.25em;background-color: #f0f8ff;}#sk-container-id-4 input.sk-toggleable__control:checked~div.sk-toggleable__content {max-height: 200px;max-width: 100%;overflow: auto;}#sk-container-id-4 input.sk-toggleable__control:checked~label.sk-toggleable__label-arrow:before {content: \"▾\";}#sk-container-id-4 div.sk-estimator input.sk-toggleable__control:checked~label.sk-toggleable__label {background-color: #d4ebff;}#sk-container-id-4 div.sk-label input.sk-toggleable__control:checked~label.sk-toggleable__label {background-color: #d4ebff;}#sk-container-id-4 input.sk-hidden--visually {border: 0;clip: rect(1px 1px 1px 1px);clip: rect(1px, 1px, 1px, 1px);height: 1px;margin: -1px;overflow: hidden;padding: 0;position: absolute;width: 1px;}#sk-container-id-4 div.sk-estimator {font-family: monospace;background-color: #f0f8ff;border: 1px dotted black;border-radius: 0.25em;box-sizing: border-box;margin-bottom: 0.5em;}#sk-container-id-4 div.sk-estimator:hover {background-color: #d4ebff;}#sk-container-id-4 div.sk-parallel-item::after {content: \"\";width: 100%;border-bottom: 1px solid gray;flex-grow: 1;}#sk-container-id-4 div.sk-label:hover label.sk-toggleable__label {background-color: #d4ebff;}#sk-container-id-4 div.sk-serial::before {content: \"\";position: absolute;border-left: 1px solid gray;box-sizing: border-box;top: 0;bottom: 0;left: 50%;z-index: 0;}#sk-container-id-4 div.sk-serial {display: flex;flex-direction: column;align-items: center;background-color: white;padding-right: 0.2em;padding-left: 0.2em;position: relative;}#sk-container-id-4 div.sk-item {position: relative;z-index: 1;}#sk-container-id-4 div.sk-parallel {display: flex;align-items: stretch;justify-content: center;background-color: white;position: relative;}#sk-container-id-4 div.sk-item::before, #sk-container-id-4 div.sk-parallel-item::before {content: \"\";position: absolute;border-left: 1px solid gray;box-sizing: border-box;top: 0;bottom: 0;left: 50%;z-index: -1;}#sk-container-id-4 div.sk-parallel-item {display: flex;flex-direction: column;z-index: 1;position: relative;background-color: white;}#sk-container-id-4 div.sk-parallel-item:first-child::after {align-self: flex-end;width: 50%;}#sk-container-id-4 div.sk-parallel-item:last-child::after {align-self: flex-start;width: 50%;}#sk-container-id-4 div.sk-parallel-item:only-child::after {width: 0;}#sk-container-id-4 div.sk-dashed-wrapped {border: 1px dashed gray;margin: 0 0.4em 0.5em 0.4em;box-sizing: border-box;padding-bottom: 0.4em;background-color: white;}#sk-container-id-4 div.sk-label label {font-family: monospace;font-weight: bold;display: inline-block;line-height: 1.2em;}#sk-container-id-4 div.sk-label-container {text-align: center;}#sk-container-id-4 div.sk-container {/* jupyter's `normalize.less` sets `[hidden] { display: none; }` but bootstrap.min.css set `[hidden] { display: none !important; }` so we also need the `!important` here to be able to override the default hidden behavior on the sphinx rendered scikit-learn.org. See: https://github.com/scikit-learn/scikit-learn/issues/21755 */display: inline-block !important;position: relative;}#sk-container-id-4 div.sk-text-repr-fallback {display: none;}</style><div id=\"sk-container-id-4\" class=\"sk-top-container\"><div class=\"sk-text-repr-fallback\"><pre>Pipeline(steps=[(&#x27;tf&#x27;,\n",
       "                 TfidfVectorizer(min_df=5, ngram_range=(1, 2),\n",
       "                                 stop_words=&#x27;english&#x27;, sublinear_tf=True)),\n",
       "                (&#x27;clf&#x27;,\n",
       "                 &lt;catboost.core.CatBoostClassifier object at 0x0000014CD714B610&gt;)])</pre><b>In a Jupyter environment, please rerun this cell to show the HTML representation or trust the notebook. <br />On GitHub, the HTML representation is unable to render, please try loading this page with nbviewer.org.</b></div><div class=\"sk-container\" hidden><div class=\"sk-item sk-dashed-wrapped\"><div class=\"sk-label-container\"><div class=\"sk-label sk-toggleable\"><input class=\"sk-toggleable__control sk-hidden--visually\" id=\"sk-estimator-id-10\" type=\"checkbox\" ><label for=\"sk-estimator-id-10\" class=\"sk-toggleable__label sk-toggleable__label-arrow\">Pipeline</label><div class=\"sk-toggleable__content\"><pre>Pipeline(steps=[(&#x27;tf&#x27;,\n",
       "                 TfidfVectorizer(min_df=5, ngram_range=(1, 2),\n",
       "                                 stop_words=&#x27;english&#x27;, sublinear_tf=True)),\n",
       "                (&#x27;clf&#x27;,\n",
       "                 &lt;catboost.core.CatBoostClassifier object at 0x0000014CD714B610&gt;)])</pre></div></div></div><div class=\"sk-serial\"><div class=\"sk-item\"><div class=\"sk-estimator sk-toggleable\"><input class=\"sk-toggleable__control sk-hidden--visually\" id=\"sk-estimator-id-11\" type=\"checkbox\" ><label for=\"sk-estimator-id-11\" class=\"sk-toggleable__label sk-toggleable__label-arrow\">TfidfVectorizer</label><div class=\"sk-toggleable__content\"><pre>TfidfVectorizer(min_df=5, ngram_range=(1, 2), stop_words=&#x27;english&#x27;,\n",
       "                sublinear_tf=True)</pre></div></div></div><div class=\"sk-item\"><div class=\"sk-estimator sk-toggleable\"><input class=\"sk-toggleable__control sk-hidden--visually\" id=\"sk-estimator-id-12\" type=\"checkbox\" ><label for=\"sk-estimator-id-12\" class=\"sk-toggleable__label sk-toggleable__label-arrow\">CatBoostClassifier</label><div class=\"sk-toggleable__content\"><pre>&lt;catboost.core.CatBoostClassifier object at 0x0000014CD714B610&gt;</pre></div></div></div></div></div></div></div>"
      ],
      "text/plain": [
       "Pipeline(steps=[('tf',\n",
       "                 TfidfVectorizer(min_df=5, ngram_range=(1, 2),\n",
       "                                 stop_words='english', sublinear_tf=True)),\n",
       "                ('clf',\n",
       "                 <catboost.core.CatBoostClassifier object at 0x0000014CD714B610>)])"
      ]
     },
     "execution_count": 53,
     "metadata": {},
     "output_type": "execute_result"
    }
   ],
   "source": [
    "text_clf.fit(X_train, y_train)"
   ]
  },
  {
   "cell_type": "code",
   "execution_count": 54,
   "metadata": {
    "id": "CrqXmz6-z9qn"
   },
   "outputs": [],
   "source": [
    "y_pred=text_clf.predict(X_test)"
   ]
  },
  {
   "cell_type": "code",
   "execution_count": 55,
   "metadata": {
    "id": "w6L8X_6tQIyB"
   },
   "outputs": [
    {
     "data": {
      "text/plain": [
       "array([['Credit card'],\n",
       "       ['Credit card'],\n",
       "       ['Debt collection'],\n",
       "       ['Debt collection'],\n",
       "       ['Mortgage'],\n",
       "       ['Credit reporting'],\n",
       "       ['Student loan'],\n",
       "       ['Credit card'],\n",
       "       ['Debt collection'],\n",
       "       ['Bank account or service'],\n",
       "       ['Mortgage'],\n",
       "       ['Bank account or service'],\n",
       "       ['Mortgage'],\n",
       "       ['Debt collection'],\n",
       "       ['Debt collection'],\n",
       "       ['Mortgage'],\n",
       "       ['Mortgage'],\n",
       "       ['Mortgage'],\n",
       "       ['Mortgage'],\n",
       "       ['Mortgage'],\n",
       "       ['Debt collection'],\n",
       "       ['Mortgage'],\n",
       "       ['Credit reporting'],\n",
       "       ['Debt collection'],\n",
       "       ['Credit reporting'],\n",
       "       ['Credit reporting'],\n",
       "       ['Debt collection'],\n",
       "       ['Credit reporting'],\n",
       "       ['Bank account or service'],\n",
       "       ['Credit card'],\n",
       "       ['Credit reporting'],\n",
       "       ['Credit reporting'],\n",
       "       ['Bank account or service'],\n",
       "       ['Bank account or service'],\n",
       "       ['Credit card'],\n",
       "       ['Bank account or service'],\n",
       "       ['Credit card'],\n",
       "       ['Debt collection'],\n",
       "       ['Debt collection'],\n",
       "       ['Credit card'],\n",
       "       ['Mortgage'],\n",
       "       ['Student loan'],\n",
       "       ['Mortgage'],\n",
       "       ['Bank account or service'],\n",
       "       ['Credit card'],\n",
       "       ['Credit card'],\n",
       "       ['Mortgage'],\n",
       "       ['Credit reporting'],\n",
       "       ['Credit reporting'],\n",
       "       ['Credit card'],\n",
       "       ['Credit card'],\n",
       "       ['Debt collection'],\n",
       "       ['Credit reporting'],\n",
       "       ['Credit card'],\n",
       "       ['Bank account or service'],\n",
       "       ['Credit reporting'],\n",
       "       ['Credit reporting'],\n",
       "       ['Student loan'],\n",
       "       ['Consumer Loan'],\n",
       "       ['Credit reporting'],\n",
       "       ['Credit reporting'],\n",
       "       ['Mortgage'],\n",
       "       ['Consumer Loan'],\n",
       "       ['Credit card'],\n",
       "       ['Mortgage'],\n",
       "       ['Mortgage'],\n",
       "       ['Credit card'],\n",
       "       ['Debt collection'],\n",
       "       ['Debt collection'],\n",
       "       ['Debt collection'],\n",
       "       ['Mortgage'],\n",
       "       ['Credit card'],\n",
       "       ['Debt collection'],\n",
       "       ['Debt collection'],\n",
       "       ['Consumer Loan'],\n",
       "       ['Credit reporting'],\n",
       "       ['Credit reporting'],\n",
       "       ['Mortgage'],\n",
       "       ['Bank account or service'],\n",
       "       ['Mortgage'],\n",
       "       ['Mortgage'],\n",
       "       ['Mortgage'],\n",
       "       ['Mortgage'],\n",
       "       ['Mortgage'],\n",
       "       ['Credit reporting'],\n",
       "       ['Debt collection'],\n",
       "       ['Debt collection'],\n",
       "       ['Credit card'],\n",
       "       ['Student loan'],\n",
       "       ['Mortgage'],\n",
       "       ['Debt collection'],\n",
       "       ['Bank account or service'],\n",
       "       ['Mortgage'],\n",
       "       ['Credit card'],\n",
       "       ['Debt collection'],\n",
       "       ['Bank account or service'],\n",
       "       ['Credit reporting'],\n",
       "       ['Credit card'],\n",
       "       ['Credit reporting'],\n",
       "       ['Debt collection'],\n",
       "       ['Credit card'],\n",
       "       ['Debt collection'],\n",
       "       ['Mortgage'],\n",
       "       ['Mortgage'],\n",
       "       ['Bank account or service'],\n",
       "       ['Bank account or service'],\n",
       "       ['Bank account or service'],\n",
       "       ['Credit reporting'],\n",
       "       ['Mortgage'],\n",
       "       ['Bank account or service'],\n",
       "       ['Mortgage'],\n",
       "       ['Bank account or service'],\n",
       "       ['Credit reporting'],\n",
       "       ['Consumer Loan'],\n",
       "       ['Credit reporting'],\n",
       "       ['Student loan'],\n",
       "       ['Student loan'],\n",
       "       ['Debt collection'],\n",
       "       ['Credit card'],\n",
       "       ['Debt collection'],\n",
       "       ['Credit reporting'],\n",
       "       ['Consumer Loan'],\n",
       "       ['Credit reporting'],\n",
       "       ['Credit card'],\n",
       "       ['Credit card'],\n",
       "       ['Student loan'],\n",
       "       ['Credit card'],\n",
       "       ['Credit reporting'],\n",
       "       ['Mortgage'],\n",
       "       ['Mortgage'],\n",
       "       ['Credit card'],\n",
       "       ['Credit reporting'],\n",
       "       ['Debt collection'],\n",
       "       ['Mortgage'],\n",
       "       ['Student loan'],\n",
       "       ['Debt collection'],\n",
       "       ['Mortgage'],\n",
       "       ['Credit reporting'],\n",
       "       ['Credit reporting'],\n",
       "       ['Student loan'],\n",
       "       ['Debt collection'],\n",
       "       ['Credit card'],\n",
       "       ['Credit reporting'],\n",
       "       ['Mortgage'],\n",
       "       ['Debt collection'],\n",
       "       ['Credit card'],\n",
       "       ['Credit reporting'],\n",
       "       ['Mortgage'],\n",
       "       ['Debt collection'],\n",
       "       ['Credit reporting'],\n",
       "       ['Debt collection'],\n",
       "       ['Credit card'],\n",
       "       ['Student loan'],\n",
       "       ['Credit card'],\n",
       "       ['Bank account or service'],\n",
       "       ['Mortgage'],\n",
       "       ['Bank account or service'],\n",
       "       ['Debt collection'],\n",
       "       ['Credit reporting'],\n",
       "       ['Mortgage'],\n",
       "       ['Credit reporting'],\n",
       "       ['Mortgage'],\n",
       "       ['Debt collection'],\n",
       "       ['Debt collection'],\n",
       "       ['Credit reporting'],\n",
       "       ['Credit reporting'],\n",
       "       ['Credit reporting'],\n",
       "       ['Mortgage'],\n",
       "       ['Debt collection'],\n",
       "       ['Bank account or service'],\n",
       "       ['Mortgage'],\n",
       "       ['Credit reporting'],\n",
       "       ['Credit reporting'],\n",
       "       ['Mortgage'],\n",
       "       ['Student loan'],\n",
       "       ['Credit card'],\n",
       "       ['Mortgage'],\n",
       "       ['Credit card'],\n",
       "       ['Credit reporting'],\n",
       "       ['Credit reporting'],\n",
       "       ['Mortgage'],\n",
       "       ['Debt collection'],\n",
       "       ['Bank account or service'],\n",
       "       ['Mortgage'],\n",
       "       ['Credit reporting'],\n",
       "       ['Credit card'],\n",
       "       ['Credit reporting'],\n",
       "       ['Student loan'],\n",
       "       ['Bank account or service'],\n",
       "       ['Credit card'],\n",
       "       ['Debt collection'],\n",
       "       ['Credit reporting'],\n",
       "       ['Mortgage'],\n",
       "       ['Mortgage'],\n",
       "       ['Debt collection'],\n",
       "       ['Bank account or service'],\n",
       "       ['Mortgage'],\n",
       "       ['Debt collection'],\n",
       "       ['Credit card'],\n",
       "       ['Mortgage'],\n",
       "       ['Debt collection'],\n",
       "       ['Debt collection'],\n",
       "       ['Debt collection'],\n",
       "       ['Mortgage'],\n",
       "       ['Debt collection'],\n",
       "       ['Debt collection'],\n",
       "       ['Credit reporting'],\n",
       "       ['Mortgage'],\n",
       "       ['Mortgage'],\n",
       "       ['Mortgage'],\n",
       "       ['Mortgage'],\n",
       "       ['Student loan'],\n",
       "       ['Credit card'],\n",
       "       ['Mortgage'],\n",
       "       ['Mortgage'],\n",
       "       ['Consumer Loan'],\n",
       "       ['Mortgage'],\n",
       "       ['Credit reporting'],\n",
       "       ['Debt collection'],\n",
       "       ['Mortgage'],\n",
       "       ['Mortgage'],\n",
       "       ['Debt collection'],\n",
       "       ['Student loan'],\n",
       "       ['Debt collection'],\n",
       "       ['Student loan'],\n",
       "       ['Credit card'],\n",
       "       ['Debt collection'],\n",
       "       ['Credit card'],\n",
       "       ['Debt collection'],\n",
       "       ['Credit reporting'],\n",
       "       ['Consumer Loan'],\n",
       "       ['Mortgage'],\n",
       "       ['Mortgage'],\n",
       "       ['Student loan'],\n",
       "       ['Credit card'],\n",
       "       ['Mortgage'],\n",
       "       ['Credit reporting'],\n",
       "       ['Mortgage'],\n",
       "       ['Mortgage'],\n",
       "       ['Credit card'],\n",
       "       ['Credit card'],\n",
       "       ['Debt collection'],\n",
       "       ['Debt collection'],\n",
       "       ['Bank account or service'],\n",
       "       ['Credit reporting'],\n",
       "       ['Bank account or service'],\n",
       "       ['Debt collection'],\n",
       "       ['Credit card'],\n",
       "       ['Debt collection'],\n",
       "       ['Debt collection'],\n",
       "       ['Bank account or service'],\n",
       "       ['Mortgage'],\n",
       "       ['Consumer Loan'],\n",
       "       ['Mortgage'],\n",
       "       ['Bank account or service'],\n",
       "       ['Bank account or service'],\n",
       "       ['Mortgage'],\n",
       "       ['Student loan'],\n",
       "       ['Credit reporting'],\n",
       "       ['Bank account or service'],\n",
       "       ['Debt collection'],\n",
       "       ['Debt collection'],\n",
       "       ['Mortgage'],\n",
       "       ['Debt collection'],\n",
       "       ['Debt collection'],\n",
       "       ['Credit reporting'],\n",
       "       ['Bank account or service'],\n",
       "       ['Debt collection'],\n",
       "       ['Debt collection'],\n",
       "       ['Debt collection'],\n",
       "       ['Credit card'],\n",
       "       ['Credit reporting'],\n",
       "       ['Credit reporting'],\n",
       "       ['Debt collection'],\n",
       "       ['Debt collection'],\n",
       "       ['Mortgage'],\n",
       "       ['Debt collection'],\n",
       "       ['Debt collection'],\n",
       "       ['Mortgage'],\n",
       "       ['Credit card'],\n",
       "       ['Student loan'],\n",
       "       ['Student loan'],\n",
       "       ['Credit reporting'],\n",
       "       ['Bank account or service'],\n",
       "       ['Debt collection'],\n",
       "       ['Debt collection'],\n",
       "       ['Mortgage'],\n",
       "       ['Debt collection'],\n",
       "       ['Mortgage'],\n",
       "       ['Bank account or service'],\n",
       "       ['Mortgage'],\n",
       "       ['Student loan'],\n",
       "       ['Debt collection'],\n",
       "       ['Credit card'],\n",
       "       ['Bank account or service'],\n",
       "       ['Mortgage'],\n",
       "       ['Credit reporting'],\n",
       "       ['Mortgage'],\n",
       "       ['Debt collection'],\n",
       "       ['Credit card'],\n",
       "       ['Debt collection'],\n",
       "       ['Credit card'],\n",
       "       ['Debt collection'],\n",
       "       ['Bank account or service'],\n",
       "       ['Consumer Loan'],\n",
       "       ['Credit reporting'],\n",
       "       ['Credit reporting'],\n",
       "       ['Debt collection'],\n",
       "       ['Mortgage'],\n",
       "       ['Credit card'],\n",
       "       ['Credit reporting'],\n",
       "       ['Credit card'],\n",
       "       ['Credit card'],\n",
       "       ['Bank account or service'],\n",
       "       ['Credit reporting'],\n",
       "       ['Debt collection'],\n",
       "       ['Debt collection'],\n",
       "       ['Debt collection'],\n",
       "       ['Debt collection'],\n",
       "       ['Debt collection'],\n",
       "       ['Credit card'],\n",
       "       ['Bank account or service'],\n",
       "       ['Mortgage'],\n",
       "       ['Credit card'],\n",
       "       ['Credit reporting'],\n",
       "       ['Credit reporting'],\n",
       "       ['Credit card'],\n",
       "       ['Credit reporting'],\n",
       "       ['Debt collection'],\n",
       "       ['Debt collection'],\n",
       "       ['Debt collection'],\n",
       "       ['Credit reporting'],\n",
       "       ['Credit reporting'],\n",
       "       ['Credit reporting'],\n",
       "       ['Debt collection'],\n",
       "       ['Credit card'],\n",
       "       ['Debt collection'],\n",
       "       ['Mortgage'],\n",
       "       ['Mortgage'],\n",
       "       ['Credit reporting'],\n",
       "       ['Debt collection'],\n",
       "       ['Debt collection'],\n",
       "       ['Credit card'],\n",
       "       ['Credit reporting'],\n",
       "       ['Debt collection'],\n",
       "       ['Debt collection'],\n",
       "       ['Student loan'],\n",
       "       ['Credit card'],\n",
       "       ['Debt collection'],\n",
       "       ['Credit card'],\n",
       "       ['Debt collection'],\n",
       "       ['Mortgage'],\n",
       "       ['Debt collection'],\n",
       "       ['Bank account or service'],\n",
       "       ['Credit card'],\n",
       "       ['Debt collection'],\n",
       "       ['Mortgage'],\n",
       "       ['Credit card'],\n",
       "       ['Credit reporting'],\n",
       "       ['Debt collection'],\n",
       "       ['Student loan'],\n",
       "       ['Debt collection'],\n",
       "       ['Debt collection'],\n",
       "       ['Consumer Loan'],\n",
       "       ['Student loan'],\n",
       "       ['Mortgage'],\n",
       "       ['Mortgage'],\n",
       "       ['Student loan'],\n",
       "       ['Credit card'],\n",
       "       ['Mortgage'],\n",
       "       ['Student loan'],\n",
       "       ['Credit card'],\n",
       "       ['Debt collection'],\n",
       "       ['Mortgage'],\n",
       "       ['Mortgage'],\n",
       "       ['Debt collection'],\n",
       "       ['Mortgage'],\n",
       "       ['Debt collection'],\n",
       "       ['Mortgage'],\n",
       "       ['Mortgage'],\n",
       "       ['Debt collection'],\n",
       "       ['Credit reporting'],\n",
       "       ['Credit reporting'],\n",
       "       ['Debt collection'],\n",
       "       ['Bank account or service'],\n",
       "       ['Student loan'],\n",
       "       ['Debt collection'],\n",
       "       ['Bank account or service'],\n",
       "       ['Credit reporting'],\n",
       "       ['Credit card'],\n",
       "       ['Credit reporting'],\n",
       "       ['Credit card'],\n",
       "       ['Debt collection'],\n",
       "       ['Credit card'],\n",
       "       ['Credit card'],\n",
       "       ['Debt collection'],\n",
       "       ['Debt collection'],\n",
       "       ['Mortgage'],\n",
       "       ['Student loan'],\n",
       "       ['Debt collection'],\n",
       "       ['Credit card'],\n",
       "       ['Bank account or service'],\n",
       "       ['Mortgage'],\n",
       "       ['Credit reporting'],\n",
       "       ['Debt collection'],\n",
       "       ['Credit reporting'],\n",
       "       ['Credit reporting'],\n",
       "       ['Bank account or service'],\n",
       "       ['Credit reporting'],\n",
       "       ['Mortgage'],\n",
       "       ['Debt collection'],\n",
       "       ['Credit card'],\n",
       "       ['Mortgage'],\n",
       "       ['Debt collection'],\n",
       "       ['Credit reporting'],\n",
       "       ['Credit reporting'],\n",
       "       ['Credit reporting'],\n",
       "       ['Debt collection'],\n",
       "       ['Credit card'],\n",
       "       ['Bank account or service'],\n",
       "       ['Bank account or service'],\n",
       "       ['Bank account or service'],\n",
       "       ['Mortgage'],\n",
       "       ['Credit card'],\n",
       "       ['Credit reporting'],\n",
       "       ['Debt collection'],\n",
       "       ['Credit reporting'],\n",
       "       ['Credit reporting'],\n",
       "       ['Mortgage'],\n",
       "       ['Debt collection'],\n",
       "       ['Debt collection'],\n",
       "       ['Debt collection'],\n",
       "       ['Debt collection'],\n",
       "       ['Mortgage'],\n",
       "       ['Mortgage'],\n",
       "       ['Mortgage'],\n",
       "       ['Mortgage'],\n",
       "       ['Debt collection'],\n",
       "       ['Debt collection'],\n",
       "       ['Debt collection'],\n",
       "       ['Bank account or service'],\n",
       "       ['Consumer Loan'],\n",
       "       ['Credit reporting'],\n",
       "       ['Credit card'],\n",
       "       ['Mortgage'],\n",
       "       ['Mortgage'],\n",
       "       ['Mortgage'],\n",
       "       ['Credit reporting'],\n",
       "       ['Debt collection'],\n",
       "       ['Mortgage'],\n",
       "       ['Credit card'],\n",
       "       ['Student loan'],\n",
       "       ['Credit reporting'],\n",
       "       ['Debt collection'],\n",
       "       ['Debt collection'],\n",
       "       ['Mortgage'],\n",
       "       ['Debt collection'],\n",
       "       ['Credit card'],\n",
       "       ['Debt collection'],\n",
       "       ['Debt collection'],\n",
       "       ['Credit reporting'],\n",
       "       ['Bank account or service'],\n",
       "       ['Consumer Loan'],\n",
       "       ['Consumer Loan'],\n",
       "       ['Credit reporting'],\n",
       "       ['Debt collection'],\n",
       "       ['Credit reporting'],\n",
       "       ['Credit card'],\n",
       "       ['Debt collection'],\n",
       "       ['Debt collection'],\n",
       "       ['Debt collection'],\n",
       "       ['Mortgage'],\n",
       "       ['Debt collection'],\n",
       "       ['Mortgage'],\n",
       "       ['Student loan'],\n",
       "       ['Debt collection'],\n",
       "       ['Debt collection'],\n",
       "       ['Credit card'],\n",
       "       ['Credit reporting'],\n",
       "       ['Mortgage'],\n",
       "       ['Credit reporting'],\n",
       "       ['Credit reporting'],\n",
       "       ['Credit reporting'],\n",
       "       ['Debt collection'],\n",
       "       ['Debt collection'],\n",
       "       ['Credit reporting'],\n",
       "       ['Mortgage'],\n",
       "       ['Student loan'],\n",
       "       ['Debt collection'],\n",
       "       ['Mortgage'],\n",
       "       ['Mortgage'],\n",
       "       ['Bank account or service'],\n",
       "       ['Mortgage'],\n",
       "       ['Debt collection'],\n",
       "       ['Bank account or service'],\n",
       "       ['Mortgage'],\n",
       "       ['Credit reporting'],\n",
       "       ['Mortgage'],\n",
       "       ['Credit reporting'],\n",
       "       ['Mortgage'],\n",
       "       ['Debt collection'],\n",
       "       ['Debt collection'],\n",
       "       ['Debt collection'],\n",
       "       ['Debt collection'],\n",
       "       ['Mortgage'],\n",
       "       ['Debt collection'],\n",
       "       ['Bank account or service'],\n",
       "       ['Consumer Loan'],\n",
       "       ['Credit reporting'],\n",
       "       ['Bank account or service'],\n",
       "       ['Student loan'],\n",
       "       ['Credit reporting'],\n",
       "       ['Debt collection'],\n",
       "       ['Mortgage'],\n",
       "       ['Debt collection'],\n",
       "       ['Credit reporting'],\n",
       "       ['Mortgage'],\n",
       "       ['Debt collection'],\n",
       "       ['Debt collection'],\n",
       "       ['Credit card'],\n",
       "       ['Student loan'],\n",
       "       ['Bank account or service'],\n",
       "       ['Bank account or service'],\n",
       "       ['Mortgage'],\n",
       "       ['Credit card'],\n",
       "       ['Student loan'],\n",
       "       ['Credit reporting'],\n",
       "       ['Credit card'],\n",
       "       ['Student loan']], dtype=object)"
      ]
     },
     "execution_count": 55,
     "metadata": {},
     "output_type": "execute_result"
    }
   ],
   "source": [
    "y_pred"
   ]
  },
  {
   "cell_type": "code",
   "execution_count": 56,
   "metadata": {
    "id": "mlI68pkXz9qn"
   },
   "outputs": [
    {
     "name": "stdout",
     "output_type": "stream",
     "text": [
      "                                                                              precision    recall  f1-score   support\n",
      "\n",
      "                                                     Bank account or service       0.65      0.75      0.69        44\n",
      "                                                               Consumer Loan       0.79      0.52      0.63        21\n",
      "                                                                 Credit card       0.75      0.78      0.76        72\n",
      "                                                            Credit reporting       0.79      0.85      0.81        91\n",
      "Credit reporting, credit repair services, or other personal consumer reports       0.00      0.00      0.00         2\n",
      "                                                             Debt collection       0.72      0.82      0.77       124\n",
      "                                                             Money transfers       0.00      0.00      0.00        11\n",
      "                                                                    Mortgage       0.86      0.88      0.87       113\n",
      "                                                     Other financial service       0.00      0.00      0.00         1\n",
      "                                                                 Payday loan       0.00      0.00      0.00         8\n",
      "                                                                Prepaid card       0.00      0.00      0.00         8\n",
      "                                                                Student loan       0.88      0.88      0.88        34\n",
      "\n",
      "                                                                    accuracy                           0.77       529\n",
      "                                                                   macro avg       0.45      0.46      0.45       529\n",
      "                                                                weighted avg       0.73      0.77      0.75       529\n",
      "\n"
     ]
    },
    {
     "name": "stderr",
     "output_type": "stream",
     "text": [
      "C:\\Users\\range\\anaconda3\\Lib\\site-packages\\sklearn\\metrics\\_classification.py:1344: UndefinedMetricWarning: Precision and F-score are ill-defined and being set to 0.0 in labels with no predicted samples. Use `zero_division` parameter to control this behavior.\n",
      "  _warn_prf(average, modifier, msg_start, len(result))\n",
      "C:\\Users\\range\\anaconda3\\Lib\\site-packages\\sklearn\\metrics\\_classification.py:1344: UndefinedMetricWarning: Precision and F-score are ill-defined and being set to 0.0 in labels with no predicted samples. Use `zero_division` parameter to control this behavior.\n",
      "  _warn_prf(average, modifier, msg_start, len(result))\n",
      "C:\\Users\\range\\anaconda3\\Lib\\site-packages\\sklearn\\metrics\\_classification.py:1344: UndefinedMetricWarning: Precision and F-score are ill-defined and being set to 0.0 in labels with no predicted samples. Use `zero_division` parameter to control this behavior.\n",
      "  _warn_prf(average, modifier, msg_start, len(result))\n"
     ]
    }
   ],
   "source": [
    "print(metrics.classification_report(y_test,y_pred))"
   ]
  },
  {
   "cell_type": "code",
   "execution_count": 57,
   "metadata": {
    "id": "E_YyovD64vjT"
   },
   "outputs": [],
   "source": [
    "from sklearn.ensemble import RandomForestClassifier"
   ]
  },
  {
   "cell_type": "code",
   "execution_count": 58,
   "metadata": {
    "id": "gHpseA3nNzVx"
   },
   "outputs": [],
   "source": [
    "rf=RandomForestClassifier()"
   ]
  },
  {
   "cell_type": "code",
   "execution_count": 59,
   "metadata": {
    "id": "UQcOOA3u-vUi"
   },
   "outputs": [],
   "source": [
    "text_clf=Pipeline([('tf',TfidfVectorizer(sublinear_tf= True, \n",
    "                       min_df = 5, \n",
    "                       norm= 'l2', \n",
    "                       ngram_range= (1,2), \n",
    "                       stop_words ='english') ),\n",
    "                 ('clf',RandomForestClassifier())])"
   ]
  },
  {
   "cell_type": "code",
   "execution_count": 60,
   "metadata": {
    "id": "RgdI0uPH-vRb"
   },
   "outputs": [
    {
     "data": {
      "text/html": [
       "<style>#sk-container-id-5 {color: black;background-color: white;}#sk-container-id-5 pre{padding: 0;}#sk-container-id-5 div.sk-toggleable {background-color: white;}#sk-container-id-5 label.sk-toggleable__label {cursor: pointer;display: block;width: 100%;margin-bottom: 0;padding: 0.3em;box-sizing: border-box;text-align: center;}#sk-container-id-5 label.sk-toggleable__label-arrow:before {content: \"▸\";float: left;margin-right: 0.25em;color: #696969;}#sk-container-id-5 label.sk-toggleable__label-arrow:hover:before {color: black;}#sk-container-id-5 div.sk-estimator:hover label.sk-toggleable__label-arrow:before {color: black;}#sk-container-id-5 div.sk-toggleable__content {max-height: 0;max-width: 0;overflow: hidden;text-align: left;background-color: #f0f8ff;}#sk-container-id-5 div.sk-toggleable__content pre {margin: 0.2em;color: black;border-radius: 0.25em;background-color: #f0f8ff;}#sk-container-id-5 input.sk-toggleable__control:checked~div.sk-toggleable__content {max-height: 200px;max-width: 100%;overflow: auto;}#sk-container-id-5 input.sk-toggleable__control:checked~label.sk-toggleable__label-arrow:before {content: \"▾\";}#sk-container-id-5 div.sk-estimator input.sk-toggleable__control:checked~label.sk-toggleable__label {background-color: #d4ebff;}#sk-container-id-5 div.sk-label input.sk-toggleable__control:checked~label.sk-toggleable__label {background-color: #d4ebff;}#sk-container-id-5 input.sk-hidden--visually {border: 0;clip: rect(1px 1px 1px 1px);clip: rect(1px, 1px, 1px, 1px);height: 1px;margin: -1px;overflow: hidden;padding: 0;position: absolute;width: 1px;}#sk-container-id-5 div.sk-estimator {font-family: monospace;background-color: #f0f8ff;border: 1px dotted black;border-radius: 0.25em;box-sizing: border-box;margin-bottom: 0.5em;}#sk-container-id-5 div.sk-estimator:hover {background-color: #d4ebff;}#sk-container-id-5 div.sk-parallel-item::after {content: \"\";width: 100%;border-bottom: 1px solid gray;flex-grow: 1;}#sk-container-id-5 div.sk-label:hover label.sk-toggleable__label {background-color: #d4ebff;}#sk-container-id-5 div.sk-serial::before {content: \"\";position: absolute;border-left: 1px solid gray;box-sizing: border-box;top: 0;bottom: 0;left: 50%;z-index: 0;}#sk-container-id-5 div.sk-serial {display: flex;flex-direction: column;align-items: center;background-color: white;padding-right: 0.2em;padding-left: 0.2em;position: relative;}#sk-container-id-5 div.sk-item {position: relative;z-index: 1;}#sk-container-id-5 div.sk-parallel {display: flex;align-items: stretch;justify-content: center;background-color: white;position: relative;}#sk-container-id-5 div.sk-item::before, #sk-container-id-5 div.sk-parallel-item::before {content: \"\";position: absolute;border-left: 1px solid gray;box-sizing: border-box;top: 0;bottom: 0;left: 50%;z-index: -1;}#sk-container-id-5 div.sk-parallel-item {display: flex;flex-direction: column;z-index: 1;position: relative;background-color: white;}#sk-container-id-5 div.sk-parallel-item:first-child::after {align-self: flex-end;width: 50%;}#sk-container-id-5 div.sk-parallel-item:last-child::after {align-self: flex-start;width: 50%;}#sk-container-id-5 div.sk-parallel-item:only-child::after {width: 0;}#sk-container-id-5 div.sk-dashed-wrapped {border: 1px dashed gray;margin: 0 0.4em 0.5em 0.4em;box-sizing: border-box;padding-bottom: 0.4em;background-color: white;}#sk-container-id-5 div.sk-label label {font-family: monospace;font-weight: bold;display: inline-block;line-height: 1.2em;}#sk-container-id-5 div.sk-label-container {text-align: center;}#sk-container-id-5 div.sk-container {/* jupyter's `normalize.less` sets `[hidden] { display: none; }` but bootstrap.min.css set `[hidden] { display: none !important; }` so we also need the `!important` here to be able to override the default hidden behavior on the sphinx rendered scikit-learn.org. See: https://github.com/scikit-learn/scikit-learn/issues/21755 */display: inline-block !important;position: relative;}#sk-container-id-5 div.sk-text-repr-fallback {display: none;}</style><div id=\"sk-container-id-5\" class=\"sk-top-container\"><div class=\"sk-text-repr-fallback\"><pre>Pipeline(steps=[(&#x27;tf&#x27;,\n",
       "                 TfidfVectorizer(min_df=5, ngram_range=(1, 2),\n",
       "                                 stop_words=&#x27;english&#x27;, sublinear_tf=True)),\n",
       "                (&#x27;clf&#x27;, RandomForestClassifier())])</pre><b>In a Jupyter environment, please rerun this cell to show the HTML representation or trust the notebook. <br />On GitHub, the HTML representation is unable to render, please try loading this page with nbviewer.org.</b></div><div class=\"sk-container\" hidden><div class=\"sk-item sk-dashed-wrapped\"><div class=\"sk-label-container\"><div class=\"sk-label sk-toggleable\"><input class=\"sk-toggleable__control sk-hidden--visually\" id=\"sk-estimator-id-13\" type=\"checkbox\" ><label for=\"sk-estimator-id-13\" class=\"sk-toggleable__label sk-toggleable__label-arrow\">Pipeline</label><div class=\"sk-toggleable__content\"><pre>Pipeline(steps=[(&#x27;tf&#x27;,\n",
       "                 TfidfVectorizer(min_df=5, ngram_range=(1, 2),\n",
       "                                 stop_words=&#x27;english&#x27;, sublinear_tf=True)),\n",
       "                (&#x27;clf&#x27;, RandomForestClassifier())])</pre></div></div></div><div class=\"sk-serial\"><div class=\"sk-item\"><div class=\"sk-estimator sk-toggleable\"><input class=\"sk-toggleable__control sk-hidden--visually\" id=\"sk-estimator-id-14\" type=\"checkbox\" ><label for=\"sk-estimator-id-14\" class=\"sk-toggleable__label sk-toggleable__label-arrow\">TfidfVectorizer</label><div class=\"sk-toggleable__content\"><pre>TfidfVectorizer(min_df=5, ngram_range=(1, 2), stop_words=&#x27;english&#x27;,\n",
       "                sublinear_tf=True)</pre></div></div></div><div class=\"sk-item\"><div class=\"sk-estimator sk-toggleable\"><input class=\"sk-toggleable__control sk-hidden--visually\" id=\"sk-estimator-id-15\" type=\"checkbox\" ><label for=\"sk-estimator-id-15\" class=\"sk-toggleable__label sk-toggleable__label-arrow\">RandomForestClassifier</label><div class=\"sk-toggleable__content\"><pre>RandomForestClassifier()</pre></div></div></div></div></div></div></div>"
      ],
      "text/plain": [
       "Pipeline(steps=[('tf',\n",
       "                 TfidfVectorizer(min_df=5, ngram_range=(1, 2),\n",
       "                                 stop_words='english', sublinear_tf=True)),\n",
       "                ('clf', RandomForestClassifier())])"
      ]
     },
     "execution_count": 60,
     "metadata": {},
     "output_type": "execute_result"
    }
   ],
   "source": [
    "text_clf.fit(X_train, y_train)"
   ]
  },
  {
   "cell_type": "code",
   "execution_count": 61,
   "metadata": {
    "id": "kqOAlc87-7VA"
   },
   "outputs": [
    {
     "data": {
      "text/plain": [
       "'Debt collection'"
      ]
     },
     "execution_count": 61,
     "metadata": {},
     "output_type": "execute_result"
    }
   ],
   "source": [
    "text_clf.predict(['I have outdated information on my credit repor'])[0]"
   ]
  },
  {
   "cell_type": "code",
   "execution_count": 62,
   "metadata": {
    "id": "7IPhEGuc-7R7"
   },
   "outputs": [],
   "source": [
    "y_pred=text_clf.predict(X_test)"
   ]
  },
  {
   "cell_type": "code",
   "execution_count": 63,
   "metadata": {
    "id": "ygfj7XAu-7OF"
   },
   "outputs": [
    {
     "name": "stdout",
     "output_type": "stream",
     "text": [
      "                                                                              precision    recall  f1-score   support\n",
      "\n",
      "                                                     Bank account or service       0.75      0.75      0.75        44\n",
      "                                                               Consumer Loan       0.50      0.19      0.28        21\n",
      "                                                                 Credit card       0.80      0.83      0.82        72\n",
      "                                                            Credit reporting       0.75      0.85      0.80        91\n",
      "Credit reporting, credit repair services, or other personal consumer reports       0.00      0.00      0.00         2\n",
      "                                                             Debt collection       0.71      0.88      0.78       124\n",
      "                                                             Money transfers       0.00      0.00      0.00        11\n",
      "                                                                    Mortgage       0.89      0.93      0.91       113\n",
      "                                                     Other financial service       0.00      0.00      0.00         1\n",
      "                                                                 Payday loan       0.00      0.00      0.00         8\n",
      "                                                                Prepaid card       0.00      0.00      0.00         8\n",
      "                                                                Student loan       0.93      0.76      0.84        34\n",
      "\n",
      "                                                                    accuracy                           0.78       529\n",
      "                                                                   macro avg       0.44      0.43      0.43       529\n",
      "                                                                weighted avg       0.74      0.78      0.75       529\n",
      "\n"
     ]
    },
    {
     "name": "stderr",
     "output_type": "stream",
     "text": [
      "C:\\Users\\range\\anaconda3\\Lib\\site-packages\\sklearn\\metrics\\_classification.py:1344: UndefinedMetricWarning: Precision and F-score are ill-defined and being set to 0.0 in labels with no predicted samples. Use `zero_division` parameter to control this behavior.\n",
      "  _warn_prf(average, modifier, msg_start, len(result))\n",
      "C:\\Users\\range\\anaconda3\\Lib\\site-packages\\sklearn\\metrics\\_classification.py:1344: UndefinedMetricWarning: Precision and F-score are ill-defined and being set to 0.0 in labels with no predicted samples. Use `zero_division` parameter to control this behavior.\n",
      "  _warn_prf(average, modifier, msg_start, len(result))\n",
      "C:\\Users\\range\\anaconda3\\Lib\\site-packages\\sklearn\\metrics\\_classification.py:1344: UndefinedMetricWarning: Precision and F-score are ill-defined and being set to 0.0 in labels with no predicted samples. Use `zero_division` parameter to control this behavior.\n",
      "  _warn_prf(average, modifier, msg_start, len(result))\n"
     ]
    }
   ],
   "source": [
    "print(metrics.classification_report(y_test,y_pred))"
   ]
  },
  {
   "cell_type": "code",
   "execution_count": 64,
   "metadata": {
    "id": "AxXoL8v6-7MC"
   },
   "outputs": [
    {
     "name": "stderr",
     "output_type": "stream",
     "text": [
      "C:\\Users\\range\\anaconda3\\Lib\\site-packages\\sklearn\\model_selection\\_split.py:700: UserWarning: The least populated class in y has only 1 members, which is less than n_splits=5.\n",
      "  warnings.warn(\n"
     ]
    }
   ],
   "source": [
    "cv_results = cross_val_score(text_clf, \n",
    "                                 X_train, y_train, \n",
    "                                 cv=5,\n",
    "                                 scoring=\"accuracy\",\n",
    "                                 n_jobs=-1)"
   ]
  },
  {
   "cell_type": "code",
   "execution_count": 65,
   "metadata": {
    "id": "pjJMTcUs_fuA"
   },
   "outputs": [
    {
     "name": "stdout",
     "output_type": "stream",
     "text": [
      "0.7514195583596214\n"
     ]
    }
   ],
   "source": [
    "print(np.mean(cv_results))"
   ]
  },
  {
   "cell_type": "code",
   "execution_count": 70,
   "metadata": {},
   "outputs": [
    {
     "name": "stdout",
     "output_type": "stream",
     "text": [
      "Collecting lightgbm\n",
      "  Downloading lightgbm-4.4.0-py3-none-win_amd64.whl.metadata (19 kB)\n",
      "Requirement already satisfied: numpy>=1.17.0 in c:\\users\\range\\anaconda3\\lib\\site-packages (from lightgbm) (1.24.3)\n",
      "Requirement already satisfied: scipy in c:\\users\\range\\anaconda3\\lib\\site-packages (from lightgbm) (1.11.1)\n",
      "Downloading lightgbm-4.4.0-py3-none-win_amd64.whl (1.4 MB)\n",
      "   ---------------------------------------- 0.0/1.4 MB ? eta -:--:--\n",
      "    --------------------------------------- 0.0/1.4 MB 1.3 MB/s eta 0:00:02\n",
      "   ---- ----------------------------------- 0.2/1.4 MB 2.5 MB/s eta 0:00:01\n",
      "   --------- ------------------------------ 0.3/1.4 MB 2.9 MB/s eta 0:00:01\n",
      "   --------------- ------------------------ 0.6/1.4 MB 3.6 MB/s eta 0:00:01\n",
      "   --------------------- ------------------ 0.8/1.4 MB 4.4 MB/s eta 0:00:01\n",
      "   ---------------------- ----------------- 0.8/1.4 MB 3.5 MB/s eta 0:00:01\n",
      "   ------------------------------------- -- 1.3/1.4 MB 4.5 MB/s eta 0:00:01\n",
      "   ---------------------------------------  1.4/1.4 MB 4.1 MB/s eta 0:00:01\n",
      "   ---------------------------------------- 1.4/1.4 MB 4.0 MB/s eta 0:00:00\n",
      "Installing collected packages: lightgbm\n",
      "Successfully installed lightgbm-4.4.0\n"
     ]
    },
    {
     "name": "stderr",
     "output_type": "stream",
     "text": [
      "\n",
      "[notice] A new release of pip is available: 23.3.2 -> 24.1.2\n",
      "[notice] To update, run: python.exe -m pip install --upgrade pip\n"
     ]
    }
   ],
   "source": [
    "!pip install lightgbm"
   ]
  },
  {
   "cell_type": "code",
   "execution_count": 71,
   "metadata": {
    "id": "5YuVNUKK5amA"
   },
   "outputs": [],
   "source": [
    "from lightgbm import LGBMClassifier"
   ]
  },
  {
   "cell_type": "code",
   "execution_count": 72,
   "metadata": {
    "id": "OueELokd5ais"
   },
   "outputs": [],
   "source": [
    "text_clf=Pipeline([('tf',TfidfVectorizer(sublinear_tf= True, \n",
    "                       min_df = 5, \n",
    "                       norm= 'l2', \n",
    "                       ngram_range= (1,2), \n",
    "                       stop_words ='english') ),\n",
    "                 ('clf',LGBMClassifier())])"
   ]
  },
  {
   "cell_type": "code",
   "execution_count": 73,
   "metadata": {
    "id": "OzuDPpi35jSW"
   },
   "outputs": [
    {
     "name": "stdout",
     "output_type": "stream",
     "text": [
      "[LightGBM] [Info] Auto-choosing row-wise multi-threading, the overhead of testing was 0.033734 seconds.\n",
      "You can set `force_row_wise=true` to remove the overhead.\n",
      "And if memory is not enough, you can set `force_col_wise=true`.\n",
      "[LightGBM] [Info] Total Bins 24188\n",
      "[LightGBM] [Info] Number of data points in the train set: 1585, number of used features: 1065\n",
      "[LightGBM] [Info] Start training from score -2.419580\n",
      "[LightGBM] [Info] Start training from score -6.675193\n",
      "[LightGBM] [Info] Start training from score -2.902432\n",
      "[LightGBM] [Info] Start training from score -2.080073\n",
      "[LightGBM] [Info] Start training from score -7.368340\n",
      "[LightGBM] [Info] Start training from score -1.651312\n",
      "[LightGBM] [Info] Start training from score -5.422430\n",
      "[LightGBM] [Info] Start training from score -1.389454\n",
      "[LightGBM] [Info] Start training from score -6.675193\n",
      "[LightGBM] [Info] Start training from score -4.970444\n",
      "[LightGBM] [Info] Start training from score -1.684760\n",
      "[LightGBM] [Info] Start training from score -6.269727\n",
      "[LightGBM] [Info] Start training from score -4.477968\n",
      "[LightGBM] [Info] Start training from score -5.065755\n",
      "[LightGBM] [Info] Start training from score -2.658809\n",
      "[LightGBM] [Info] Start training from score -7.368340\n",
      "[LightGBM] [Warning] No further splits with positive gain, best gain: -inf\n",
      "[LightGBM] [Warning] No further splits with positive gain, best gain: -inf\n",
      "[LightGBM] [Warning] No further splits with positive gain, best gain: -inf\n",
      "[LightGBM] [Warning] No further splits with positive gain, best gain: -inf\n",
      "[LightGBM] [Warning] No further splits with positive gain, best gain: -inf\n",
      "[LightGBM] [Warning] No further splits with positive gain, best gain: -inf\n",
      "[LightGBM] [Warning] No further splits with positive gain, best gain: -inf\n",
      "[LightGBM] [Warning] No further splits with positive gain, best gain: -inf\n",
      "[LightGBM] [Warning] No further splits with positive gain, best gain: -inf\n",
      "[LightGBM] [Warning] No further splits with positive gain, best gain: -inf\n",
      "[LightGBM] [Warning] No further splits with positive gain, best gain: -inf\n",
      "[LightGBM] [Warning] No further splits with positive gain, best gain: -inf\n",
      "[LightGBM] [Warning] No further splits with positive gain, best gain: -inf\n",
      "[LightGBM] [Warning] No further splits with positive gain, best gain: -inf\n",
      "[LightGBM] [Warning] No further splits with positive gain, best gain: -inf\n",
      "[LightGBM] [Warning] No further splits with positive gain, best gain: -inf\n",
      "[LightGBM] [Warning] No further splits with positive gain, best gain: -inf\n",
      "[LightGBM] [Warning] No further splits with positive gain, best gain: -inf\n",
      "[LightGBM] [Warning] No further splits with positive gain, best gain: -inf\n",
      "[LightGBM] [Warning] No further splits with positive gain, best gain: -inf\n",
      "[LightGBM] [Warning] No further splits with positive gain, best gain: -inf\n",
      "[LightGBM] [Warning] No further splits with positive gain, best gain: -inf\n",
      "[LightGBM] [Warning] No further splits with positive gain, best gain: -inf\n",
      "[LightGBM] [Warning] No further splits with positive gain, best gain: -inf\n",
      "[LightGBM] [Warning] No further splits with positive gain, best gain: -inf\n",
      "[LightGBM] [Warning] No further splits with positive gain, best gain: -inf\n",
      "[LightGBM] [Warning] No further splits with positive gain, best gain: -inf\n",
      "[LightGBM] [Warning] No further splits with positive gain, best gain: -inf\n",
      "[LightGBM] [Warning] No further splits with positive gain, best gain: -inf\n",
      "[LightGBM] [Warning] No further splits with positive gain, best gain: -inf\n",
      "[LightGBM] [Warning] No further splits with positive gain, best gain: -inf\n",
      "[LightGBM] [Warning] No further splits with positive gain, best gain: -inf\n",
      "[LightGBM] [Warning] No further splits with positive gain, best gain: -inf\n",
      "[LightGBM] [Warning] No further splits with positive gain, best gain: -inf\n",
      "[LightGBM] [Warning] No further splits with positive gain, best gain: -inf\n",
      "[LightGBM] [Warning] No further splits with positive gain, best gain: -inf\n",
      "[LightGBM] [Warning] No further splits with positive gain, best gain: -inf\n",
      "[LightGBM] [Warning] No further splits with positive gain, best gain: -inf\n",
      "[LightGBM] [Warning] No further splits with positive gain, best gain: -inf\n",
      "[LightGBM] [Warning] No further splits with positive gain, best gain: -inf\n",
      "[LightGBM] [Warning] No further splits with positive gain, best gain: -inf\n",
      "[LightGBM] [Warning] No further splits with positive gain, best gain: -inf\n",
      "[LightGBM] [Warning] No further splits with positive gain, best gain: -inf\n",
      "[LightGBM] [Warning] No further splits with positive gain, best gain: -inf\n",
      "[LightGBM] [Warning] No further splits with positive gain, best gain: -inf\n",
      "[LightGBM] [Warning] No further splits with positive gain, best gain: -inf\n",
      "[LightGBM] [Warning] No further splits with positive gain, best gain: -inf\n",
      "[LightGBM] [Warning] No further splits with positive gain, best gain: -inf\n",
      "[LightGBM] [Warning] No further splits with positive gain, best gain: -inf\n",
      "[LightGBM] [Warning] No further splits with positive gain, best gain: -inf\n",
      "[LightGBM] [Warning] No further splits with positive gain, best gain: -inf\n",
      "[LightGBM] [Warning] No further splits with positive gain, best gain: -inf\n",
      "[LightGBM] [Warning] No further splits with positive gain, best gain: -inf\n",
      "[LightGBM] [Warning] No further splits with positive gain, best gain: -inf\n",
      "[LightGBM] [Warning] No further splits with positive gain, best gain: -inf\n",
      "[LightGBM] [Warning] No further splits with positive gain, best gain: -inf\n",
      "[LightGBM] [Warning] No further splits with positive gain, best gain: -inf\n",
      "[LightGBM] [Warning] No further splits with positive gain, best gain: -inf\n",
      "[LightGBM] [Warning] No further splits with positive gain, best gain: -inf\n",
      "[LightGBM] [Warning] No further splits with positive gain, best gain: -inf\n",
      "[LightGBM] [Warning] No further splits with positive gain, best gain: -inf\n",
      "[LightGBM] [Warning] No further splits with positive gain, best gain: -inf\n",
      "[LightGBM] [Warning] No further splits with positive gain, best gain: -inf\n",
      "[LightGBM] [Warning] No further splits with positive gain, best gain: -inf\n",
      "[LightGBM] [Warning] No further splits with positive gain, best gain: -inf\n",
      "[LightGBM] [Warning] No further splits with positive gain, best gain: -inf\n",
      "[LightGBM] [Warning] No further splits with positive gain, best gain: -inf\n",
      "[LightGBM] [Warning] No further splits with positive gain, best gain: -inf\n",
      "[LightGBM] [Warning] No further splits with positive gain, best gain: -inf\n",
      "[LightGBM] [Warning] No further splits with positive gain, best gain: -inf\n",
      "[LightGBM] [Warning] No further splits with positive gain, best gain: -inf\n",
      "[LightGBM] [Warning] No further splits with positive gain, best gain: -inf\n",
      "[LightGBM] [Warning] No further splits with positive gain, best gain: -inf\n",
      "[LightGBM] [Warning] No further splits with positive gain, best gain: -inf\n",
      "[LightGBM] [Warning] No further splits with positive gain, best gain: -inf\n",
      "[LightGBM] [Warning] No further splits with positive gain, best gain: -inf\n",
      "[LightGBM] [Warning] No further splits with positive gain, best gain: -inf\n",
      "[LightGBM] [Warning] No further splits with positive gain, best gain: -inf\n",
      "[LightGBM] [Warning] No further splits with positive gain, best gain: -inf\n",
      "[LightGBM] [Warning] No further splits with positive gain, best gain: -inf\n",
      "[LightGBM] [Warning] No further splits with positive gain, best gain: -inf\n",
      "[LightGBM] [Warning] No further splits with positive gain, best gain: -inf\n",
      "[LightGBM] [Warning] No further splits with positive gain, best gain: -inf\n",
      "[LightGBM] [Warning] No further splits with positive gain, best gain: -inf\n",
      "[LightGBM] [Warning] No further splits with positive gain, best gain: -inf\n",
      "[LightGBM] [Warning] No further splits with positive gain, best gain: -inf\n",
      "[LightGBM] [Warning] No further splits with positive gain, best gain: -inf\n",
      "[LightGBM] [Warning] No further splits with positive gain, best gain: -inf\n",
      "[LightGBM] [Warning] No further splits with positive gain, best gain: -inf\n",
      "[LightGBM] [Warning] No further splits with positive gain, best gain: -inf\n",
      "[LightGBM] [Warning] No further splits with positive gain, best gain: -inf\n",
      "[LightGBM] [Warning] No further splits with positive gain, best gain: -inf\n",
      "[LightGBM] [Warning] No further splits with positive gain, best gain: -inf\n",
      "[LightGBM] [Warning] No further splits with positive gain, best gain: -inf\n",
      "[LightGBM] [Warning] No further splits with positive gain, best gain: -inf\n",
      "[LightGBM] [Warning] No further splits with positive gain, best gain: -inf\n",
      "[LightGBM] [Warning] No further splits with positive gain, best gain: -inf\n",
      "[LightGBM] [Warning] No further splits with positive gain, best gain: -inf\n",
      "[LightGBM] [Warning] No further splits with positive gain, best gain: -inf\n"
     ]
    },
    {
     "name": "stdout",
     "output_type": "stream",
     "text": [
      "[LightGBM] [Warning] No further splits with positive gain, best gain: -inf\n",
      "[LightGBM] [Warning] No further splits with positive gain, best gain: -inf\n",
      "[LightGBM] [Warning] No further splits with positive gain, best gain: -inf\n",
      "[LightGBM] [Warning] No further splits with positive gain, best gain: -inf\n",
      "[LightGBM] [Warning] No further splits with positive gain, best gain: -inf\n",
      "[LightGBM] [Warning] No further splits with positive gain, best gain: -inf\n",
      "[LightGBM] [Warning] No further splits with positive gain, best gain: -inf\n",
      "[LightGBM] [Warning] No further splits with positive gain, best gain: -inf\n",
      "[LightGBM] [Warning] No further splits with positive gain, best gain: -inf\n",
      "[LightGBM] [Warning] No further splits with positive gain, best gain: -inf\n",
      "[LightGBM] [Warning] No further splits with positive gain, best gain: -inf\n",
      "[LightGBM] [Warning] No further splits with positive gain, best gain: -inf\n",
      "[LightGBM] [Warning] No further splits with positive gain, best gain: -inf\n",
      "[LightGBM] [Warning] No further splits with positive gain, best gain: -inf\n",
      "[LightGBM] [Warning] No further splits with positive gain, best gain: -inf\n",
      "[LightGBM] [Warning] No further splits with positive gain, best gain: -inf\n",
      "[LightGBM] [Warning] No further splits with positive gain, best gain: -inf\n",
      "[LightGBM] [Warning] No further splits with positive gain, best gain: -inf\n",
      "[LightGBM] [Warning] No further splits with positive gain, best gain: -inf\n",
      "[LightGBM] [Warning] No further splits with positive gain, best gain: -inf\n",
      "[LightGBM] [Warning] No further splits with positive gain, best gain: -inf\n",
      "[LightGBM] [Warning] No further splits with positive gain, best gain: -inf\n",
      "[LightGBM] [Warning] No further splits with positive gain, best gain: -inf\n",
      "[LightGBM] [Warning] No further splits with positive gain, best gain: -inf\n",
      "[LightGBM] [Warning] No further splits with positive gain, best gain: -inf\n",
      "[LightGBM] [Warning] No further splits with positive gain, best gain: -inf\n",
      "[LightGBM] [Warning] No further splits with positive gain, best gain: -inf\n",
      "[LightGBM] [Warning] No further splits with positive gain, best gain: -inf\n",
      "[LightGBM] [Warning] No further splits with positive gain, best gain: -inf\n",
      "[LightGBM] [Warning] No further splits with positive gain, best gain: -inf\n",
      "[LightGBM] [Warning] No further splits with positive gain, best gain: -inf\n",
      "[LightGBM] [Warning] No further splits with positive gain, best gain: -inf\n",
      "[LightGBM] [Warning] No further splits with positive gain, best gain: -inf\n",
      "[LightGBM] [Warning] No further splits with positive gain, best gain: -inf\n",
      "[LightGBM] [Warning] No further splits with positive gain, best gain: -inf\n",
      "[LightGBM] [Warning] No further splits with positive gain, best gain: -inf\n",
      "[LightGBM] [Warning] No further splits with positive gain, best gain: -inf\n",
      "[LightGBM] [Warning] No further splits with positive gain, best gain: -inf\n",
      "[LightGBM] [Warning] No further splits with positive gain, best gain: -inf\n",
      "[LightGBM] [Warning] No further splits with positive gain, best gain: -inf\n",
      "[LightGBM] [Warning] No further splits with positive gain, best gain: -inf\n",
      "[LightGBM] [Warning] No further splits with positive gain, best gain: -inf\n",
      "[LightGBM] [Warning] No further splits with positive gain, best gain: -inf\n",
      "[LightGBM] [Warning] No further splits with positive gain, best gain: -inf\n",
      "[LightGBM] [Warning] No further splits with positive gain, best gain: -inf\n",
      "[LightGBM] [Warning] No further splits with positive gain, best gain: -inf\n",
      "[LightGBM] [Warning] No further splits with positive gain, best gain: -inf\n",
      "[LightGBM] [Warning] No further splits with positive gain, best gain: -inf\n",
      "[LightGBM] [Warning] No further splits with positive gain, best gain: -inf\n",
      "[LightGBM] [Warning] No further splits with positive gain, best gain: -inf\n",
      "[LightGBM] [Warning] No further splits with positive gain, best gain: -inf\n",
      "[LightGBM] [Warning] No further splits with positive gain, best gain: -inf\n",
      "[LightGBM] [Warning] No further splits with positive gain, best gain: -inf\n",
      "[LightGBM] [Warning] No further splits with positive gain, best gain: -inf\n",
      "[LightGBM] [Warning] No further splits with positive gain, best gain: -inf\n",
      "[LightGBM] [Warning] No further splits with positive gain, best gain: -inf\n",
      "[LightGBM] [Warning] No further splits with positive gain, best gain: -inf\n",
      "[LightGBM] [Warning] No further splits with positive gain, best gain: -inf\n",
      "[LightGBM] [Warning] No further splits with positive gain, best gain: -inf\n",
      "[LightGBM] [Warning] No further splits with positive gain, best gain: -inf\n",
      "[LightGBM] [Warning] No further splits with positive gain, best gain: -inf\n",
      "[LightGBM] [Warning] No further splits with positive gain, best gain: -inf\n",
      "[LightGBM] [Warning] No further splits with positive gain, best gain: -inf\n",
      "[LightGBM] [Warning] No further splits with positive gain, best gain: -inf\n",
      "[LightGBM] [Warning] No further splits with positive gain, best gain: -inf\n",
      "[LightGBM] [Warning] No further splits with positive gain, best gain: -inf\n",
      "[LightGBM] [Warning] No further splits with positive gain, best gain: -inf\n",
      "[LightGBM] [Warning] No further splits with positive gain, best gain: -inf\n",
      "[LightGBM] [Warning] No further splits with positive gain, best gain: -inf\n",
      "[LightGBM] [Warning] No further splits with positive gain, best gain: -inf\n",
      "[LightGBM] [Warning] No further splits with positive gain, best gain: -inf\n",
      "[LightGBM] [Warning] No further splits with positive gain, best gain: -inf\n",
      "[LightGBM] [Warning] No further splits with positive gain, best gain: -inf\n",
      "[LightGBM] [Warning] No further splits with positive gain, best gain: -inf\n",
      "[LightGBM] [Warning] No further splits with positive gain, best gain: -inf\n",
      "[LightGBM] [Warning] No further splits with positive gain, best gain: -inf\n",
      "[LightGBM] [Warning] No further splits with positive gain, best gain: -inf\n",
      "[LightGBM] [Warning] No further splits with positive gain, best gain: -inf\n",
      "[LightGBM] [Warning] No further splits with positive gain, best gain: -inf\n",
      "[LightGBM] [Warning] No further splits with positive gain, best gain: -inf\n",
      "[LightGBM] [Warning] No further splits with positive gain, best gain: -inf\n",
      "[LightGBM] [Warning] No further splits with positive gain, best gain: -inf\n",
      "[LightGBM] [Warning] No further splits with positive gain, best gain: -inf\n",
      "[LightGBM] [Warning] No further splits with positive gain, best gain: -inf\n",
      "[LightGBM] [Warning] No further splits with positive gain, best gain: -inf\n",
      "[LightGBM] [Warning] No further splits with positive gain, best gain: -inf\n",
      "[LightGBM] [Warning] No further splits with positive gain, best gain: -inf\n",
      "[LightGBM] [Warning] No further splits with positive gain, best gain: -inf\n",
      "[LightGBM] [Warning] No further splits with positive gain, best gain: -inf\n",
      "[LightGBM] [Warning] No further splits with positive gain, best gain: -inf\n",
      "[LightGBM] [Warning] No further splits with positive gain, best gain: -inf\n",
      "[LightGBM] [Warning] No further splits with positive gain, best gain: -inf\n",
      "[LightGBM] [Warning] No further splits with positive gain, best gain: -inf\n",
      "[LightGBM] [Warning] No further splits with positive gain, best gain: -inf\n",
      "[LightGBM] [Warning] No further splits with positive gain, best gain: -inf\n",
      "[LightGBM] [Warning] No further splits with positive gain, best gain: -inf\n",
      "[LightGBM] [Warning] No further splits with positive gain, best gain: -inf\n",
      "[LightGBM] [Warning] No further splits with positive gain, best gain: -inf\n",
      "[LightGBM] [Warning] No further splits with positive gain, best gain: -inf\n",
      "[LightGBM] [Warning] No further splits with positive gain, best gain: -inf\n",
      "[LightGBM] [Warning] No further splits with positive gain, best gain: -inf\n",
      "[LightGBM] [Warning] No further splits with positive gain, best gain: -inf\n",
      "[LightGBM] [Warning] No further splits with positive gain, best gain: -inf\n",
      "[LightGBM] [Warning] No further splits with positive gain, best gain: -inf\n",
      "[LightGBM] [Warning] No further splits with positive gain, best gain: -inf\n",
      "[LightGBM] [Warning] No further splits with positive gain, best gain: -inf\n",
      "[LightGBM] [Warning] No further splits with positive gain, best gain: -inf\n",
      "[LightGBM] [Warning] No further splits with positive gain, best gain: -inf\n",
      "[LightGBM] [Warning] No further splits with positive gain, best gain: -inf\n",
      "[LightGBM] [Warning] No further splits with positive gain, best gain: -inf\n",
      "[LightGBM] [Warning] No further splits with positive gain, best gain: -inf\n",
      "[LightGBM] [Warning] No further splits with positive gain, best gain: -inf\n",
      "[LightGBM] [Warning] No further splits with positive gain, best gain: -inf\n",
      "[LightGBM] [Warning] No further splits with positive gain, best gain: -inf\n",
      "[LightGBM] [Warning] No further splits with positive gain, best gain: -inf\n",
      "[LightGBM] [Warning] No further splits with positive gain, best gain: -inf\n",
      "[LightGBM] [Warning] No further splits with positive gain, best gain: -inf\n",
      "[LightGBM] [Warning] No further splits with positive gain, best gain: -inf\n",
      "[LightGBM] [Warning] No further splits with positive gain, best gain: -inf\n",
      "[LightGBM] [Warning] No further splits with positive gain, best gain: -inf\n",
      "[LightGBM] [Warning] No further splits with positive gain, best gain: -inf\n",
      "[LightGBM] [Warning] No further splits with positive gain, best gain: -inf\n",
      "[LightGBM] [Warning] No further splits with positive gain, best gain: -inf\n",
      "[LightGBM] [Warning] No further splits with positive gain, best gain: -inf\n",
      "[LightGBM] [Warning] No further splits with positive gain, best gain: -inf\n",
      "[LightGBM] [Warning] No further splits with positive gain, best gain: -inf\n",
      "[LightGBM] [Warning] No further splits with positive gain, best gain: -inf\n",
      "[LightGBM] [Warning] No further splits with positive gain, best gain: -inf\n",
      "[LightGBM] [Warning] No further splits with positive gain, best gain: -inf\n",
      "[LightGBM] [Warning] No further splits with positive gain, best gain: -inf\n",
      "[LightGBM] [Warning] No further splits with positive gain, best gain: -inf\n",
      "[LightGBM] [Warning] No further splits with positive gain, best gain: -inf\n",
      "[LightGBM] [Warning] No further splits with positive gain, best gain: -inf\n",
      "[LightGBM] [Warning] No further splits with positive gain, best gain: -inf\n",
      "[LightGBM] [Warning] No further splits with positive gain, best gain: -inf\n",
      "[LightGBM] [Warning] No further splits with positive gain, best gain: -inf\n",
      "[LightGBM] [Warning] No further splits with positive gain, best gain: -inf\n",
      "[LightGBM] [Warning] No further splits with positive gain, best gain: -inf\n",
      "[LightGBM] [Warning] No further splits with positive gain, best gain: -inf\n",
      "[LightGBM] [Warning] No further splits with positive gain, best gain: -inf\n",
      "[LightGBM] [Warning] No further splits with positive gain, best gain: -inf\n",
      "[LightGBM] [Warning] No further splits with positive gain, best gain: -inf\n"
     ]
    },
    {
     "name": "stdout",
     "output_type": "stream",
     "text": [
      "[LightGBM] [Warning] No further splits with positive gain, best gain: -inf\n",
      "[LightGBM] [Warning] No further splits with positive gain, best gain: -inf\n",
      "[LightGBM] [Warning] No further splits with positive gain, best gain: -inf\n",
      "[LightGBM] [Warning] No further splits with positive gain, best gain: -inf\n",
      "[LightGBM] [Warning] No further splits with positive gain, best gain: -inf\n",
      "[LightGBM] [Warning] No further splits with positive gain, best gain: -inf\n",
      "[LightGBM] [Warning] No further splits with positive gain, best gain: -inf\n",
      "[LightGBM] [Warning] No further splits with positive gain, best gain: -inf\n",
      "[LightGBM] [Warning] No further splits with positive gain, best gain: -inf\n",
      "[LightGBM] [Warning] No further splits with positive gain, best gain: -inf\n",
      "[LightGBM] [Warning] No further splits with positive gain, best gain: -inf\n",
      "[LightGBM] [Warning] No further splits with positive gain, best gain: -inf\n",
      "[LightGBM] [Warning] No further splits with positive gain, best gain: -inf\n",
      "[LightGBM] [Warning] No further splits with positive gain, best gain: -inf\n",
      "[LightGBM] [Warning] No further splits with positive gain, best gain: -inf\n",
      "[LightGBM] [Warning] No further splits with positive gain, best gain: -inf\n",
      "[LightGBM] [Warning] No further splits with positive gain, best gain: -inf\n",
      "[LightGBM] [Warning] No further splits with positive gain, best gain: -inf\n",
      "[LightGBM] [Warning] No further splits with positive gain, best gain: -inf\n",
      "[LightGBM] [Warning] No further splits with positive gain, best gain: -inf\n",
      "[LightGBM] [Warning] No further splits with positive gain, best gain: -inf\n",
      "[LightGBM] [Warning] No further splits with positive gain, best gain: -inf\n",
      "[LightGBM] [Warning] No further splits with positive gain, best gain: -inf\n",
      "[LightGBM] [Warning] No further splits with positive gain, best gain: -inf\n",
      "[LightGBM] [Warning] No further splits with positive gain, best gain: -inf\n",
      "[LightGBM] [Warning] No further splits with positive gain, best gain: -inf\n",
      "[LightGBM] [Warning] No further splits with positive gain, best gain: -inf\n",
      "[LightGBM] [Warning] No further splits with positive gain, best gain: -inf\n",
      "[LightGBM] [Warning] No further splits with positive gain, best gain: -inf\n",
      "[LightGBM] [Warning] No further splits with positive gain, best gain: -inf\n",
      "[LightGBM] [Warning] No further splits with positive gain, best gain: -inf\n",
      "[LightGBM] [Warning] No further splits with positive gain, best gain: -inf\n",
      "[LightGBM] [Warning] No further splits with positive gain, best gain: -inf\n",
      "[LightGBM] [Warning] No further splits with positive gain, best gain: -inf\n",
      "[LightGBM] [Warning] No further splits with positive gain, best gain: -inf\n",
      "[LightGBM] [Warning] No further splits with positive gain, best gain: -inf\n",
      "[LightGBM] [Warning] No further splits with positive gain, best gain: -inf\n",
      "[LightGBM] [Warning] No further splits with positive gain, best gain: -inf\n",
      "[LightGBM] [Warning] No further splits with positive gain, best gain: -inf\n",
      "[LightGBM] [Warning] No further splits with positive gain, best gain: -inf\n",
      "[LightGBM] [Warning] No further splits with positive gain, best gain: -inf\n",
      "[LightGBM] [Warning] No further splits with positive gain, best gain: -inf\n",
      "[LightGBM] [Warning] No further splits with positive gain, best gain: -inf\n",
      "[LightGBM] [Warning] No further splits with positive gain, best gain: -inf\n",
      "[LightGBM] [Warning] No further splits with positive gain, best gain: -inf\n",
      "[LightGBM] [Warning] No further splits with positive gain, best gain: -inf\n",
      "[LightGBM] [Warning] No further splits with positive gain, best gain: -inf\n",
      "[LightGBM] [Warning] No further splits with positive gain, best gain: -inf\n",
      "[LightGBM] [Warning] No further splits with positive gain, best gain: -inf\n",
      "[LightGBM] [Warning] No further splits with positive gain, best gain: -inf\n",
      "[LightGBM] [Warning] No further splits with positive gain, best gain: -inf\n",
      "[LightGBM] [Warning] No further splits with positive gain, best gain: -inf\n",
      "[LightGBM] [Warning] No further splits with positive gain, best gain: -inf\n",
      "[LightGBM] [Warning] No further splits with positive gain, best gain: -inf\n",
      "[LightGBM] [Warning] No further splits with positive gain, best gain: -inf\n",
      "[LightGBM] [Warning] No further splits with positive gain, best gain: -inf\n",
      "[LightGBM] [Warning] No further splits with positive gain, best gain: -inf\n",
      "[LightGBM] [Warning] No further splits with positive gain, best gain: -inf\n",
      "[LightGBM] [Warning] No further splits with positive gain, best gain: -inf\n",
      "[LightGBM] [Warning] No further splits with positive gain, best gain: -inf\n",
      "[LightGBM] [Warning] No further splits with positive gain, best gain: -inf\n",
      "[LightGBM] [Warning] No further splits with positive gain, best gain: -inf\n",
      "[LightGBM] [Warning] No further splits with positive gain, best gain: -inf\n",
      "[LightGBM] [Warning] No further splits with positive gain, best gain: -inf\n",
      "[LightGBM] [Warning] No further splits with positive gain, best gain: -inf\n",
      "[LightGBM] [Warning] No further splits with positive gain, best gain: -inf\n",
      "[LightGBM] [Warning] No further splits with positive gain, best gain: -inf\n",
      "[LightGBM] [Warning] No further splits with positive gain, best gain: -inf\n",
      "[LightGBM] [Warning] No further splits with positive gain, best gain: -inf\n",
      "[LightGBM] [Warning] No further splits with positive gain, best gain: -inf\n",
      "[LightGBM] [Warning] No further splits with positive gain, best gain: -inf\n",
      "[LightGBM] [Warning] No further splits with positive gain, best gain: -inf\n",
      "[LightGBM] [Warning] No further splits with positive gain, best gain: -inf\n",
      "[LightGBM] [Warning] No further splits with positive gain, best gain: -inf\n",
      "[LightGBM] [Warning] No further splits with positive gain, best gain: -inf\n",
      "[LightGBM] [Warning] No further splits with positive gain, best gain: -inf\n",
      "[LightGBM] [Warning] No further splits with positive gain, best gain: -inf\n",
      "[LightGBM] [Warning] No further splits with positive gain, best gain: -inf\n",
      "[LightGBM] [Warning] No further splits with positive gain, best gain: -inf\n",
      "[LightGBM] [Warning] No further splits with positive gain, best gain: -inf\n",
      "[LightGBM] [Warning] No further splits with positive gain, best gain: -inf\n",
      "[LightGBM] [Warning] No further splits with positive gain, best gain: -inf\n",
      "[LightGBM] [Warning] No further splits with positive gain, best gain: -inf\n",
      "[LightGBM] [Warning] No further splits with positive gain, best gain: -inf\n",
      "[LightGBM] [Warning] No further splits with positive gain, best gain: -inf\n",
      "[LightGBM] [Warning] No further splits with positive gain, best gain: -inf\n",
      "[LightGBM] [Warning] No further splits with positive gain, best gain: -inf\n",
      "[LightGBM] [Warning] No further splits with positive gain, best gain: -inf\n",
      "[LightGBM] [Warning] No further splits with positive gain, best gain: -inf\n",
      "[LightGBM] [Warning] No further splits with positive gain, best gain: -inf\n",
      "[LightGBM] [Warning] No further splits with positive gain, best gain: -inf\n",
      "[LightGBM] [Warning] No further splits with positive gain, best gain: -inf\n",
      "[LightGBM] [Warning] No further splits with positive gain, best gain: -inf\n",
      "[LightGBM] [Warning] No further splits with positive gain, best gain: -inf\n",
      "[LightGBM] [Warning] No further splits with positive gain, best gain: -inf\n",
      "[LightGBM] [Warning] No further splits with positive gain, best gain: -inf\n",
      "[LightGBM] [Warning] No further splits with positive gain, best gain: -inf\n",
      "[LightGBM] [Warning] No further splits with positive gain, best gain: -inf\n",
      "[LightGBM] [Warning] No further splits with positive gain, best gain: -inf\n",
      "[LightGBM] [Warning] No further splits with positive gain, best gain: -inf\n",
      "[LightGBM] [Warning] No further splits with positive gain, best gain: -inf\n",
      "[LightGBM] [Warning] No further splits with positive gain, best gain: -inf\n",
      "[LightGBM] [Warning] No further splits with positive gain, best gain: -inf\n",
      "[LightGBM] [Warning] No further splits with positive gain, best gain: -inf\n",
      "[LightGBM] [Warning] No further splits with positive gain, best gain: -inf\n",
      "[LightGBM] [Warning] No further splits with positive gain, best gain: -inf\n",
      "[LightGBM] [Warning] No further splits with positive gain, best gain: -inf\n",
      "[LightGBM] [Warning] No further splits with positive gain, best gain: -inf\n",
      "[LightGBM] [Warning] No further splits with positive gain, best gain: -inf\n",
      "[LightGBM] [Warning] No further splits with positive gain, best gain: -inf\n",
      "[LightGBM] [Warning] No further splits with positive gain, best gain: -inf\n",
      "[LightGBM] [Warning] No further splits with positive gain, best gain: -inf\n",
      "[LightGBM] [Warning] No further splits with positive gain, best gain: -inf\n",
      "[LightGBM] [Warning] No further splits with positive gain, best gain: -inf\n",
      "[LightGBM] [Warning] No further splits with positive gain, best gain: -inf\n",
      "[LightGBM] [Warning] No further splits with positive gain, best gain: -inf\n",
      "[LightGBM] [Warning] No further splits with positive gain, best gain: -inf\n"
     ]
    },
    {
     "name": "stdout",
     "output_type": "stream",
     "text": [
      "[LightGBM] [Warning] No further splits with positive gain, best gain: -inf\n",
      "[LightGBM] [Warning] No further splits with positive gain, best gain: -inf\n",
      "[LightGBM] [Warning] No further splits with positive gain, best gain: -inf\n",
      "[LightGBM] [Warning] No further splits with positive gain, best gain: -inf\n",
      "[LightGBM] [Warning] No further splits with positive gain, best gain: -inf\n",
      "[LightGBM] [Warning] No further splits with positive gain, best gain: -inf\n",
      "[LightGBM] [Warning] No further splits with positive gain, best gain: -inf\n",
      "[LightGBM] [Warning] No further splits with positive gain, best gain: -inf\n",
      "[LightGBM] [Warning] No further splits with positive gain, best gain: -inf\n",
      "[LightGBM] [Warning] No further splits with positive gain, best gain: -inf\n",
      "[LightGBM] [Warning] No further splits with positive gain, best gain: -inf\n",
      "[LightGBM] [Warning] No further splits with positive gain, best gain: -inf\n",
      "[LightGBM] [Warning] No further splits with positive gain, best gain: -inf\n",
      "[LightGBM] [Warning] No further splits with positive gain, best gain: -inf\n",
      "[LightGBM] [Warning] No further splits with positive gain, best gain: -inf\n",
      "[LightGBM] [Warning] No further splits with positive gain, best gain: -inf\n",
      "[LightGBM] [Warning] No further splits with positive gain, best gain: -inf\n",
      "[LightGBM] [Warning] No further splits with positive gain, best gain: -inf\n",
      "[LightGBM] [Warning] No further splits with positive gain, best gain: -inf\n",
      "[LightGBM] [Warning] No further splits with positive gain, best gain: -inf\n",
      "[LightGBM] [Warning] No further splits with positive gain, best gain: -inf\n",
      "[LightGBM] [Warning] No further splits with positive gain, best gain: -inf\n",
      "[LightGBM] [Warning] No further splits with positive gain, best gain: -inf\n",
      "[LightGBM] [Warning] No further splits with positive gain, best gain: -inf\n",
      "[LightGBM] [Warning] No further splits with positive gain, best gain: -inf\n",
      "[LightGBM] [Warning] No further splits with positive gain, best gain: -inf\n",
      "[LightGBM] [Warning] No further splits with positive gain, best gain: -inf\n",
      "[LightGBM] [Warning] No further splits with positive gain, best gain: -inf\n",
      "[LightGBM] [Warning] No further splits with positive gain, best gain: -inf\n",
      "[LightGBM] [Warning] No further splits with positive gain, best gain: -inf\n",
      "[LightGBM] [Warning] No further splits with positive gain, best gain: -inf\n",
      "[LightGBM] [Warning] No further splits with positive gain, best gain: -inf\n",
      "[LightGBM] [Warning] No further splits with positive gain, best gain: -inf\n",
      "[LightGBM] [Warning] No further splits with positive gain, best gain: -inf\n",
      "[LightGBM] [Warning] No further splits with positive gain, best gain: -inf\n",
      "[LightGBM] [Warning] No further splits with positive gain, best gain: -inf\n",
      "[LightGBM] [Warning] No further splits with positive gain, best gain: -inf\n",
      "[LightGBM] [Warning] No further splits with positive gain, best gain: -inf\n",
      "[LightGBM] [Warning] No further splits with positive gain, best gain: -inf\n",
      "[LightGBM] [Warning] No further splits with positive gain, best gain: -inf\n",
      "[LightGBM] [Warning] No further splits with positive gain, best gain: -inf\n",
      "[LightGBM] [Warning] No further splits with positive gain, best gain: -inf\n",
      "[LightGBM] [Warning] No further splits with positive gain, best gain: -inf\n",
      "[LightGBM] [Warning] No further splits with positive gain, best gain: -inf\n",
      "[LightGBM] [Warning] No further splits with positive gain, best gain: -inf\n",
      "[LightGBM] [Warning] No further splits with positive gain, best gain: -inf\n",
      "[LightGBM] [Warning] No further splits with positive gain, best gain: -inf\n",
      "[LightGBM] [Warning] No further splits with positive gain, best gain: -inf\n",
      "[LightGBM] [Warning] No further splits with positive gain, best gain: -inf\n",
      "[LightGBM] [Warning] No further splits with positive gain, best gain: -inf\n",
      "[LightGBM] [Warning] No further splits with positive gain, best gain: -inf\n",
      "[LightGBM] [Warning] No further splits with positive gain, best gain: -inf\n",
      "[LightGBM] [Warning] No further splits with positive gain, best gain: -inf\n",
      "[LightGBM] [Warning] No further splits with positive gain, best gain: -inf\n",
      "[LightGBM] [Warning] No further splits with positive gain, best gain: -inf\n",
      "[LightGBM] [Warning] No further splits with positive gain, best gain: -inf\n",
      "[LightGBM] [Warning] No further splits with positive gain, best gain: -inf\n",
      "[LightGBM] [Warning] No further splits with positive gain, best gain: -inf\n",
      "[LightGBM] [Warning] No further splits with positive gain, best gain: -inf\n",
      "[LightGBM] [Warning] No further splits with positive gain, best gain: -inf\n",
      "[LightGBM] [Warning] No further splits with positive gain, best gain: -inf\n",
      "[LightGBM] [Warning] No further splits with positive gain, best gain: -inf\n",
      "[LightGBM] [Warning] No further splits with positive gain, best gain: -inf\n",
      "[LightGBM] [Warning] No further splits with positive gain, best gain: -inf\n",
      "[LightGBM] [Warning] No further splits with positive gain, best gain: -inf\n",
      "[LightGBM] [Warning] No further splits with positive gain, best gain: -inf\n",
      "[LightGBM] [Warning] No further splits with positive gain, best gain: -inf\n",
      "[LightGBM] [Warning] No further splits with positive gain, best gain: -inf\n",
      "[LightGBM] [Warning] No further splits with positive gain, best gain: -inf\n",
      "[LightGBM] [Warning] No further splits with positive gain, best gain: -inf\n",
      "[LightGBM] [Warning] No further splits with positive gain, best gain: -inf\n",
      "[LightGBM] [Warning] No further splits with positive gain, best gain: -inf\n",
      "[LightGBM] [Warning] No further splits with positive gain, best gain: -inf\n",
      "[LightGBM] [Warning] No further splits with positive gain, best gain: -inf\n",
      "[LightGBM] [Warning] No further splits with positive gain, best gain: -inf\n",
      "[LightGBM] [Warning] No further splits with positive gain, best gain: -inf\n",
      "[LightGBM] [Warning] No further splits with positive gain, best gain: -inf\n",
      "[LightGBM] [Warning] No further splits with positive gain, best gain: -inf\n",
      "[LightGBM] [Warning] No further splits with positive gain, best gain: -inf\n",
      "[LightGBM] [Warning] No further splits with positive gain, best gain: -inf\n",
      "[LightGBM] [Warning] No further splits with positive gain, best gain: -inf\n",
      "[LightGBM] [Warning] No further splits with positive gain, best gain: -inf\n",
      "[LightGBM] [Warning] No further splits with positive gain, best gain: -inf\n",
      "[LightGBM] [Warning] No further splits with positive gain, best gain: -inf\n",
      "[LightGBM] [Warning] No further splits with positive gain, best gain: -inf\n",
      "[LightGBM] [Warning] No further splits with positive gain, best gain: -inf\n",
      "[LightGBM] [Warning] No further splits with positive gain, best gain: -inf\n",
      "[LightGBM] [Warning] No further splits with positive gain, best gain: -inf\n",
      "[LightGBM] [Warning] No further splits with positive gain, best gain: -inf\n",
      "[LightGBM] [Warning] No further splits with positive gain, best gain: -inf\n",
      "[LightGBM] [Warning] No further splits with positive gain, best gain: -inf\n",
      "[LightGBM] [Warning] No further splits with positive gain, best gain: -inf\n",
      "[LightGBM] [Warning] No further splits with positive gain, best gain: -inf\n",
      "[LightGBM] [Warning] No further splits with positive gain, best gain: -inf\n",
      "[LightGBM] [Warning] No further splits with positive gain, best gain: -inf\n",
      "[LightGBM] [Warning] No further splits with positive gain, best gain: -inf\n",
      "[LightGBM] [Warning] No further splits with positive gain, best gain: -inf\n",
      "[LightGBM] [Warning] No further splits with positive gain, best gain: -inf\n",
      "[LightGBM] [Warning] No further splits with positive gain, best gain: -inf\n",
      "[LightGBM] [Warning] No further splits with positive gain, best gain: -inf\n",
      "[LightGBM] [Warning] No further splits with positive gain, best gain: -inf\n",
      "[LightGBM] [Warning] No further splits with positive gain, best gain: -inf\n",
      "[LightGBM] [Warning] No further splits with positive gain, best gain: -inf\n",
      "[LightGBM] [Warning] No further splits with positive gain, best gain: -inf\n",
      "[LightGBM] [Warning] No further splits with positive gain, best gain: -inf\n",
      "[LightGBM] [Warning] No further splits with positive gain, best gain: -inf\n",
      "[LightGBM] [Warning] No further splits with positive gain, best gain: -inf\n",
      "[LightGBM] [Warning] No further splits with positive gain, best gain: -inf\n",
      "[LightGBM] [Warning] No further splits with positive gain, best gain: -inf\n",
      "[LightGBM] [Warning] No further splits with positive gain, best gain: -inf\n",
      "[LightGBM] [Warning] No further splits with positive gain, best gain: -inf\n",
      "[LightGBM] [Warning] No further splits with positive gain, best gain: -inf\n",
      "[LightGBM] [Warning] No further splits with positive gain, best gain: -inf\n",
      "[LightGBM] [Warning] No further splits with positive gain, best gain: -inf\n",
      "[LightGBM] [Warning] No further splits with positive gain, best gain: -inf\n",
      "[LightGBM] [Warning] No further splits with positive gain, best gain: -inf\n",
      "[LightGBM] [Warning] No further splits with positive gain, best gain: -inf\n",
      "[LightGBM] [Warning] No further splits with positive gain, best gain: -inf\n",
      "[LightGBM] [Warning] No further splits with positive gain, best gain: -inf\n",
      "[LightGBM] [Warning] No further splits with positive gain, best gain: -inf\n",
      "[LightGBM] [Warning] No further splits with positive gain, best gain: -inf\n",
      "[LightGBM] [Warning] No further splits with positive gain, best gain: -inf\n"
     ]
    },
    {
     "name": "stdout",
     "output_type": "stream",
     "text": [
      "[LightGBM] [Warning] No further splits with positive gain, best gain: -inf\n",
      "[LightGBM] [Warning] No further splits with positive gain, best gain: -inf\n",
      "[LightGBM] [Warning] No further splits with positive gain, best gain: -inf\n",
      "[LightGBM] [Warning] No further splits with positive gain, best gain: -inf\n",
      "[LightGBM] [Warning] No further splits with positive gain, best gain: -inf\n",
      "[LightGBM] [Warning] No further splits with positive gain, best gain: -inf\n",
      "[LightGBM] [Warning] No further splits with positive gain, best gain: -inf\n",
      "[LightGBM] [Warning] No further splits with positive gain, best gain: -inf\n",
      "[LightGBM] [Warning] No further splits with positive gain, best gain: -inf\n",
      "[LightGBM] [Warning] No further splits with positive gain, best gain: -inf\n",
      "[LightGBM] [Warning] No further splits with positive gain, best gain: -inf\n",
      "[LightGBM] [Warning] No further splits with positive gain, best gain: -inf\n",
      "[LightGBM] [Warning] No further splits with positive gain, best gain: -inf\n",
      "[LightGBM] [Warning] No further splits with positive gain, best gain: -inf\n",
      "[LightGBM] [Warning] No further splits with positive gain, best gain: -inf\n",
      "[LightGBM] [Warning] No further splits with positive gain, best gain: -inf\n",
      "[LightGBM] [Warning] No further splits with positive gain, best gain: -inf\n",
      "[LightGBM] [Warning] No further splits with positive gain, best gain: -inf\n",
      "[LightGBM] [Warning] No further splits with positive gain, best gain: -inf\n",
      "[LightGBM] [Warning] No further splits with positive gain, best gain: -inf\n",
      "[LightGBM] [Warning] No further splits with positive gain, best gain: -inf\n",
      "[LightGBM] [Warning] No further splits with positive gain, best gain: -inf\n",
      "[LightGBM] [Warning] No further splits with positive gain, best gain: -inf\n",
      "[LightGBM] [Warning] No further splits with positive gain, best gain: -inf\n",
      "[LightGBM] [Warning] No further splits with positive gain, best gain: -inf\n",
      "[LightGBM] [Warning] No further splits with positive gain, best gain: -inf\n",
      "[LightGBM] [Warning] No further splits with positive gain, best gain: -inf\n",
      "[LightGBM] [Warning] No further splits with positive gain, best gain: -inf\n",
      "[LightGBM] [Warning] No further splits with positive gain, best gain: -inf\n",
      "[LightGBM] [Warning] No further splits with positive gain, best gain: -inf\n",
      "[LightGBM] [Warning] No further splits with positive gain, best gain: -inf\n",
      "[LightGBM] [Warning] No further splits with positive gain, best gain: -inf\n",
      "[LightGBM] [Warning] No further splits with positive gain, best gain: -inf\n",
      "[LightGBM] [Warning] No further splits with positive gain, best gain: -inf\n",
      "[LightGBM] [Warning] No further splits with positive gain, best gain: -inf\n",
      "[LightGBM] [Warning] No further splits with positive gain, best gain: -inf\n",
      "[LightGBM] [Warning] No further splits with positive gain, best gain: -inf\n",
      "[LightGBM] [Warning] No further splits with positive gain, best gain: -inf\n",
      "[LightGBM] [Warning] No further splits with positive gain, best gain: -inf\n",
      "[LightGBM] [Warning] No further splits with positive gain, best gain: -inf\n",
      "[LightGBM] [Warning] No further splits with positive gain, best gain: -inf\n",
      "[LightGBM] [Warning] No further splits with positive gain, best gain: -inf\n",
      "[LightGBM] [Warning] No further splits with positive gain, best gain: -inf\n",
      "[LightGBM] [Warning] No further splits with positive gain, best gain: -inf\n",
      "[LightGBM] [Warning] No further splits with positive gain, best gain: -inf\n",
      "[LightGBM] [Warning] No further splits with positive gain, best gain: -inf\n",
      "[LightGBM] [Warning] No further splits with positive gain, best gain: -inf\n",
      "[LightGBM] [Warning] No further splits with positive gain, best gain: -inf\n",
      "[LightGBM] [Warning] No further splits with positive gain, best gain: -inf\n",
      "[LightGBM] [Warning] No further splits with positive gain, best gain: -inf\n",
      "[LightGBM] [Warning] No further splits with positive gain, best gain: -inf\n",
      "[LightGBM] [Warning] No further splits with positive gain, best gain: -inf\n",
      "[LightGBM] [Warning] No further splits with positive gain, best gain: -inf\n",
      "[LightGBM] [Warning] No further splits with positive gain, best gain: -inf\n",
      "[LightGBM] [Warning] No further splits with positive gain, best gain: -inf\n",
      "[LightGBM] [Warning] No further splits with positive gain, best gain: -inf\n",
      "[LightGBM] [Warning] No further splits with positive gain, best gain: -inf\n",
      "[LightGBM] [Warning] No further splits with positive gain, best gain: -inf\n",
      "[LightGBM] [Warning] No further splits with positive gain, best gain: -inf\n",
      "[LightGBM] [Warning] No further splits with positive gain, best gain: -inf\n",
      "[LightGBM] [Warning] No further splits with positive gain, best gain: -inf\n",
      "[LightGBM] [Warning] No further splits with positive gain, best gain: -inf\n",
      "[LightGBM] [Warning] No further splits with positive gain, best gain: -inf\n",
      "[LightGBM] [Warning] No further splits with positive gain, best gain: -inf\n",
      "[LightGBM] [Warning] No further splits with positive gain, best gain: -inf\n",
      "[LightGBM] [Warning] No further splits with positive gain, best gain: -inf\n",
      "[LightGBM] [Warning] No further splits with positive gain, best gain: -inf\n",
      "[LightGBM] [Warning] No further splits with positive gain, best gain: -inf\n",
      "[LightGBM] [Warning] No further splits with positive gain, best gain: -inf\n",
      "[LightGBM] [Warning] No further splits with positive gain, best gain: -inf\n",
      "[LightGBM] [Warning] No further splits with positive gain, best gain: -inf\n",
      "[LightGBM] [Warning] No further splits with positive gain, best gain: -inf\n",
      "[LightGBM] [Warning] No further splits with positive gain, best gain: -inf\n",
      "[LightGBM] [Warning] No further splits with positive gain, best gain: -inf\n",
      "[LightGBM] [Warning] No further splits with positive gain, best gain: -inf\n",
      "[LightGBM] [Warning] No further splits with positive gain, best gain: -inf\n",
      "[LightGBM] [Warning] No further splits with positive gain, best gain: -inf\n",
      "[LightGBM] [Warning] No further splits with positive gain, best gain: -inf\n",
      "[LightGBM] [Warning] No further splits with positive gain, best gain: -inf\n",
      "[LightGBM] [Warning] No further splits with positive gain, best gain: -inf\n",
      "[LightGBM] [Warning] No further splits with positive gain, best gain: -inf\n",
      "[LightGBM] [Warning] No further splits with positive gain, best gain: -inf\n",
      "[LightGBM] [Warning] No further splits with positive gain, best gain: -inf\n",
      "[LightGBM] [Warning] No further splits with positive gain, best gain: -inf\n",
      "[LightGBM] [Warning] No further splits with positive gain, best gain: -inf\n",
      "[LightGBM] [Warning] No further splits with positive gain, best gain: -inf\n",
      "[LightGBM] [Warning] No further splits with positive gain, best gain: -inf\n",
      "[LightGBM] [Warning] No further splits with positive gain, best gain: -inf\n",
      "[LightGBM] [Warning] No further splits with positive gain, best gain: -inf\n",
      "[LightGBM] [Warning] No further splits with positive gain, best gain: -inf\n",
      "[LightGBM] [Warning] No further splits with positive gain, best gain: -inf\n",
      "[LightGBM] [Warning] No further splits with positive gain, best gain: -inf\n",
      "[LightGBM] [Warning] No further splits with positive gain, best gain: -inf\n",
      "[LightGBM] [Warning] No further splits with positive gain, best gain: -inf\n",
      "[LightGBM] [Warning] No further splits with positive gain, best gain: -inf\n",
      "[LightGBM] [Warning] No further splits with positive gain, best gain: -inf\n",
      "[LightGBM] [Warning] No further splits with positive gain, best gain: -inf\n",
      "[LightGBM] [Warning] No further splits with positive gain, best gain: -inf\n",
      "[LightGBM] [Warning] No further splits with positive gain, best gain: -inf\n",
      "[LightGBM] [Warning] No further splits with positive gain, best gain: -inf\n",
      "[LightGBM] [Warning] No further splits with positive gain, best gain: -inf\n",
      "[LightGBM] [Warning] No further splits with positive gain, best gain: -inf\n",
      "[LightGBM] [Warning] No further splits with positive gain, best gain: -inf\n",
      "[LightGBM] [Warning] No further splits with positive gain, best gain: -inf\n"
     ]
    },
    {
     "data": {
      "text/html": [
       "<style>#sk-container-id-6 {color: black;background-color: white;}#sk-container-id-6 pre{padding: 0;}#sk-container-id-6 div.sk-toggleable {background-color: white;}#sk-container-id-6 label.sk-toggleable__label {cursor: pointer;display: block;width: 100%;margin-bottom: 0;padding: 0.3em;box-sizing: border-box;text-align: center;}#sk-container-id-6 label.sk-toggleable__label-arrow:before {content: \"▸\";float: left;margin-right: 0.25em;color: #696969;}#sk-container-id-6 label.sk-toggleable__label-arrow:hover:before {color: black;}#sk-container-id-6 div.sk-estimator:hover label.sk-toggleable__label-arrow:before {color: black;}#sk-container-id-6 div.sk-toggleable__content {max-height: 0;max-width: 0;overflow: hidden;text-align: left;background-color: #f0f8ff;}#sk-container-id-6 div.sk-toggleable__content pre {margin: 0.2em;color: black;border-radius: 0.25em;background-color: #f0f8ff;}#sk-container-id-6 input.sk-toggleable__control:checked~div.sk-toggleable__content {max-height: 200px;max-width: 100%;overflow: auto;}#sk-container-id-6 input.sk-toggleable__control:checked~label.sk-toggleable__label-arrow:before {content: \"▾\";}#sk-container-id-6 div.sk-estimator input.sk-toggleable__control:checked~label.sk-toggleable__label {background-color: #d4ebff;}#sk-container-id-6 div.sk-label input.sk-toggleable__control:checked~label.sk-toggleable__label {background-color: #d4ebff;}#sk-container-id-6 input.sk-hidden--visually {border: 0;clip: rect(1px 1px 1px 1px);clip: rect(1px, 1px, 1px, 1px);height: 1px;margin: -1px;overflow: hidden;padding: 0;position: absolute;width: 1px;}#sk-container-id-6 div.sk-estimator {font-family: monospace;background-color: #f0f8ff;border: 1px dotted black;border-radius: 0.25em;box-sizing: border-box;margin-bottom: 0.5em;}#sk-container-id-6 div.sk-estimator:hover {background-color: #d4ebff;}#sk-container-id-6 div.sk-parallel-item::after {content: \"\";width: 100%;border-bottom: 1px solid gray;flex-grow: 1;}#sk-container-id-6 div.sk-label:hover label.sk-toggleable__label {background-color: #d4ebff;}#sk-container-id-6 div.sk-serial::before {content: \"\";position: absolute;border-left: 1px solid gray;box-sizing: border-box;top: 0;bottom: 0;left: 50%;z-index: 0;}#sk-container-id-6 div.sk-serial {display: flex;flex-direction: column;align-items: center;background-color: white;padding-right: 0.2em;padding-left: 0.2em;position: relative;}#sk-container-id-6 div.sk-item {position: relative;z-index: 1;}#sk-container-id-6 div.sk-parallel {display: flex;align-items: stretch;justify-content: center;background-color: white;position: relative;}#sk-container-id-6 div.sk-item::before, #sk-container-id-6 div.sk-parallel-item::before {content: \"\";position: absolute;border-left: 1px solid gray;box-sizing: border-box;top: 0;bottom: 0;left: 50%;z-index: -1;}#sk-container-id-6 div.sk-parallel-item {display: flex;flex-direction: column;z-index: 1;position: relative;background-color: white;}#sk-container-id-6 div.sk-parallel-item:first-child::after {align-self: flex-end;width: 50%;}#sk-container-id-6 div.sk-parallel-item:last-child::after {align-self: flex-start;width: 50%;}#sk-container-id-6 div.sk-parallel-item:only-child::after {width: 0;}#sk-container-id-6 div.sk-dashed-wrapped {border: 1px dashed gray;margin: 0 0.4em 0.5em 0.4em;box-sizing: border-box;padding-bottom: 0.4em;background-color: white;}#sk-container-id-6 div.sk-label label {font-family: monospace;font-weight: bold;display: inline-block;line-height: 1.2em;}#sk-container-id-6 div.sk-label-container {text-align: center;}#sk-container-id-6 div.sk-container {/* jupyter's `normalize.less` sets `[hidden] { display: none; }` but bootstrap.min.css set `[hidden] { display: none !important; }` so we also need the `!important` here to be able to override the default hidden behavior on the sphinx rendered scikit-learn.org. See: https://github.com/scikit-learn/scikit-learn/issues/21755 */display: inline-block !important;position: relative;}#sk-container-id-6 div.sk-text-repr-fallback {display: none;}</style><div id=\"sk-container-id-6\" class=\"sk-top-container\"><div class=\"sk-text-repr-fallback\"><pre>Pipeline(steps=[(&#x27;tf&#x27;,\n",
       "                 TfidfVectorizer(min_df=5, ngram_range=(1, 2),\n",
       "                                 stop_words=&#x27;english&#x27;, sublinear_tf=True)),\n",
       "                (&#x27;clf&#x27;, LGBMClassifier())])</pre><b>In a Jupyter environment, please rerun this cell to show the HTML representation or trust the notebook. <br />On GitHub, the HTML representation is unable to render, please try loading this page with nbviewer.org.</b></div><div class=\"sk-container\" hidden><div class=\"sk-item sk-dashed-wrapped\"><div class=\"sk-label-container\"><div class=\"sk-label sk-toggleable\"><input class=\"sk-toggleable__control sk-hidden--visually\" id=\"sk-estimator-id-16\" type=\"checkbox\" ><label for=\"sk-estimator-id-16\" class=\"sk-toggleable__label sk-toggleable__label-arrow\">Pipeline</label><div class=\"sk-toggleable__content\"><pre>Pipeline(steps=[(&#x27;tf&#x27;,\n",
       "                 TfidfVectorizer(min_df=5, ngram_range=(1, 2),\n",
       "                                 stop_words=&#x27;english&#x27;, sublinear_tf=True)),\n",
       "                (&#x27;clf&#x27;, LGBMClassifier())])</pre></div></div></div><div class=\"sk-serial\"><div class=\"sk-item\"><div class=\"sk-estimator sk-toggleable\"><input class=\"sk-toggleable__control sk-hidden--visually\" id=\"sk-estimator-id-17\" type=\"checkbox\" ><label for=\"sk-estimator-id-17\" class=\"sk-toggleable__label sk-toggleable__label-arrow\">TfidfVectorizer</label><div class=\"sk-toggleable__content\"><pre>TfidfVectorizer(min_df=5, ngram_range=(1, 2), stop_words=&#x27;english&#x27;,\n",
       "                sublinear_tf=True)</pre></div></div></div><div class=\"sk-item\"><div class=\"sk-estimator sk-toggleable\"><input class=\"sk-toggleable__control sk-hidden--visually\" id=\"sk-estimator-id-18\" type=\"checkbox\" ><label for=\"sk-estimator-id-18\" class=\"sk-toggleable__label sk-toggleable__label-arrow\">LGBMClassifier</label><div class=\"sk-toggleable__content\"><pre>LGBMClassifier()</pre></div></div></div></div></div></div></div>"
      ],
      "text/plain": [
       "Pipeline(steps=[('tf',\n",
       "                 TfidfVectorizer(min_df=5, ngram_range=(1, 2),\n",
       "                                 stop_words='english', sublinear_tf=True)),\n",
       "                ('clf', LGBMClassifier())])"
      ]
     },
     "execution_count": 73,
     "metadata": {},
     "output_type": "execute_result"
    }
   ],
   "source": [
    "text_clf.fit(X_train, y_train)"
   ]
  },
  {
   "cell_type": "code",
   "execution_count": 74,
   "metadata": {
    "id": "U4WK7EFR5jOI"
   },
   "outputs": [],
   "source": [
    "y_pred=text_clf.predict(X_test)"
   ]
  },
  {
   "cell_type": "code",
   "execution_count": 75,
   "metadata": {
    "id": "vENjrdWB5jLg"
   },
   "outputs": [
    {
     "name": "stdout",
     "output_type": "stream",
     "text": [
      "                                                                              precision    recall  f1-score   support\n",
      "\n",
      "                                                     Bank account or service       0.70      0.68      0.69        44\n",
      "                                                               Consumer Loan       0.47      0.38      0.42        21\n",
      "                                                                 Credit card       0.73      0.81      0.77        72\n",
      "                                                            Credit reporting       0.81      0.84      0.82        91\n",
      "Credit reporting, credit repair services, or other personal consumer reports       0.00      0.00      0.00         2\n",
      "                                                             Debt collection       0.73      0.87      0.79       124\n",
      "                                                             Money transfers       1.00      0.18      0.31        11\n",
      "                                                                    Mortgage       0.91      0.90      0.91       113\n",
      "                                                     Other financial service       0.00      0.00      0.00         1\n",
      "                                                                 Payday loan       0.50      0.12      0.20         8\n",
      "                                                                Prepaid card       0.00      0.00      0.00         8\n",
      "                                                                Student loan       0.90      0.82      0.86        34\n",
      "\n",
      "                                                                    accuracy                           0.78       529\n",
      "                                                                   macro avg       0.56      0.47      0.48       529\n",
      "                                                                weighted avg       0.77      0.78      0.76       529\n",
      "\n"
     ]
    },
    {
     "name": "stderr",
     "output_type": "stream",
     "text": [
      "C:\\Users\\range\\anaconda3\\Lib\\site-packages\\sklearn\\metrics\\_classification.py:1344: UndefinedMetricWarning: Precision and F-score are ill-defined and being set to 0.0 in labels with no predicted samples. Use `zero_division` parameter to control this behavior.\n",
      "  _warn_prf(average, modifier, msg_start, len(result))\n",
      "C:\\Users\\range\\anaconda3\\Lib\\site-packages\\sklearn\\metrics\\_classification.py:1344: UndefinedMetricWarning: Precision and F-score are ill-defined and being set to 0.0 in labels with no predicted samples. Use `zero_division` parameter to control this behavior.\n",
      "  _warn_prf(average, modifier, msg_start, len(result))\n",
      "C:\\Users\\range\\anaconda3\\Lib\\site-packages\\sklearn\\metrics\\_classification.py:1344: UndefinedMetricWarning: Precision and F-score are ill-defined and being set to 0.0 in labels with no predicted samples. Use `zero_division` parameter to control this behavior.\n",
      "  _warn_prf(average, modifier, msg_start, len(result))\n"
     ]
    }
   ],
   "source": [
    "print(metrics.classification_report(y_test,y_pred))"
   ]
  },
  {
   "cell_type": "code",
   "execution_count": 76,
   "metadata": {
    "id": "l94kreHH5xI7"
   },
   "outputs": [
    {
     "name": "stderr",
     "output_type": "stream",
     "text": [
      "C:\\Users\\range\\anaconda3\\Lib\\site-packages\\sklearn\\model_selection\\_split.py:700: UserWarning: The least populated class in y has only 1 members, which is less than n_splits=5.\n",
      "  warnings.warn(\n",
      "C:\\Users\\range\\anaconda3\\Lib\\site-packages\\joblib\\externals\\loky\\process_executor.py:700: UserWarning: A worker stopped while some jobs were given to the executor. This can be caused by a too short worker timeout or by a memory leak.\n",
      "  warnings.warn(\n"
     ]
    }
   ],
   "source": [
    "cv_results = cross_val_score(text_clf, \n",
    "                                 X_train, y_train, \n",
    "                                 cv=5,\n",
    "                                 scoring=\"accuracy\",\n",
    "                                 n_jobs=-1)"
   ]
  },
  {
   "cell_type": "code",
   "execution_count": 77,
   "metadata": {
    "id": "SM73cADZ5xFX"
   },
   "outputs": [
    {
     "name": "stdout",
     "output_type": "stream",
     "text": [
      "0.7678233438485805\n"
     ]
    }
   ],
   "source": [
    "print(np.mean(cv_results))"
   ]
  },
  {
   "cell_type": "code",
   "execution_count": null,
   "metadata": {
    "id": "FZtnaa4g50Uf"
   },
   "outputs": [],
   "source": []
  },
  {
   "cell_type": "markdown",
   "metadata": {
    "id": "F1vcGt5PIHSz"
   },
   "source": [
    "### Hyperparameter Tuning"
   ]
  },
  {
   "cell_type": "code",
   "execution_count": 78,
   "metadata": {
    "id": "kMdTK1k6NzSq"
   },
   "outputs": [],
   "source": [
    "from sklearn.model_selection import RandomizedSearchCV,GridSearchCV"
   ]
  },
  {
   "cell_type": "code",
   "execution_count": 79,
   "metadata": {
    "id": "kSAmb5lnz9qo"
   },
   "outputs": [],
   "source": [
    " #Randomized Search CV\n",
    " import numpy as np\n",
    "n_estimators = [int(x) for x in np.linspace(start = 100, stop = 1200, num = 12)]\n",
    "max_features = ['auto', 'sqrt']\n",
    "max_depth = [int(x) for x in np.linspace(5, 30, num = 6)]\n",
    "min_samples_split = [2, 5, 10, 15, 100]\n",
    "min_samples_leaf = [1, 2, 5, 10]"
   ]
  },
  {
   "cell_type": "code",
   "execution_count": 80,
   "metadata": {
    "id": "3kOAabZpM2H3"
   },
   "outputs": [
    {
     "name": "stdout",
     "output_type": "stream",
     "text": [
      "{'n_estimators': [100, 200, 300, 400, 500, 600, 700, 800, 900, 1000, 1100, 1200], 'max_features': ['auto', 'sqrt'], 'max_depth': [5, 10, 15, 20, 25, 30], 'min_samples_split': [2, 5, 10, 15, 100], 'min_samples_leaf': [1, 2, 5, 10]}\n"
     ]
    }
   ],
   "source": [
    "random_grid = {'n_estimators': n_estimators,\n",
    "               'max_features': max_features,\n",
    "               'max_depth': max_depth,\n",
    "               'min_samples_split': min_samples_split,\n",
    "               'min_samples_leaf': min_samples_leaf}\n",
    "\n",
    "print(random_grid)"
   ]
  },
  {
   "cell_type": "code",
   "execution_count": 81,
   "metadata": {
    "id": "5WwgzlYuM5wd"
   },
   "outputs": [],
   "source": [
    "from sklearn.ensemble import RandomForestClassifier\n",
    "rf = RandomForestClassifier()"
   ]
  },
  {
   "cell_type": "code",
   "execution_count": 82,
   "metadata": {
    "id": "h7eqjBcKM_9L"
   },
   "outputs": [],
   "source": [
    "# Use the random grid to search for best hyperparameters\n",
    "rf=RandomizedSearchCV(estimator = rf, param_distributions = random_grid,scoring='accuracy', n_iter = 10, cv = 5,n_jobs=-1)"
   ]
  },
  {
   "cell_type": "code",
   "execution_count": 83,
   "metadata": {
    "id": "6QvF3LWXNHl3"
   },
   "outputs": [
    {
     "name": "stderr",
     "output_type": "stream",
     "text": [
      "C:\\Users\\range\\anaconda3\\Lib\\site-packages\\sklearn\\model_selection\\_split.py:700: UserWarning: The least populated class in y has only 1 members, which is less than n_splits=5.\n",
      "  warnings.warn(\n"
     ]
    },
    {
     "data": {
      "text/html": [
       "<style>#sk-container-id-7 {color: black;background-color: white;}#sk-container-id-7 pre{padding: 0;}#sk-container-id-7 div.sk-toggleable {background-color: white;}#sk-container-id-7 label.sk-toggleable__label {cursor: pointer;display: block;width: 100%;margin-bottom: 0;padding: 0.3em;box-sizing: border-box;text-align: center;}#sk-container-id-7 label.sk-toggleable__label-arrow:before {content: \"▸\";float: left;margin-right: 0.25em;color: #696969;}#sk-container-id-7 label.sk-toggleable__label-arrow:hover:before {color: black;}#sk-container-id-7 div.sk-estimator:hover label.sk-toggleable__label-arrow:before {color: black;}#sk-container-id-7 div.sk-toggleable__content {max-height: 0;max-width: 0;overflow: hidden;text-align: left;background-color: #f0f8ff;}#sk-container-id-7 div.sk-toggleable__content pre {margin: 0.2em;color: black;border-radius: 0.25em;background-color: #f0f8ff;}#sk-container-id-7 input.sk-toggleable__control:checked~div.sk-toggleable__content {max-height: 200px;max-width: 100%;overflow: auto;}#sk-container-id-7 input.sk-toggleable__control:checked~label.sk-toggleable__label-arrow:before {content: \"▾\";}#sk-container-id-7 div.sk-estimator input.sk-toggleable__control:checked~label.sk-toggleable__label {background-color: #d4ebff;}#sk-container-id-7 div.sk-label input.sk-toggleable__control:checked~label.sk-toggleable__label {background-color: #d4ebff;}#sk-container-id-7 input.sk-hidden--visually {border: 0;clip: rect(1px 1px 1px 1px);clip: rect(1px, 1px, 1px, 1px);height: 1px;margin: -1px;overflow: hidden;padding: 0;position: absolute;width: 1px;}#sk-container-id-7 div.sk-estimator {font-family: monospace;background-color: #f0f8ff;border: 1px dotted black;border-radius: 0.25em;box-sizing: border-box;margin-bottom: 0.5em;}#sk-container-id-7 div.sk-estimator:hover {background-color: #d4ebff;}#sk-container-id-7 div.sk-parallel-item::after {content: \"\";width: 100%;border-bottom: 1px solid gray;flex-grow: 1;}#sk-container-id-7 div.sk-label:hover label.sk-toggleable__label {background-color: #d4ebff;}#sk-container-id-7 div.sk-serial::before {content: \"\";position: absolute;border-left: 1px solid gray;box-sizing: border-box;top: 0;bottom: 0;left: 50%;z-index: 0;}#sk-container-id-7 div.sk-serial {display: flex;flex-direction: column;align-items: center;background-color: white;padding-right: 0.2em;padding-left: 0.2em;position: relative;}#sk-container-id-7 div.sk-item {position: relative;z-index: 1;}#sk-container-id-7 div.sk-parallel {display: flex;align-items: stretch;justify-content: center;background-color: white;position: relative;}#sk-container-id-7 div.sk-item::before, #sk-container-id-7 div.sk-parallel-item::before {content: \"\";position: absolute;border-left: 1px solid gray;box-sizing: border-box;top: 0;bottom: 0;left: 50%;z-index: -1;}#sk-container-id-7 div.sk-parallel-item {display: flex;flex-direction: column;z-index: 1;position: relative;background-color: white;}#sk-container-id-7 div.sk-parallel-item:first-child::after {align-self: flex-end;width: 50%;}#sk-container-id-7 div.sk-parallel-item:last-child::after {align-self: flex-start;width: 50%;}#sk-container-id-7 div.sk-parallel-item:only-child::after {width: 0;}#sk-container-id-7 div.sk-dashed-wrapped {border: 1px dashed gray;margin: 0 0.4em 0.5em 0.4em;box-sizing: border-box;padding-bottom: 0.4em;background-color: white;}#sk-container-id-7 div.sk-label label {font-family: monospace;font-weight: bold;display: inline-block;line-height: 1.2em;}#sk-container-id-7 div.sk-label-container {text-align: center;}#sk-container-id-7 div.sk-container {/* jupyter's `normalize.less` sets `[hidden] { display: none; }` but bootstrap.min.css set `[hidden] { display: none !important; }` so we also need the `!important` here to be able to override the default hidden behavior on the sphinx rendered scikit-learn.org. See: https://github.com/scikit-learn/scikit-learn/issues/21755 */display: inline-block !important;position: relative;}#sk-container-id-7 div.sk-text-repr-fallback {display: none;}</style><div id=\"sk-container-id-7\" class=\"sk-top-container\"><div class=\"sk-text-repr-fallback\"><pre>RandomizedSearchCV(cv=5, estimator=RandomForestClassifier(), n_jobs=-1,\n",
       "                   param_distributions={&#x27;max_depth&#x27;: [5, 10, 15, 20, 25, 30],\n",
       "                                        &#x27;max_features&#x27;: [&#x27;auto&#x27;, &#x27;sqrt&#x27;],\n",
       "                                        &#x27;min_samples_leaf&#x27;: [1, 2, 5, 10],\n",
       "                                        &#x27;min_samples_split&#x27;: [2, 5, 10, 15,\n",
       "                                                              100],\n",
       "                                        &#x27;n_estimators&#x27;: [100, 200, 300, 400,\n",
       "                                                         500, 600, 700, 800,\n",
       "                                                         900, 1000, 1100,\n",
       "                                                         1200]},\n",
       "                   scoring=&#x27;accuracy&#x27;)</pre><b>In a Jupyter environment, please rerun this cell to show the HTML representation or trust the notebook. <br />On GitHub, the HTML representation is unable to render, please try loading this page with nbviewer.org.</b></div><div class=\"sk-container\" hidden><div class=\"sk-item sk-dashed-wrapped\"><div class=\"sk-label-container\"><div class=\"sk-label sk-toggleable\"><input class=\"sk-toggleable__control sk-hidden--visually\" id=\"sk-estimator-id-19\" type=\"checkbox\" ><label for=\"sk-estimator-id-19\" class=\"sk-toggleable__label sk-toggleable__label-arrow\">RandomizedSearchCV</label><div class=\"sk-toggleable__content\"><pre>RandomizedSearchCV(cv=5, estimator=RandomForestClassifier(), n_jobs=-1,\n",
       "                   param_distributions={&#x27;max_depth&#x27;: [5, 10, 15, 20, 25, 30],\n",
       "                                        &#x27;max_features&#x27;: [&#x27;auto&#x27;, &#x27;sqrt&#x27;],\n",
       "                                        &#x27;min_samples_leaf&#x27;: [1, 2, 5, 10],\n",
       "                                        &#x27;min_samples_split&#x27;: [2, 5, 10, 15,\n",
       "                                                              100],\n",
       "                                        &#x27;n_estimators&#x27;: [100, 200, 300, 400,\n",
       "                                                         500, 600, 700, 800,\n",
       "                                                         900, 1000, 1100,\n",
       "                                                         1200]},\n",
       "                   scoring=&#x27;accuracy&#x27;)</pre></div></div></div><div class=\"sk-parallel\"><div class=\"sk-parallel-item\"><div class=\"sk-item\"><div class=\"sk-label-container\"><div class=\"sk-label sk-toggleable\"><input class=\"sk-toggleable__control sk-hidden--visually\" id=\"sk-estimator-id-20\" type=\"checkbox\" ><label for=\"sk-estimator-id-20\" class=\"sk-toggleable__label sk-toggleable__label-arrow\">estimator: RandomForestClassifier</label><div class=\"sk-toggleable__content\"><pre>RandomForestClassifier()</pre></div></div></div><div class=\"sk-serial\"><div class=\"sk-item\"><div class=\"sk-estimator sk-toggleable\"><input class=\"sk-toggleable__control sk-hidden--visually\" id=\"sk-estimator-id-21\" type=\"checkbox\" ><label for=\"sk-estimator-id-21\" class=\"sk-toggleable__label sk-toggleable__label-arrow\">RandomForestClassifier</label><div class=\"sk-toggleable__content\"><pre>RandomForestClassifier()</pre></div></div></div></div></div></div></div></div></div></div>"
      ],
      "text/plain": [
       "RandomizedSearchCV(cv=5, estimator=RandomForestClassifier(), n_jobs=-1,\n",
       "                   param_distributions={'max_depth': [5, 10, 15, 20, 25, 30],\n",
       "                                        'max_features': ['auto', 'sqrt'],\n",
       "                                        'min_samples_leaf': [1, 2, 5, 10],\n",
       "                                        'min_samples_split': [2, 5, 10, 15,\n",
       "                                                              100],\n",
       "                                        'n_estimators': [100, 200, 300, 400,\n",
       "                                                         500, 600, 700, 800,\n",
       "                                                         900, 1000, 1100,\n",
       "                                                         1200]},\n",
       "                   scoring='accuracy')"
      ]
     },
     "execution_count": 83,
     "metadata": {},
     "output_type": "execute_result"
    }
   ],
   "source": [
    "rf.fit(X_train_tfidf, y_train)"
   ]
  },
  {
   "cell_type": "code",
   "execution_count": 84,
   "metadata": {
    "id": "JBavysZr-YLb"
   },
   "outputs": [
    {
     "data": {
      "text/plain": [
       "{'n_estimators': 1100,\n",
       " 'min_samples_split': 2,\n",
       " 'min_samples_leaf': 1,\n",
       " 'max_features': 'sqrt',\n",
       " 'max_depth': 20}"
      ]
     },
     "execution_count": 84,
     "metadata": {},
     "output_type": "execute_result"
    }
   ],
   "source": [
    "rf.best_params_"
   ]
  },
  {
   "cell_type": "code",
   "execution_count": 85,
   "metadata": {
    "id": "DV0oyoVS-caZ"
   },
   "outputs": [
    {
     "data": {
      "text/plain": [
       "0.7255520504731862"
      ]
     },
     "execution_count": 85,
     "metadata": {},
     "output_type": "execute_result"
    }
   ],
   "source": [
    "rf.best_score_"
   ]
  },
  {
   "cell_type": "code",
   "execution_count": null,
   "metadata": {
    "id": "p7Go5U14ETbP"
   },
   "outputs": [],
   "source": []
  }
 ],
 "metadata": {
  "colab": {
   "name": "Consumer Complaint Classification.ipynb",
   "provenance": []
  },
  "kernelspec": {
   "display_name": "Python 3 (ipykernel)",
   "language": "python",
   "name": "python3"
  },
  "language_info": {
   "codemirror_mode": {
    "name": "ipython",
    "version": 3
   },
   "file_extension": ".py",
   "mimetype": "text/x-python",
   "name": "python",
   "nbconvert_exporter": "python",
   "pygments_lexer": "ipython3",
   "version": "3.11.5"
  }
 },
 "nbformat": 4,
 "nbformat_minor": 1
}
