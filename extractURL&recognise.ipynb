{
 "cells": [
  {
   "cell_type": "code",
   "execution_count": 66,
   "id": "654ba757-083a-4b7e-9c2a-2d4eaf6afd15",
   "metadata": {},
   "outputs": [
    {
     "name": "stdout",
     "output_type": "stream",
     "text": [
      "Searching: ableton launchpad\n",
      "Searching: fabric dye kit\n",
      "Searching: wireless earbuds\n",
      "Searching: power bank\n",
      "Searching: tie dye kit\n",
      "Searching: Resin Art Kits\n",
      "Searching: Embroidery Kits\n",
      "Searching: DIY\n",
      "Searching: phone tripod\n",
      "Searching: paint markers\n",
      "Saved 50 product URLs to 'amazon_product_urls.csv'\n"
     ]
    }
   ],
   "source": [
    "import requests\n",
    "from bs4 import BeautifulSoup\n",
    "import pandas as pd\n",
    "import time\n",
    "import random\n",
    "\n",
    "HEADERS = {\n",
    "    \"User-Agent\": \"Mozilla/5.0 (Windows NT 10.0; Win64; x64)\",\n",
    "}\n",
    "\n",
    "# List of keywords/categories\n",
    "keywords = [\n",
    "    \"ableton launchpad\", \"fabric dye kit\", \"ear wrap\", \"jeans adjustable hook\", \"tie dye kit\",\n",
    "    \"mismatched shoes\", \"Embroidery Kits\", \"DIY\", \"patches\", \"clothing stamp\"\n",
    "]\n",
    "\n",
    "def get_amazon_urls(keyword, max_pages=2):\n",
    "    urls = []\n",
    "    for page in range(1, max_pages + 1):\n",
    "        search_url = f\"https://www.flipkart.com/s?k={keyword.replace(' ', '+')}&page={page}\"\n",
    "        response = requests.get(search_url, headers=HEADERS)\n",
    "        soup = BeautifulSoup(response.content, \"html.parser\")\n",
    "        for a_tag in soup.select(\"a.a-link-normal.s-no-outline\"):\n",
    "            href = a_tag.get(\"href\")\n",
    "            if href and \"/dp/\" in href:\n",
    "                full_url = \"https://www.flipkart.com\" + href.split(\"?\")[0]\n",
    "                if full_url not in urls:\n",
    "                    urls.append(full_url)\n",
    "        time.sleep(random.uniform(1, 2))  # Be polite\n",
    "    return urls\n",
    "\n",
    "# Collect URLs\n",
    "all_urls = []\n",
    "for keyword in keywords:\n",
    "    print(f\"Searching: {keyword}\")\n",
    "    urls = get_amazon_urls(keyword, max_pages=2)\n",
    "    all_urls.extend([{\"keyword\": keyword, \"url\": u} for u in urls])\n",
    "\n",
    "# Limit to 50\n",
    "all_urls = all_urls[:50]\n",
    "\n",
    "# Save to CSV\n",
    "df = pd.DataFrame(all_urls)\n",
    "df.to_csv(\"flip_product_urlsc.csv\", index=False)\n",
    "print(\"Saved 50 product URLs to 'amazon_product_urls.csv'\")\n"
   ]
  },
  {
   "cell_type": "code",
   "execution_count": 525,
   "id": "ab5c3375-c87a-489d-abce-d29298573f78",
   "metadata": {},
   "outputs": [],
   "source": [
    "#gathering various URL from ecommerce websites for random products from amazon ebay snapdeal so model dosent get biased"
   ]
  },
  {
   "cell_type": "code",
   "execution_count": 64,
   "id": "51fa575e-30a7-4d39-8d37-41234aebec38",
   "metadata": {},
   "outputs": [
    {
     "name": "stdout",
     "output_type": "stream",
     "text": [
      "🔎 Scraping: https://en.wikipedia.org/wiki/Llimoniella\n",
      "🔎 Scraping: https://en.wikipedia.org/wiki/Hazard_H._Sheldon_House\n",
      "🔎 Scraping: https://en.wikipedia.org/wiki/1998_Montana_Grizzlies_football_team\n",
      "🔎 Scraping: https://en.wikipedia.org/wiki/Erich_Gritzner\n",
      "🔎 Scraping: https://en.wikipedia.org/wiki/Glencree_German_war_cemetery\n",
      "🔎 Scraping: https://en.wikipedia.org/wiki/Schistophoron\n",
      "🔎 Scraping: https://en.wikipedia.org/wiki/Crescent_Porter_Hale\n",
      "🔎 Scraping: https://en.wikipedia.org/wiki/Sam_Mort\n",
      "🔎 Scraping: https://en.wikipedia.org/wiki/Juho_Kananen\n",
      "🔎 Scraping: https://en.wikipedia.org/wiki/Houghton_Bank\n",
      "🔎 Scraping: https://en.wikipedia.org/wiki/Kolp,_Vladimir_Oblast\n",
      "🔎 Scraping: https://en.wikipedia.org/wiki/Sam_Schachter\n",
      "🔎 Scraping: https://en.wikipedia.org/wiki/Bathampton_railway_station\n",
      "🔎 Scraping: https://en.wikipedia.org/wiki/Kansas_State_Wildcats_football\n",
      "🔎 Scraping: https://en.wikipedia.org/wiki/Ph%C3%BA_Hi%E1%BB%87p,_An_Giang\n",
      "🔎 Scraping: https://en.wikipedia.org/wiki/Podawce\n",
      "🔎 Scraping: https://en.wikipedia.org/wiki/Yevgeni_Staver\n",
      "🔎 Scraping: https://en.wikipedia.org/wiki/Ollis\n",
      "🔎 Scraping: https://en.wikipedia.org/wiki/Platysmacheilus\n",
      "🔎 Scraping: https://en.wikipedia.org/wiki/Solithromycin\n",
      "🔎 Scraping: https://en.wikipedia.org/wiki/Zeng%C5%91v%C3%A1rkony\n",
      "🔎 Scraping: https://en.wikipedia.org/wiki/Tokomanawa_Queens\n",
      "🔎 Scraping: https://en.wikipedia.org/wiki/Alboglossiphonia\n",
      "🔎 Scraping: https://en.wikipedia.org/wiki/Cumulonimbus_flammagenitus\n",
      "🔎 Scraping: https://en.wikipedia.org/wiki/Bihuroazu_Kamanaa_Mosque\n",
      "🔎 Scraping: https://en.wikipedia.org/wiki/Yung_L\n",
      "🔎 Scraping: https://en.wikipedia.org/wiki/El_Chorrillo\n",
      "🔎 Scraping: https://en.wikipedia.org/wiki/D%C4%B1%C5%9Fkaya,_U%C5%9Fak\n",
      "🔎 Scraping: https://en.wikipedia.org/wiki/List_of_Soviet_films_of_1956\n",
      "🔎 Scraping: https://en.wikipedia.org/wiki/Maryam_Lustberg\n",
      "🔎 Scraping: https://en.wikipedia.org/wiki/Mimudea_haematalis\n",
      "🔎 Scraping: https://en.wikipedia.org/wiki/Fernando_Climent\n",
      "🔎 Scraping: https://en.wikipedia.org/wiki/Titletown_District\n",
      "🔎 Scraping: https://en.wikipedia.org/wiki/33rd_Oklahoma_Legislature\n",
      "🔎 Scraping: https://en.wikipedia.org/wiki/George_Palao\n",
      "🔎 Scraping: https://en.wikipedia.org/wiki/Shea_Whigham\n",
      "🔎 Scraping: https://en.wikipedia.org/wiki/MINOS\n",
      "✅ Done: Saved 500 reference URLs to wikipedia_reference_urls.csv\n"
     ]
    }
   ],
   "source": [
    "import requests\n",
    "from bs4 import BeautifulSoup\n",
    "import pandas as pd\n",
    "import time\n",
    "import random\n",
    "\n",
    "BASE_URL = \"https://en.wikipedia.org/wiki/Special:Random\"\n",
    "HEADERS = {\"User-Agent\": \"Mozilla/5.0\"}\n",
    "\n",
    "def get_reference_urls_from_page(url):\n",
    "    try:\n",
    "        res = requests.get(url, headers=HEADERS, timeout=10)\n",
    "        soup = BeautifulSoup(res.text, \"html.parser\")\n",
    "        refs = set()\n",
    "        for cite in soup.select(\"cite a.external, li[id^='cite_note'] a.external\"):\n",
    "            href = cite.get(\"href\")\n",
    "            if href and href.startswith(\"http\"):\n",
    "                refs.add(href)\n",
    "        return refs\n",
    "    except Exception as e:\n",
    "        print(f\"❌ Error on {url}: {e}\")\n",
    "        return set()\n",
    "\n",
    "# Main loop to collect references\n",
    "collected_refs = set()\n",
    "attempts = 0\n",
    "\n",
    "while len(collected_refs) < 500 and attempts < 2000:\n",
    "    attempts += 1\n",
    "    try:\n",
    "        r = requests.get(BASE_URL, headers=HEADERS, allow_redirects=True, timeout=10)\n",
    "        real_url = r.url\n",
    "        print(f\"🔎 Scraping: {real_url}\")\n",
    "        refs = get_reference_urls_from_page(real_url)\n",
    "        collected_refs.update(refs)\n",
    "    except Exception as e:\n",
    "        print(f\"Error: {e}\")\n",
    "    time.sleep(random.uniform(0.8, 1.5))\n",
    "\n",
    "# Save to CSV\n",
    "final_refs = list(collected_refs)[:500]\n",
    "df = pd.DataFrame(final_refs, columns=[\"reference_url\"])\n",
    "df.to_csv(\"wikipedia_reference_urls.csv\", index=False)\n",
    "print(\"✅ Done: Saved 500 reference URLs to wikipedia_reference_urls.csv\")\n"
   ]
  },
  {
   "cell_type": "code",
   "execution_count": null,
   "id": "6f457a40-35e5-493b-8a70-25e823001a16",
   "metadata": {},
   "outputs": [],
   "source": [
    "#collected random url so same number 500 for ecommerce and 500 others"
   ]
  },
  {
   "cell_type": "code",
   "execution_count": 27,
   "id": "22215951-4d8e-449a-9821-ef44bcc5a855",
   "metadata": {},
   "outputs": [],
   "source": [
    "urls8 = urls8.assign(keyword='others')"
   ]
  },
  {
   "cell_type": "code",
   "execution_count": 3,
   "id": "d857f1ff-e55e-41c5-8bea-8ca0085f2775",
   "metadata": {},
   "outputs": [],
   "source": [
    "import pandas as pd\n",
    "#link=pd.concat(fm)"
   ]
  },
  {
   "cell_type": "code",
   "execution_count": 73,
   "id": "c969a4da-7906-4a58-b08b-db7e8a2d8e10",
   "metadata": {},
   "outputs": [],
   "source": [
    "urls5 = urls5.rename(columns={'url': 'URL','name':'keyword'})"
   ]
  },
  {
   "cell_type": "code",
   "execution_count": 85,
   "id": "2dba3c2f-4cb8-481e-b87d-a9f1690ed5ff",
   "metadata": {},
   "outputs": [],
   "source": [
    "urls4['keyword'] = urls4['product_url'].apply(lambda x: x.rstrip('/').split('/')[-1])\n"
   ]
  },
  {
   "cell_type": "code",
   "execution_count": 81,
   "id": "bc34fb7f-0284-48be-be5f-e3be0303b904",
   "metadata": {},
   "outputs": [],
   "source": [
    "frames=[urls1,urls2,urls3,urls4,urls5,urls8]\n",
    "finaldf = pd.concat(frames)"
   ]
  },
  {
   "cell_type": "code",
   "execution_count": 83,
   "id": "c1401eb0-c35c-44d2-a639-9e8c38e2c553",
   "metadata": {},
   "outputs": [
    {
     "data": {
      "text/html": [
       "<div>\n",
       "<style scoped>\n",
       "    .dataframe tbody tr th:only-of-type {\n",
       "        vertical-align: middle;\n",
       "    }\n",
       "\n",
       "    .dataframe tbody tr th {\n",
       "        vertical-align: top;\n",
       "    }\n",
       "\n",
       "    .dataframe thead th {\n",
       "        text-align: right;\n",
       "    }\n",
       "</style>\n",
       "<table border=\"1\" class=\"dataframe\">\n",
       "  <thead>\n",
       "    <tr style=\"text-align: right;\">\n",
       "      <th></th>\n",
       "      <th>keyword</th>\n",
       "      <th>URL</th>\n",
       "    </tr>\n",
       "  </thead>\n",
       "  <tbody>\n",
       "    <tr>\n",
       "      <th>0</th>\n",
       "      <td>travel mug</td>\n",
       "      <td>https://amazon.in/Borosil-Hydra-Stainless-Stee...</td>\n",
       "    </tr>\n",
       "    <tr>\n",
       "      <th>1</th>\n",
       "      <td>travel mug</td>\n",
       "      <td>https://amazon.in/Tlater-Insulated-Leakproof-R...</td>\n",
       "    </tr>\n",
       "    <tr>\n",
       "      <th>2</th>\n",
       "      <td>travel mug</td>\n",
       "      <td>https://amazon.in/XMART-INDIA-Insulated-Coffee...</td>\n",
       "    </tr>\n",
       "    <tr>\n",
       "      <th>3</th>\n",
       "      <td>travel mug</td>\n",
       "      <td>https://amazon.in/Wosta-Insulated-Fat-Bottomed...</td>\n",
       "    </tr>\n",
       "    <tr>\n",
       "      <th>4</th>\n",
       "      <td>travel mug</td>\n",
       "      <td>https://amazon.in/Wosta-Insulated-Leakproof-In...</td>\n",
       "    </tr>\n",
       "    <tr>\n",
       "      <th>...</th>\n",
       "      <td>...</td>\n",
       "      <td>...</td>\n",
       "    </tr>\n",
       "    <tr>\n",
       "      <th>495</th>\n",
       "      <td>others</td>\n",
       "      <td>https://www.newspapers.com/article/great-falls...</td>\n",
       "    </tr>\n",
       "    <tr>\n",
       "      <th>496</th>\n",
       "      <td>others</td>\n",
       "      <td>https://heartofasia.af/unicef-13m-afghan-child...</td>\n",
       "    </tr>\n",
       "    <tr>\n",
       "      <th>497</th>\n",
       "      <td>others</td>\n",
       "      <td>https://olympics.com/en/athletes/fay-moulton</td>\n",
       "    </tr>\n",
       "    <tr>\n",
       "      <th>498</th>\n",
       "      <td>others</td>\n",
       "      <td>http://www.cempra.com/research/antibacterials/</td>\n",
       "    </tr>\n",
       "    <tr>\n",
       "      <th>499</th>\n",
       "      <td>others</td>\n",
       "      <td>https://ui.adsabs.harvard.edu/abs/2000GeoRL..2...</td>\n",
       "    </tr>\n",
       "  </tbody>\n",
       "</table>\n",
       "<p>1000 rows × 2 columns</p>\n",
       "</div>"
      ],
      "text/plain": [
       "        keyword                                                URL\n",
       "0    travel mug  https://amazon.in/Borosil-Hydra-Stainless-Stee...\n",
       "1    travel mug  https://amazon.in/Tlater-Insulated-Leakproof-R...\n",
       "2    travel mug  https://amazon.in/XMART-INDIA-Insulated-Coffee...\n",
       "3    travel mug  https://amazon.in/Wosta-Insulated-Fat-Bottomed...\n",
       "4    travel mug  https://amazon.in/Wosta-Insulated-Leakproof-In...\n",
       "..          ...                                                ...\n",
       "495      others  https://www.newspapers.com/article/great-falls...\n",
       "496      others  https://heartofasia.af/unicef-13m-afghan-child...\n",
       "497      others       https://olympics.com/en/athletes/fay-moulton\n",
       "498      others     http://www.cempra.com/research/antibacterials/\n",
       "499      others  https://ui.adsabs.harvard.edu/abs/2000GeoRL..2...\n",
       "\n",
       "[1000 rows x 2 columns]"
      ]
     },
     "execution_count": 83,
     "metadata": {},
     "output_type": "execute_result"
    }
   ],
   "source": [
    "finaldf"
   ]
  },
  {
   "cell_type": "code",
   "execution_count": null,
   "id": "89c8ac22-3e3e-4d5e-89e5-ac9c6655efed",
   "metadata": {},
   "outputs": [],
   "source": [
    "#final DF in which we will work in"
   ]
  },
  {
   "cell_type": "code",
   "execution_count": 87,
   "id": "00c25e98-6ddb-4eef-b0ee-c950fa64a069",
   "metadata": {},
   "outputs": [],
   "source": [
    "finaldf['URL'] = finaldf['URL'].str.replace(\" \", \"\")"
   ]
  },
  {
   "cell_type": "code",
   "execution_count": 101,
   "id": "ff70f937-b0e4-429f-90e1-ac82087b740d",
   "metadata": {},
   "outputs": [
    {
     "data": {
      "text/plain": [
       "keyword\n",
       "others                                                                        500\n",
       "Air Fresheners                                                                 96\n",
       "fabric dye kit                                                                 70\n",
       "travel mug                                                                     50\n",
       "ableton launchpad                                                              30\n",
       "                                                                             ... \n",
       "Forbro - Maroon Nylon Regular Fit Men's Windcheater Jacket ( Pack of 1 )        1\n",
       "Forbro - Olive Nylon Regular Fit Men's Windcheater Jacket ( Pack of 1 )         1\n",
       "Uzarus - Cotton Blend Relaxed Fit Maroon Men's Casual Jacket ( Pack of 1 )      1\n",
       "srp tiger USB PENDRIVE 128GB Pen Drive ( 128GB )                                1\n",
       "ASIAN THUNDER-07 Beige Men's Sneakers                                           1\n",
       "Name: count, Length: 244, dtype: int64"
      ]
     },
     "execution_count": 101,
     "metadata": {},
     "output_type": "execute_result"
    }
   ],
   "source": [
    "finaldf['keyword'].value_counts()\n"
   ]
  },
  {
   "cell_type": "code",
   "execution_count": 25,
   "id": "a8faadfe-f328-4c93-a487-fb6a162adf38",
   "metadata": {},
   "outputs": [
    {
     "name": "stdout",
     "output_type": "stream",
     "text": [
      "                                               keyword  \\\n",
      "0                 Borosil-Hydra-Stainless-Steel-Bottle   \n",
      "1        Tlater-Insulated-Leakproof-Reusable-Stainless   \n",
      "2                     XMART-INDIA-Insulated-Coffee-Mug   \n",
      "3              Wosta-Insulated-Fat-Bottomed-Blue-Color   \n",
      "4           Wosta-Insulated-Leakproof-Insulation-Black   \n",
      "..                                                 ...   \n",
      "995            great-falls-tribune-s-utah-cannon-stuns   \n",
      "996  unicef-13m-afghan-children-in-in-dire-need-of-aid   \n",
      "997                                        fay-moulton   \n",
      "998                                     antibacterials   \n",
      "999                                2000GeoRL..27.1407F   \n",
      "\n",
      "                                                   URL                website  \n",
      "0    https://amazon.in/Borosil-Hydra-Stainless-Stee...              amazon.in  \n",
      "1    https://amazon.in/Tlater-Insulated-Leakproof-R...              amazon.in  \n",
      "2    https://amazon.in/XMART-INDIA-Insulated-Coffee...              amazon.in  \n",
      "3    https://amazon.in/Wosta-Insulated-Fat-Bottomed...              amazon.in  \n",
      "4    https://amazon.in/Wosta-Insulated-Leakproof-In...              amazon.in  \n",
      "..                                                 ...                    ...  \n",
      "995  https://www.newspapers.com/article/great-falls...         newspapers.com  \n",
      "996  https://heartofasia.af/unicef-13m-afghan-child...         heartofasia.af  \n",
      "997       https://olympics.com/en/athletes/fay-moulton           olympics.com  \n",
      "998     http://www.cempra.com/research/antibacterials/             cempra.com  \n",
      "999  https://ui.adsabs.harvard.edu/abs/2000GeoRL..2...  ui.adsabs.harvard.edu  \n",
      "\n",
      "[1000 rows x 3 columns]\n"
     ]
    }
   ],
   "source": [
    "import pandas as pd\n",
    "from urllib.parse import urlparse, unquote\n",
    "import re\n",
    "\n",
    "\n",
    "\n",
    "# Step 1: Strip spaces, drop blanks or non-http URLs\n",
    "url['URL'] = url['URL'].astype(str).str.strip()\n",
    "url = url[url['URL'].str.startswith(('http://', 'https://'))]\n",
    "\n",
    "# Step 2: Parse domain and product keyword\n",
    "def extract_info(link):\n",
    "    try:\n",
    "        parsed = urlparse(link)\n",
    "        domain = parsed.netloc.replace('www.', '')  # clean domain\n",
    "        path = unquote(parsed.path)  # decode URL-encoded parts\n",
    "        # Extract product keyword: usually the longest segment in path\n",
    "        product_candidates = [seg for seg in path.split('/') if seg and not re.search(r'[\\d]{5,}', seg)]\n",
    "        product = max(product_candidates, key=len) if product_candidates else None\n",
    "        return pd.Series([domain, product])\n",
    "    except:\n",
    "        return pd.Series([None, None])\n",
    "\n",
    "url[['website', 'keyword']] = url['URL'].apply(extract_info)\n",
    "\n",
    "# Final cleaned DataFrame\n",
    "url.reset_index(drop=True, inplace=True)\n",
    "print(url)\n"
   ]
  },
  {
   "cell_type": "code",
   "execution_count": 527,
   "id": "ba11aca1-ae85-4b76-955e-eef25c08502c",
   "metadata": {},
   "outputs": [],
   "source": [
    "#Lets cleanthe data"
   ]
  },
  {
   "cell_type": "code",
   "execution_count": 141,
   "id": "c0eea39f-24dd-45bd-a153-bdd156197aa7",
   "metadata": {},
   "outputs": [
    {
     "data": {
      "text/html": [
       "<div>\n",
       "<style scoped>\n",
       "    .dataframe tbody tr th:only-of-type {\n",
       "        vertical-align: middle;\n",
       "    }\n",
       "\n",
       "    .dataframe tbody tr th {\n",
       "        vertical-align: top;\n",
       "    }\n",
       "\n",
       "    .dataframe thead th {\n",
       "        text-align: right;\n",
       "    }\n",
       "</style>\n",
       "<table border=\"1\" class=\"dataframe\">\n",
       "  <thead>\n",
       "    <tr style=\"text-align: right;\">\n",
       "      <th></th>\n",
       "      <th>keyword</th>\n",
       "      <th>URL</th>\n",
       "      <th>website</th>\n",
       "    </tr>\n",
       "  </thead>\n",
       "  <tbody>\n",
       "    <tr>\n",
       "      <th>0</th>\n",
       "      <td>Borosil-Hydra-Stainless-Steel-Bottle</td>\n",
       "      <td>https://amazon.in/Borosil-Hydra-Stainless-Stee...</td>\n",
       "      <td>amazon.in</td>\n",
       "    </tr>\n",
       "    <tr>\n",
       "      <th>1</th>\n",
       "      <td>Tlater-Insulated-Leakproof-Reusable-Stainless</td>\n",
       "      <td>https://amazon.in/Tlater-Insulated-Leakproof-R...</td>\n",
       "      <td>amazon.in</td>\n",
       "    </tr>\n",
       "    <tr>\n",
       "      <th>2</th>\n",
       "      <td>XMART-INDIA-Insulated-Coffee-Mug</td>\n",
       "      <td>https://amazon.in/XMART-INDIA-Insulated-Coffee...</td>\n",
       "      <td>amazon.in</td>\n",
       "    </tr>\n",
       "    <tr>\n",
       "      <th>3</th>\n",
       "      <td>Wosta-Insulated-Fat-Bottomed-Blue-Color</td>\n",
       "      <td>https://amazon.in/Wosta-Insulated-Fat-Bottomed...</td>\n",
       "      <td>amazon.in</td>\n",
       "    </tr>\n",
       "    <tr>\n",
       "      <th>4</th>\n",
       "      <td>Wosta-Insulated-Leakproof-Insulation-Black</td>\n",
       "      <td>https://amazon.in/Wosta-Insulated-Leakproof-In...</td>\n",
       "      <td>amazon.in</td>\n",
       "    </tr>\n",
       "  </tbody>\n",
       "</table>\n",
       "</div>"
      ],
      "text/plain": [
       "                                         keyword  \\\n",
       "0           Borosil-Hydra-Stainless-Steel-Bottle   \n",
       "1  Tlater-Insulated-Leakproof-Reusable-Stainless   \n",
       "2               XMART-INDIA-Insulated-Coffee-Mug   \n",
       "3        Wosta-Insulated-Fat-Bottomed-Blue-Color   \n",
       "4     Wosta-Insulated-Leakproof-Insulation-Black   \n",
       "\n",
       "                                                 URL    website  \n",
       "0  https://amazon.in/Borosil-Hydra-Stainless-Stee...  amazon.in  \n",
       "1  https://amazon.in/Tlater-Insulated-Leakproof-R...  amazon.in  \n",
       "2  https://amazon.in/XMART-INDIA-Insulated-Coffee...  amazon.in  \n",
       "3  https://amazon.in/Wosta-Insulated-Fat-Bottomed...  amazon.in  \n",
       "4  https://amazon.in/Wosta-Insulated-Leakproof-In...  amazon.in  "
      ]
     },
     "execution_count": 141,
     "metadata": {},
     "output_type": "execute_result"
    }
   ],
   "source": [
    "url.head()"
   ]
  },
  {
   "cell_type": "code",
   "execution_count": 143,
   "id": "76c821cd-b147-423e-b92d-66e415417284",
   "metadata": {},
   "outputs": [
    {
     "data": {
      "text/html": [
       "<div>\n",
       "<style scoped>\n",
       "    .dataframe tbody tr th:only-of-type {\n",
       "        vertical-align: middle;\n",
       "    }\n",
       "\n",
       "    .dataframe tbody tr th {\n",
       "        vertical-align: top;\n",
       "    }\n",
       "\n",
       "    .dataframe thead th {\n",
       "        text-align: right;\n",
       "    }\n",
       "</style>\n",
       "<table border=\"1\" class=\"dataframe\">\n",
       "  <thead>\n",
       "    <tr style=\"text-align: right;\">\n",
       "      <th></th>\n",
       "      <th>keyword</th>\n",
       "      <th>URL</th>\n",
       "      <th>website</th>\n",
       "    </tr>\n",
       "  </thead>\n",
       "  <tbody>\n",
       "    <tr>\n",
       "      <th>0</th>\n",
       "      <td>borosil hydra stainless steel bottle</td>\n",
       "      <td>https://amazon.in/Borosil-Hydra-Stainless-Stee...</td>\n",
       "      <td>amazon.in</td>\n",
       "    </tr>\n",
       "    <tr>\n",
       "      <th>1</th>\n",
       "      <td>tlater insulated leakproof reusable stainless</td>\n",
       "      <td>https://amazon.in/Tlater-Insulated-Leakproof-R...</td>\n",
       "      <td>amazon.in</td>\n",
       "    </tr>\n",
       "    <tr>\n",
       "      <th>2</th>\n",
       "      <td>xmart india insulated coffee mug</td>\n",
       "      <td>https://amazon.in/XMART-INDIA-Insulated-Coffee...</td>\n",
       "      <td>amazon.in</td>\n",
       "    </tr>\n",
       "    <tr>\n",
       "      <th>3</th>\n",
       "      <td>wosta insulated fat bottomed blue color</td>\n",
       "      <td>https://amazon.in/Wosta-Insulated-Fat-Bottomed...</td>\n",
       "      <td>amazon.in</td>\n",
       "    </tr>\n",
       "    <tr>\n",
       "      <th>4</th>\n",
       "      <td>wosta insulated leakproof insulation black</td>\n",
       "      <td>https://amazon.in/Wosta-Insulated-Leakproof-In...</td>\n",
       "      <td>amazon.in</td>\n",
       "    </tr>\n",
       "  </tbody>\n",
       "</table>\n",
       "</div>"
      ],
      "text/plain": [
       "                                         keyword  \\\n",
       "0           borosil hydra stainless steel bottle   \n",
       "1  tlater insulated leakproof reusable stainless   \n",
       "2               xmart india insulated coffee mug   \n",
       "3        wosta insulated fat bottomed blue color   \n",
       "4     wosta insulated leakproof insulation black   \n",
       "\n",
       "                                                 URL    website  \n",
       "0  https://amazon.in/Borosil-Hydra-Stainless-Stee...  amazon.in  \n",
       "1  https://amazon.in/Tlater-Insulated-Leakproof-R...  amazon.in  \n",
       "2  https://amazon.in/XMART-INDIA-Insulated-Coffee...  amazon.in  \n",
       "3  https://amazon.in/Wosta-Insulated-Fat-Bottomed...  amazon.in  \n",
       "4  https://amazon.in/Wosta-Insulated-Leakproof-In...  amazon.in  "
      ]
     },
     "execution_count": 143,
     "metadata": {},
     "output_type": "execute_result"
    }
   ],
   "source": [
    "url['keyword'] = url['keyword'].apply(clean_text)\n",
    "url.head()"
   ]
  },
  {
   "cell_type": "code",
   "execution_count": 21,
   "id": "f9905c6c-c025-488c-96b4-cda9cfe6c49b",
   "metadata": {},
   "outputs": [
    {
     "name": "stderr",
     "output_type": "stream",
     "text": [
      "[nltk_data] Downloading package stopwords to\n",
      "[nltk_data]     C:\\Users\\range\\AppData\\Roaming\\nltk_data...\n",
      "[nltk_data]   Package stopwords is already up-to-date!\n"
     ]
    },
    {
     "data": {
      "text/plain": [
       "True"
      ]
     },
     "execution_count": 21,
     "metadata": {},
     "output_type": "execute_result"
    }
   ],
   "source": [
    "#import re\n",
    "#import nltk\n",
    "nltk.download('stopwords')"
   ]
  },
  {
   "cell_type": "code",
   "execution_count": 19,
   "id": "113383c9-28c0-4b8e-b8de-657da75e642f",
   "metadata": {},
   "outputs": [],
   "source": [
    "import string\n"
   ]
  },
  {
   "cell_type": "code",
   "execution_count": 37,
   "id": "69516038-3a8c-4912-a9cc-307bdb18dc6c",
   "metadata": {},
   "outputs": [
    {
     "ename": "NameError",
     "evalue": "name 'stopwords' is not defined",
     "output_type": "error",
     "traceback": [
      "\u001b[1;31m---------------------------------------------------------------------------\u001b[0m",
      "\u001b[1;31mNameError\u001b[0m                                 Traceback (most recent call last)",
      "Cell \u001b[1;32mIn[37], line 1\u001b[0m\n\u001b[1;32m----> 1\u001b[0m stop_words \u001b[38;5;241m=\u001b[39m stopwords\u001b[38;5;241m.\u001b[39mwords(\u001b[38;5;124m'\u001b[39m\u001b[38;5;124menglish\u001b[39m\u001b[38;5;124m'\u001b[39m)\n\u001b[0;32m      2\u001b[0m more_stopwords \u001b[38;5;241m=\u001b[39m [\u001b[38;5;124m'\u001b[39m\u001b[38;5;124mu\u001b[39m\u001b[38;5;124m'\u001b[39m, \u001b[38;5;124m'\u001b[39m\u001b[38;5;124mim\u001b[39m\u001b[38;5;124m'\u001b[39m, \u001b[38;5;124m'\u001b[39m\u001b[38;5;124mc\u001b[39m\u001b[38;5;124m'\u001b[39m]\n\u001b[0;32m      3\u001b[0m stop_words \u001b[38;5;241m=\u001b[39m stop_words \u001b[38;5;241m+\u001b[39m more_stopwords\n",
      "\u001b[1;31mNameError\u001b[0m: name 'stopwords' is not defined"
     ]
    }
   ],
   "source": [
    "stop_words = stopwords.words('english')\n",
    "more_stopwords = ['u', 'im', 'c']\n",
    "stop_words = stop_words + more_stopwords\n",
    "\n",
    "def remove_stopwords(text):\n",
    "    text = ' '.join(word for word in text.split(' ') if word not in stop_words)\n",
    "    return text\n",
    "    \n",
    "url['keyword'] = url['keyword'].apply(remove_stopwords)\n",
    "url.head()"
   ]
  },
  {
   "cell_type": "code",
   "execution_count": 39,
   "id": "8a055156-10b5-4229-a8d4-7d3b676f0525",
   "metadata": {},
   "outputs": [],
   "source": [
    "stemmer = nltk.SnowballStemmer(\"english\")\n",
    "\n",
    "def stemm_text(text):\n",
    "    text = ' '.join(stemmer.stem(word) for word in text.split(' '))\n",
    "    return text"
   ]
  },
  {
   "cell_type": "code",
   "execution_count": 151,
   "id": "8a698276-2664-403e-8b64-0ed67582297d",
   "metadata": {},
   "outputs": [
    {
     "data": {
      "text/html": [
       "<div>\n",
       "<style scoped>\n",
       "    .dataframe tbody tr th:only-of-type {\n",
       "        vertical-align: middle;\n",
       "    }\n",
       "\n",
       "    .dataframe tbody tr th {\n",
       "        vertical-align: top;\n",
       "    }\n",
       "\n",
       "    .dataframe thead th {\n",
       "        text-align: right;\n",
       "    }\n",
       "</style>\n",
       "<table border=\"1\" class=\"dataframe\">\n",
       "  <thead>\n",
       "    <tr style=\"text-align: right;\">\n",
       "      <th></th>\n",
       "      <th>keyword</th>\n",
       "      <th>URL</th>\n",
       "      <th>website</th>\n",
       "    </tr>\n",
       "  </thead>\n",
       "  <tbody>\n",
       "    <tr>\n",
       "      <th>0</th>\n",
       "      <td>borosil hydra stainless steel bottl</td>\n",
       "      <td>https://amazon.in/Borosil-Hydra-Stainless-Stee...</td>\n",
       "      <td>amazon.in</td>\n",
       "    </tr>\n",
       "    <tr>\n",
       "      <th>1</th>\n",
       "      <td>tlater insul leakproof reusabl stainless</td>\n",
       "      <td>https://amazon.in/Tlater-Insulated-Leakproof-R...</td>\n",
       "      <td>amazon.in</td>\n",
       "    </tr>\n",
       "    <tr>\n",
       "      <th>2</th>\n",
       "      <td>xmart india insul coffe mug</td>\n",
       "      <td>https://amazon.in/XMART-INDIA-Insulated-Coffee...</td>\n",
       "      <td>amazon.in</td>\n",
       "    </tr>\n",
       "    <tr>\n",
       "      <th>3</th>\n",
       "      <td>wosta insul fat bottom blue color</td>\n",
       "      <td>https://amazon.in/Wosta-Insulated-Fat-Bottomed...</td>\n",
       "      <td>amazon.in</td>\n",
       "    </tr>\n",
       "    <tr>\n",
       "      <th>4</th>\n",
       "      <td>wosta insul leakproof insul black</td>\n",
       "      <td>https://amazon.in/Wosta-Insulated-Leakproof-In...</td>\n",
       "      <td>amazon.in</td>\n",
       "    </tr>\n",
       "  </tbody>\n",
       "</table>\n",
       "</div>"
      ],
      "text/plain": [
       "                                    keyword  \\\n",
       "0       borosil hydra stainless steel bottl   \n",
       "1  tlater insul leakproof reusabl stainless   \n",
       "2               xmart india insul coffe mug   \n",
       "3         wosta insul fat bottom blue color   \n",
       "4         wosta insul leakproof insul black   \n",
       "\n",
       "                                                 URL    website  \n",
       "0  https://amazon.in/Borosil-Hydra-Stainless-Stee...  amazon.in  \n",
       "1  https://amazon.in/Tlater-Insulated-Leakproof-R...  amazon.in  \n",
       "2  https://amazon.in/XMART-INDIA-Insulated-Coffee...  amazon.in  \n",
       "3  https://amazon.in/Wosta-Insulated-Fat-Bottomed...  amazon.in  \n",
       "4  https://amazon.in/Wosta-Insulated-Leakproof-In...  amazon.in  "
      ]
     },
     "execution_count": 151,
     "metadata": {},
     "output_type": "execute_result"
    }
   ],
   "source": [
    "url['keyword'] = url['keyword'].apply(stemm_text)\n",
    "url.head()"
   ]
  },
  {
   "cell_type": "code",
   "execution_count": 61,
   "id": "e43534b3-58b2-47e6-91d1-0542fb1f4cdf",
   "metadata": {},
   "outputs": [
    {
     "name": "stderr",
     "output_type": "stream",
     "text": [
      "C:\\Users\\range\\AppData\\Local\\Temp\\ipykernel_24276\\160417360.py:1: FutureWarning: A value is trying to be set on a copy of a DataFrame or Series through chained assignment using an inplace method.\n",
      "The behavior will change in pandas 3.0. This inplace method will never work because the intermediate object on which we are setting values always behaves as a copy.\n",
      "\n",
      "For example, when doing 'df[col].method(value, inplace=True)', try using 'df.method({col: value}, inplace=True)' or df[col] = df[col].method(value) instead, to perform the operation inplace on the original object.\n",
      "\n",
      "\n",
      "  url['website'].replace(\n"
     ]
    }
   ],
   "source": [
    "url['website'].replace(\n",
    "    to_replace=['amazon.in', 'snapdeal.comhttps:', 'ebay.com'],\n",
    "    value='ecom',\n",
    "    inplace=True\n",
    ")"
   ]
  },
  {
   "cell_type": "code",
   "execution_count": 163,
   "id": "2c26d145-37f4-4139-8342-b54bfb59000c",
   "metadata": {},
   "outputs": [],
   "source": [
    "url.loc[url['website'] != 'ecom', 'website'] = 'other'\n"
   ]
  },
  {
   "cell_type": "code",
   "execution_count": 17,
   "id": "2f6cd1db-2c40-40d8-8db0-88426b5e1d40",
   "metadata": {},
   "outputs": [
    {
     "name": "stdout",
     "output_type": "stream",
     "text": [
      "\u001b[1m\u001b[45;1m The First 5 Texts after Tokenizing:\u001b[0m\n",
      "['borosil', 'hydra', 'stainless', 'steel', 'bottl']\n",
      "['tlater', 'insul', 'leakproof', 'reusabl', 'stainless']\n",
      "['xmart', 'india', 'insul', 'coffe', 'mug']\n",
      "['wosta', 'insul', 'fat', 'bottom', 'blue', 'color']\n",
      "['wosta', 'insul', 'leakproof', 'insul', 'black']\n"
     ]
    }
   ],
   "source": [
    "df[\"Tokenize_Text\"]=df.apply(lambda row: nltk.word_tokenize(row[\"keyword\"]), axis=1)\n",
    "\n",
    "print(\"\\033[1m\\u001b[45;1m The First 5 Texts after Tokenizing:\\033[0m\",*df[\"Tokenize_Text\"][:5], sep = \"\\n\")"
   ]
  },
  {
   "cell_type": "code",
   "execution_count": 15,
   "id": "cedcd540-255c-4409-954e-f83ae945c41a",
   "metadata": {},
   "outputs": [
    {
     "name": "stderr",
     "output_type": "stream",
     "text": [
      "[nltk_data] Downloading package punkt_tab to\n",
      "[nltk_data]     C:\\Users\\range\\AppData\\Roaming\\nltk_data...\n",
      "[nltk_data]   Unzipping tokenizers\\punkt_tab.zip.\n"
     ]
    },
    {
     "data": {
      "text/plain": [
       "True"
      ]
     },
     "execution_count": 15,
     "metadata": {},
     "output_type": "execute_result"
    }
   ],
   "source": [
    "nltk.download('punkt_tab')"
   ]
  },
  {
   "cell_type": "code",
   "execution_count": 27,
   "id": "404afa6e-b843-472e-bc23-0e97a47b9a90",
   "metadata": {},
   "outputs": [
    {
     "name": "stdout",
     "output_type": "stream",
     "text": [
      "\u001b[1m\u001b[45;1m The First 5 Texts after removing the stopwords:\u001b[0m\n",
      "['borosil', 'hydra', 'stainless', 'steel', 'bottl']\n",
      "['tlater', 'insul', 'leakproof', 'reusabl', 'stainless']\n",
      "['xmart', 'india', 'insul', 'coffe', 'mug']\n",
      "['wosta', 'insul', 'fat', 'bottom', 'blue', 'color']\n",
      "['wosta', 'insul', 'leakproof', 'insul', 'black']\n"
     ]
    }
   ],
   "source": [
    "def remove_stopwords(text):\n",
    "    stop_words = set(stopwords.words(\"english\"))\n",
    "    filtered_text = [word for word in text if word not in stop_words]\n",
    "    return filtered_text\n",
    "\n",
    "df[\"Nostopword_Text\"] = df[\"Tokenize_Text\"].apply(remove_stopwords)\n",
    "\n",
    "print(\"\\033[1m\\u001b[45;1m The First 5 Texts after removing the stopwords:\\033[0m\",*df[\"Nostopword_Text\"][:5], sep = \"\\n\")"
   ]
  },
  {
   "cell_type": "code",
   "execution_count": 33,
   "id": "1eb29cd5-164a-46a1-80a2-5d96e1a51dd8",
   "metadata": {},
   "outputs": [
    {
     "name": "stdout",
     "output_type": "stream",
     "text": [
      "\u001b[1m\u001b[45;1m The First 5 Texts after lemitization:\u001b[0m\n",
      "['borosil', 'hydra', 'stainless', 'steel', 'bottl']\n",
      "['tlater', 'insul', 'leakproof', 'reusabl', 'stainless']\n",
      "['xmart', 'india', 'insul', 'coffe', 'mug']\n",
      "['wosta', 'insul', 'fat', 'bottom', 'blue', 'color']\n",
      "['wosta', 'insul', 'leakproof', 'insul', 'black']\n"
     ]
    }
   ],
   "source": [
    "lemmatizer = WordNetLemmatizer()\n",
    "\n",
    "def lemmatize_word(text):\n",
    "    \n",
    "    lemmas = [lemmatizer.lemmatize(word, pos ='v') for word in text]\n",
    "    return lemmas\n",
    "\n",
    "df[\"Lemmatized_Text\"] = df[\"Nostopword_Text\"].apply(lemmatize_word)\n",
    "print(\"\\033[1m\\u001b[45;1m The First 5 Texts after lemitization:\\033[0m\",*df[\"Lemmatized_Text\"][:5], sep = \"\\n\")"
   ]
  },
  {
   "cell_type": "code",
   "execution_count": 35,
   "id": "f34f4ba2-447a-4755-8e95-92bcb7af836b",
   "metadata": {},
   "outputs": [
    {
     "name": "stdout",
     "output_type": "stream",
     "text": [
      "\u001b[1m\u001b[45;1m The First 5 lines in corpus :\u001b[0m\n",
      "borosil hydra stainless steel bottl\n",
      "tlater insul leakproof reusabl stainless\n",
      "xmart india insul coffe mug\n",
      "wosta insul fat bottom blue color\n",
      "wosta insul leakproof insul black\n"
     ]
    }
   ],
   "source": [
    "corpus= []\n",
    "for i in df[\"Lemmatized_Text\"]:\n",
    "    msg = ' '.join([row for row in i])\n",
    "    corpus.append(msg)\n",
    "    \n",
    "corpus[:5]\n",
    "print(\"\\033[1m\\u001b[45;1m The First 5 lines in corpus :\\033[0m\",*corpus[:5], sep = \"\\n\")"
   ]
  },
  {
   "cell_type": "code",
   "execution_count": 41,
   "id": "28dcd264-92d9-4436-9bd4-99bd471942b1",
   "metadata": {},
   "outputs": [
    {
     "data": {
      "text/plain": [
       "dtype('float64')"
      ]
     },
     "execution_count": 41,
     "metadata": {},
     "output_type": "execute_result"
    }
   ],
   "source": [
    "tfidf = TfidfVectorizer()\n",
    "X = tfidf.fit_transform(corpus).toarray()\n",
    "\n",
    "X.dtype"
   ]
  },
  {
   "cell_type": "code",
   "execution_count": 51,
   "id": "bc2ea605-c939-471d-bc8f-d5b57ed56fff",
   "metadata": {},
   "outputs": [],
   "source": [
    "label_encoder = LabelEncoder()\n",
    "df[\"website\"] = label_encoder.fit_transform(df[\"website\"])"
   ]
  },
  {
   "cell_type": "code",
   "execution_count": 59,
   "id": "dfd81df3-768c-4c61-8fda-ee79fdede6ae",
   "metadata": {},
   "outputs": [],
   "source": [
    "y = df[\"website\"] \n",
    "\n",
    "\n",
    "X_train, X_test, y_train, y_test = train_test_split(X, y, test_size=0.2, random_state=42)"
   ]
  },
  {
   "cell_type": "code",
   "execution_count": 77,
   "id": "d9a70548-a80b-4150-928f-bc1d91661786",
   "metadata": {},
   "outputs": [],
   "source": [
    "classifiers = [MultinomialNB(), \n",
    "               RandomForestClassifier(),\n",
    "               KNeighborsClassifier(), \n",
    "               SVC()]\n",
    "for cls in classifiers:\n",
    "    cls.fit(X_train, y_train)\n",
    "\n",
    "\n",
    "pipe_dict = {0: \"NaiveBayes\", 1: \"RandomForest\", 2: \"KNeighbours\",3: \"SVC\"}"
   ]
  },
  {
   "cell_type": "code",
   "execution_count": 83,
   "id": "af76db40-297f-41ec-b2e9-5274128efc19",
   "metadata": {},
   "outputs": [
    {
     "name": "stdout",
     "output_type": "stream",
     "text": [
      "NaiveBayes: 0.892500 \n",
      "RandomForest: 0.946250 \n",
      "KNeighbours: 0.745000 \n",
      "SVC: 0.941250 \n"
     ]
    }
   ],
   "source": [
    "for i, model in enumerate(classifiers):\n",
    "    cv_score = cross_val_score(model, X_train,y_train,scoring=\"accuracy\", cv=10)\n",
    "    print(\"%s: %f \" % (pipe_dict[i], cv_score.mean()))"
   ]
  },
  {
   "cell_type": "code",
   "execution_count": 529,
   "id": "bcb314f4-1f29-406e-912f-819d6e209318",
   "metadata": {},
   "outputs": [],
   "source": [
    "#We got the result lets check the accuracy"
   ]
  },
  {
   "cell_type": "code",
   "execution_count": 89,
   "id": "fafaf7c8-78b6-4348-8fa6-fdcee7296733",
   "metadata": {},
   "outputs": [],
   "source": [
    "precision =[]\n",
    "recall =[]\n",
    "f1_score = []\n",
    "trainset_accuracy = []\n",
    "testset_accuracy = []\n",
    "\n",
    "for i in classifiers:\n",
    "    pred_train = i.predict(X_train)\n",
    "    pred_test = i.predict(X_test)\n",
    "    prec = metrics.precision_score(y_test, pred_test)\n",
    "    recal = metrics.recall_score(y_test, pred_test)\n",
    "    f1_s = metrics.f1_score(y_test, pred_test)\n",
    "    train_accuracy = model.score(X_train,y_train)\n",
    "    test_accuracy = model.score(X_test,y_test)\n",
    "  \n",
    "    #Appending scores\n",
    "    precision.append(prec)\n",
    "    recall.append(recal)\n",
    "    f1_score.append(f1_s)\n",
    "    trainset_accuracy.append(train_accuracy)\n",
    "    testset_accuracy.append(test_accuracy)"
   ]
  },
  {
   "cell_type": "code",
   "execution_count": 91,
   "id": "78879f0b-a33a-49f2-a7b6-6055d3c1f740",
   "metadata": {},
   "outputs": [],
   "source": [
    "data = {'Precision':precision,\n",
    "'Recall':recall,\n",
    "'F1score':f1_score,\n",
    "'Accuracy on Testset':testset_accuracy,\n",
    "'Accuracy on Trainset':trainset_accuracy}\n",
    "# Creates pandas DataFrame.\n",
    "Results = pd.DataFrame(data, index =[\"NaiveBayes\", \"RandomForest\", \"KNeighbours\",\"SVC\"])"
   ]
  },
  {
   "cell_type": "code",
   "execution_count": 99,
   "id": "a1b8f022-5d78-41ac-bf35-103fc110434c",
   "metadata": {},
   "outputs": [
    {
     "data": {
      "text/html": [
       "<style type=\"text/css\">\n",
       "#T_d7fe6_row0_col0, #T_d7fe6_row0_col2, #T_d7fe6_row1_col0, #T_d7fe6_row1_col1, #T_d7fe6_row1_col2, #T_d7fe6_row2_col1, #T_d7fe6_row3_col0, #T_d7fe6_row3_col1, #T_d7fe6_row3_col2 {\n",
       "  background-color: #ffdd00;\n",
       "  color: #000000;\n",
       "}\n",
       "#T_d7fe6_row0_col1, #T_d7fe6_row0_col3, #T_d7fe6_row0_col4, #T_d7fe6_row1_col3, #T_d7fe6_row1_col4, #T_d7fe6_row2_col0, #T_d7fe6_row2_col2, #T_d7fe6_row2_col3, #T_d7fe6_row2_col4, #T_d7fe6_row3_col3, #T_d7fe6_row3_col4 {\n",
       "  background-color: #9100ff;\n",
       "  color: #f1f1f1;\n",
       "}\n",
       "</style>\n",
       "<table id=\"T_d7fe6\">\n",
       "  <thead>\n",
       "    <tr>\n",
       "      <th class=\"blank level0\" >&nbsp;</th>\n",
       "      <th id=\"T_d7fe6_level0_col0\" class=\"col_heading level0 col0\" >Precision</th>\n",
       "      <th id=\"T_d7fe6_level0_col1\" class=\"col_heading level0 col1\" >Recall</th>\n",
       "      <th id=\"T_d7fe6_level0_col2\" class=\"col_heading level0 col2\" >F1score</th>\n",
       "      <th id=\"T_d7fe6_level0_col3\" class=\"col_heading level0 col3\" >Accuracy on Testset</th>\n",
       "      <th id=\"T_d7fe6_level0_col4\" class=\"col_heading level0 col4\" >Accuracy on Trainset</th>\n",
       "    </tr>\n",
       "  </thead>\n",
       "  <tbody>\n",
       "    <tr>\n",
       "      <th id=\"T_d7fe6_level0_row0\" class=\"row_heading level0 row0\" >NaiveBayes</th>\n",
       "      <td id=\"T_d7fe6_row0_col0\" class=\"data row0 col0\" >0.954545</td>\n",
       "      <td id=\"T_d7fe6_row0_col1\" class=\"data row0 col1\" >0.807692</td>\n",
       "      <td id=\"T_d7fe6_row0_col2\" class=\"data row0 col2\" >0.875000</td>\n",
       "      <td id=\"T_d7fe6_row0_col3\" class=\"data row0 col3\" >0.920000</td>\n",
       "      <td id=\"T_d7fe6_row0_col4\" class=\"data row0 col4\" >0.981250</td>\n",
       "    </tr>\n",
       "    <tr>\n",
       "      <th id=\"T_d7fe6_level0_row1\" class=\"row_heading level0 row1\" >RandomForest</th>\n",
       "      <td id=\"T_d7fe6_row1_col0\" class=\"data row1 col0\" >0.859504</td>\n",
       "      <td id=\"T_d7fe6_row1_col1\" class=\"data row1 col1\" >1.000000</td>\n",
       "      <td id=\"T_d7fe6_row1_col2\" class=\"data row1 col2\" >0.924444</td>\n",
       "      <td id=\"T_d7fe6_row1_col3\" class=\"data row1 col3\" >0.920000</td>\n",
       "      <td id=\"T_d7fe6_row1_col4\" class=\"data row1 col4\" >0.981250</td>\n",
       "    </tr>\n",
       "    <tr>\n",
       "      <th id=\"T_d7fe6_level0_row2\" class=\"row_heading level0 row2\" >KNeighbours</th>\n",
       "      <td id=\"T_d7fe6_row2_col0\" class=\"data row2 col0\" >0.654088</td>\n",
       "      <td id=\"T_d7fe6_row2_col1\" class=\"data row2 col1\" >1.000000</td>\n",
       "      <td id=\"T_d7fe6_row2_col2\" class=\"data row2 col2\" >0.790875</td>\n",
       "      <td id=\"T_d7fe6_row2_col3\" class=\"data row2 col3\" >0.920000</td>\n",
       "      <td id=\"T_d7fe6_row2_col4\" class=\"data row2 col4\" >0.981250</td>\n",
       "    </tr>\n",
       "    <tr>\n",
       "      <th id=\"T_d7fe6_level0_row3\" class=\"row_heading level0 row3\" >SVC</th>\n",
       "      <td id=\"T_d7fe6_row3_col0\" class=\"data row3 col0\" >0.866667</td>\n",
       "      <td id=\"T_d7fe6_row3_col1\" class=\"data row3 col1\" >1.000000</td>\n",
       "      <td id=\"T_d7fe6_row3_col2\" class=\"data row3 col2\" >0.928571</td>\n",
       "      <td id=\"T_d7fe6_row3_col3\" class=\"data row3 col3\" >0.920000</td>\n",
       "      <td id=\"T_d7fe6_row3_col4\" class=\"data row3 col4\" >0.981250</td>\n",
       "    </tr>\n",
       "  </tbody>\n",
       "</table>\n"
      ],
      "text/plain": [
       "<pandas.io.formats.style.Styler at 0x284343c7230>"
      ]
     },
     "execution_count": 99,
     "metadata": {},
     "output_type": "execute_result"
    }
   ],
   "source": [
    "cmap2 = ListedColormap([\"#9100FF\",\"#FFDD00\"])\n",
    "Results.style.background_gradient(cmap=cmap2)"
   ]
  },
  {
   "cell_type": "code",
   "execution_count": 185,
   "id": "1ad80d30-ff07-45c2-a48c-0fd777370b5a",
   "metadata": {},
   "outputs": [
    {
     "name": "stdout",
     "output_type": "stream",
     "text": [
      "\u001b[4m\u001b[1m\u001b[93m\n",
      "machine learning method results\u001b[0m\n"
     ]
    }
   ],
   "source": [
    "print(colored(\"\\nmachine learning method results\", color = \"light_yellow\", attrs = [\"bold\", \"underline\"]))"
   ]
  },
  {
   "cell_type": "code",
   "execution_count": null,
   "id": "aa654606-f776-422d-b87f-da249586da8a",
   "metadata": {},
   "outputs": [],
   "source": []
  },
  {
   "cell_type": "code",
   "execution_count": null,
   "id": "d2adf5a5-53ed-4eec-9931-8c36883af48f",
   "metadata": {},
   "outputs": [],
   "source": []
  },
  {
   "cell_type": "code",
   "execution_count": 531,
   "id": "bcfecf9a-38fa-4aef-a194-1ddfa569f1ab",
   "metadata": {},
   "outputs": [],
   "source": [
    "#######################################################################################################################################################"
   ]
  },
  {
   "cell_type": "code",
   "execution_count": null,
   "id": "d6b7cbbd-5a08-43b3-8026-353e2d6e0181",
   "metadata": {},
   "outputs": [],
   "source": []
  },
  {
   "cell_type": "code",
   "execution_count": null,
   "id": "60dd8e08-93a1-4f7d-af9f-38c295cc41da",
   "metadata": {},
   "outputs": [],
   "source": []
  },
  {
   "cell_type": "code",
   "execution_count": null,
   "id": "a82d71fa-fa00-45ec-9aee-21d9ca8ff011",
   "metadata": {},
   "outputs": [],
   "source": [
    "data[\"text\"] = data[\"text\"].apply(lambda x: \" \".join(x.lower() for x in x.split()))"
   ]
  },
  {
   "cell_type": "code",
   "execution_count": 619,
   "id": "d27f4a5f-cec5-4f4c-b01f-fee8141a1ae4",
   "metadata": {},
   "outputs": [],
   "source": [
    "from sklearn.model_selection import train_test_split\n",
    "X_train, X_test, y_train, y_test = train_test_split(X, y, test_size=0.33, random_state=42)"
   ]
  },
  {
   "cell_type": "code",
   "execution_count": 623,
   "id": "9548a95b-b763-47ed-a014-2090e4114df4",
   "metadata": {},
   "outputs": [
    {
     "name": "stdout",
     "output_type": "stream",
     "text": [
      "Epoch 1/10\n"
     ]
    },
    {
     "name": "stderr",
     "output_type": "stream",
     "text": [
      "C:\\Users\\range\\AppData\\Roaming\\Python\\Python312\\site-packages\\keras\\src\\layers\\core\\dense.py:87: UserWarning: Do not pass an `input_shape`/`input_dim` argument to a layer. When using Sequential models, prefer using an `Input(shape)` object as the first layer in the model instead.\n",
      "  super().__init__(activity_regularizer=activity_regularizer, **kwargs)\n"
     ]
    },
    {
     "name": "stdout",
     "output_type": "stream",
     "text": [
      "\u001b[1m500/500\u001b[0m \u001b[32m━━━━━━━━━━━━━━━━━━━━\u001b[0m\u001b[37m\u001b[0m \u001b[1m2s\u001b[0m 2ms/step - accuracy: 0.6890 - loss: 0.6413\n",
      "Epoch 2/10\n",
      "\u001b[1m500/500\u001b[0m \u001b[32m━━━━━━━━━━━━━━━━━━━━\u001b[0m\u001b[37m\u001b[0m \u001b[1m1s\u001b[0m 1ms/step - accuracy: 0.9712 - loss: 0.2475\n",
      "Epoch 3/10\n",
      "\u001b[1m500/500\u001b[0m \u001b[32m━━━━━━━━━━━━━━━━━━━━\u001b[0m\u001b[37m\u001b[0m \u001b[1m1s\u001b[0m 1ms/step - accuracy: 0.9740 - loss: 0.1156\n",
      "Epoch 4/10\n",
      "\u001b[1m500/500\u001b[0m \u001b[32m━━━━━━━━━━━━━━━━━━━━\u001b[0m\u001b[37m\u001b[0m \u001b[1m1s\u001b[0m 1ms/step - accuracy: 0.9822 - loss: 0.0774\n",
      "Epoch 5/10\n",
      "\u001b[1m500/500\u001b[0m \u001b[32m━━━━━━━━━━━━━━━━━━━━\u001b[0m\u001b[37m\u001b[0m \u001b[1m1s\u001b[0m 1ms/step - accuracy: 0.9760 - loss: 0.0719\n",
      "Epoch 6/10\n",
      "\u001b[1m500/500\u001b[0m \u001b[32m━━━━━━━━━━━━━━━━━━━━\u001b[0m\u001b[37m\u001b[0m \u001b[1m1s\u001b[0m 1ms/step - accuracy: 0.9832 - loss: 0.0551\n",
      "Epoch 7/10\n",
      "\u001b[1m500/500\u001b[0m \u001b[32m━━━━━━━━━━━━━━━━━━━━\u001b[0m\u001b[37m\u001b[0m \u001b[1m1s\u001b[0m 1ms/step - accuracy: 0.9834 - loss: 0.0530\n",
      "Epoch 8/10\n",
      "\u001b[1m500/500\u001b[0m \u001b[32m━━━━━━━━━━━━━━━━━━━━\u001b[0m\u001b[37m\u001b[0m \u001b[1m1s\u001b[0m 1ms/step - accuracy: 0.9801 - loss: 0.0556\n",
      "Epoch 9/10\n",
      "\u001b[1m500/500\u001b[0m \u001b[32m━━━━━━━━━━━━━━━━━━━━\u001b[0m\u001b[37m\u001b[0m \u001b[1m1s\u001b[0m 2ms/step - accuracy: 0.9696 - loss: 0.0794\n",
      "Epoch 10/10\n",
      "\u001b[1m500/500\u001b[0m \u001b[32m━━━━━━━━━━━━━━━━━━━━\u001b[0m\u001b[37m\u001b[0m \u001b[1m1s\u001b[0m 1ms/step - accuracy: 0.9799 - loss: 0.0532\n"
     ]
    },
    {
     "data": {
      "text/plain": [
       "<keras.src.callbacks.history.History at 0x28495083b30>"
      ]
     },
     "execution_count": 623,
     "metadata": {},
     "output_type": "execute_result"
    }
   ],
   "source": [
    "from keras.models import Sequential\n",
    "from keras.layers import Dense, Dropout\n",
    "\n",
    "model = Sequential()\n",
    "model.add(Dense(64, activation='relu', input_shape=(1213,))) \n",
    "model.add(Dropout(0.3))\n",
    "model.add(Dense(1, activation='sigmoid')) \n",
    "\n",
    "model.compile(optimizer='adam', loss='binary_crossentropy', metrics=['accuracy'])\n",
    "\n",
    "model.fit(X, y, epochs=10, batch_size=2)\n"
   ]
  },
  {
   "cell_type": "code",
   "execution_count": 633,
   "id": "3a677ad4-6b8c-4605-be20-95e3fa4cf77a",
   "metadata": {},
   "outputs": [
    {
     "name": "stdout",
     "output_type": "stream",
     "text": [
      "Epoch 1/10\n",
      "\u001b[1m21/21\u001b[0m \u001b[32m━━━━━━━━━━━━━━━━━━━━\u001b[0m\u001b[37m\u001b[0m \u001b[1m1s\u001b[0m 16ms/step - accuracy: 0.9816 - loss: 0.0565 - val_accuracy: 0.9818 - val_loss: 0.0495\n",
      "Epoch 2/10\n",
      "\u001b[1m21/21\u001b[0m \u001b[32m━━━━━━━━━━━━━━━━━━━━\u001b[0m\u001b[37m\u001b[0m \u001b[1m0s\u001b[0m 9ms/step - accuracy: 0.9816 - loss: 0.0493 - val_accuracy: 0.9818 - val_loss: 0.0495\n",
      "Epoch 3/10\n",
      "\u001b[1m21/21\u001b[0m \u001b[32m━━━━━━━━━━━━━━━━━━━━\u001b[0m\u001b[37m\u001b[0m \u001b[1m0s\u001b[0m 8ms/step - accuracy: 0.9802 - loss: 0.0571 - val_accuracy: 0.9818 - val_loss: 0.0494\n",
      "Epoch 4/10\n",
      "\u001b[1m21/21\u001b[0m \u001b[32m━━━━━━━━━━━━━━━━━━━━\u001b[0m\u001b[37m\u001b[0m \u001b[1m0s\u001b[0m 8ms/step - accuracy: 0.9737 - loss: 0.0719 - val_accuracy: 0.9818 - val_loss: 0.0494\n",
      "Epoch 5/10\n",
      "\u001b[1m21/21\u001b[0m \u001b[32m━━━━━━━━━━━━━━━━━━━━\u001b[0m\u001b[37m\u001b[0m \u001b[1m0s\u001b[0m 10ms/step - accuracy: 0.9802 - loss: 0.0527 - val_accuracy: 0.9818 - val_loss: 0.0494\n",
      "Epoch 6/10\n",
      "\u001b[1m21/21\u001b[0m \u001b[32m━━━━━━━━━━━━━━━━━━━━\u001b[0m\u001b[37m\u001b[0m \u001b[1m0s\u001b[0m 8ms/step - accuracy: 0.9837 - loss: 0.0491 - val_accuracy: 0.9818 - val_loss: 0.0494\n",
      "Epoch 7/10\n",
      "\u001b[1m21/21\u001b[0m \u001b[32m━━━━━━━━━━━━━━━━━━━━\u001b[0m\u001b[37m\u001b[0m \u001b[1m0s\u001b[0m 9ms/step - accuracy: 0.9767 - loss: 0.0533 - val_accuracy: 0.9818 - val_loss: 0.0494\n",
      "Epoch 8/10\n",
      "\u001b[1m21/21\u001b[0m \u001b[32m━━━━━━━━━━━━━━━━━━━━\u001b[0m\u001b[37m\u001b[0m \u001b[1m0s\u001b[0m 9ms/step - accuracy: 0.9856 - loss: 0.0453 - val_accuracy: 0.9818 - val_loss: 0.0494\n",
      "Epoch 9/10\n",
      "\u001b[1m21/21\u001b[0m \u001b[32m━━━━━━━━━━━━━━━━━━━━\u001b[0m\u001b[37m\u001b[0m \u001b[1m0s\u001b[0m 9ms/step - accuracy: 0.9809 - loss: 0.0534 - val_accuracy: 0.9818 - val_loss: 0.0493\n",
      "Epoch 10/10\n",
      "\u001b[1m21/21\u001b[0m \u001b[32m━━━━━━━━━━━━━━━━━━━━\u001b[0m\u001b[37m\u001b[0m \u001b[1m0s\u001b[0m 8ms/step - accuracy: 0.9800 - loss: 0.0560 - val_accuracy: 0.9818 - val_loss: 0.0494\n"
     ]
    }
   ],
   "source": [
    "history = model.fit(X_train, y_train, \n",
    "                    validation_data=(X_test, y_test),\n",
    "                    epochs=10, batch_size=32)\n"
   ]
  },
  {
   "cell_type": "code",
   "execution_count": 641,
   "id": "7fdd7ae0-70f7-4aa6-b5d6-5e1fd58b577e",
   "metadata": {},
   "outputs": [
    {
     "data": {
      "image/png": "[encoded data removed]",
      "text/plain": [
       "<Figure size 640x480 with 1 Axes>"
      ]
     },
     "metadata": {},
     "output_type": "display_data"
    }
   ],
   "source": [
    "import matplotlib.pyplot as plt\n",
    "\n",
    "plt.plot(history.history['loss'], label='Train Loss')\n",
    "plt.plot(history.history['val_loss'], label='Val Loss')\n",
    "plt.title('Model Loss (Binary Crossentropy)')\n",
    "plt.ylabel('Loss')\n",
    "plt.xlabel('Epoch')\n",
    "plt.legend()\n",
    "plt.show()\n"
   ]
  },
  {
   "cell_type": "code",
   "execution_count": null,
   "id": "17c99223-981d-48e6-bc7d-39738e668d3e",
   "metadata": {},
   "outputs": [],
   "source": []
  }
 ],
 "metadata": {
  "kernelspec": {
   "display_name": "Python 3 (ipykernel)",
   "language": "python",
   "name": "python3"
  },
  "language_info": {
   "codemirror_mode": {
    "name": "ipython",
    "version": 3
   },
   "file_extension": ".py",
   "mimetype": "text/x-python",
   "name": "python",
   "nbconvert_exporter": "python",
   "pygments_lexer": "ipython3",
   "version": "3.12.7"
  }
 },
 "nbformat": 4,
 "nbformat_minor": 5
}
